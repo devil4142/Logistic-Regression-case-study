{
  "nbformat": 4,
  "nbformat_minor": 0,
  "metadata": {
    "colab": {
      "provenance": [],
      "toc_visible": true
    },
    "kernelspec": {
      "name": "python3",
      "display_name": "Python 3"
    },
    "language_info": {
      "name": "python"
    }
  },
  "cells": [
    {
      "cell_type": "markdown",
      "source": [
        "## Problem - Customer Churn\n",
        "\n",
        "We work for a fictitious telecommunications company \n",
        "\n",
        "One of the most important goals of the company is to increase customer loyalty. \n",
        "\n",
        "One strategy to achieve this goal is to identify customers who are likely to churn and approach them before they leave.\n",
        "\n",
        "To do this, we'll look at historical customer data and see if we can develop a model that predicts churn based on various customer factors such as contract length, monthly payments, demographic information, etc.\n",
        "\n",
        "This model would then help us to identify customers with a high risk of churn early enough so marketing could still address them e.g. with promotional packages."
      ],
      "metadata": {
        "id": "LdIhbgGBG9E2"
      }
    },
    {
      "cell_type": "markdown",
      "source": [
        "## Import Packages"
      ],
      "metadata": {
        "id": "ij0UcVCgHA-V"
      }
    },
    {
      "cell_type": "code",
      "execution_count": 1,
      "metadata": {
        "id": "T9Jkr5px_56I"
      },
      "outputs": [],
      "source": [
        "import numpy as np\n",
        "import pandas as pd\n",
        "import statsmodels.api as sm\n",
        "import matplotlib.pyplot as plt"
      ]
    },
    {
      "cell_type": "markdown",
      "source": [
        "## Get Data"
      ],
      "metadata": {
        "id": "uK0mXGp4HF2D"
      }
    },
    {
      "cell_type": "code",
      "source": [
        "df = pd.read_csv(\"https://raw.githubusercontent.com/IBM/telco-customer-churn-on-icp4d/master/data/Telco-Customer-Churn.csv\")"
      ],
      "metadata": {
        "id": "Y58TZsa728OB"
      },
      "execution_count": 2,
      "outputs": []
    },
    {
      "cell_type": "code",
      "source": [
        "df"
      ],
      "metadata": {
        "id": "PQHskW3jAi6s",
        "colab": {
          "base_uri": "https://localhost:8080/",
          "height": 636
        },
        "outputId": "9b0df8f2-b57f-4efb-de72-a61484c4d459"
      },
      "execution_count": 3,
      "outputs": [
        {
          "output_type": "execute_result",
          "data": {
            "text/plain": [
              "      customerID  gender  SeniorCitizen Partner Dependents  tenure  \\\n",
              "0     7590-VHVEG  Female              0     Yes         No       1   \n",
              "1     5575-GNVDE    Male              0      No         No      34   \n",
              "2     3668-QPYBK    Male              0      No         No       2   \n",
              "3     7795-CFOCW    Male              0      No         No      45   \n",
              "4     9237-HQITU  Female              0      No         No       2   \n",
              "...          ...     ...            ...     ...        ...     ...   \n",
              "7038  6840-RESVB    Male              0     Yes        Yes      24   \n",
              "7039  2234-XADUH  Female              0     Yes        Yes      72   \n",
              "7040  4801-JZAZL  Female              0     Yes        Yes      11   \n",
              "7041  8361-LTMKD    Male              1     Yes         No       4   \n",
              "7042  3186-AJIEK    Male              0      No         No      66   \n",
              "\n",
              "     PhoneService     MultipleLines InternetService OnlineSecurity  ...  \\\n",
              "0              No  No phone service             DSL             No  ...   \n",
              "1             Yes                No             DSL            Yes  ...   \n",
              "2             Yes                No             DSL            Yes  ...   \n",
              "3              No  No phone service             DSL            Yes  ...   \n",
              "4             Yes                No     Fiber optic             No  ...   \n",
              "...           ...               ...             ...            ...  ...   \n",
              "7038          Yes               Yes             DSL            Yes  ...   \n",
              "7039          Yes               Yes     Fiber optic             No  ...   \n",
              "7040           No  No phone service             DSL            Yes  ...   \n",
              "7041          Yes               Yes     Fiber optic             No  ...   \n",
              "7042          Yes                No     Fiber optic            Yes  ...   \n",
              "\n",
              "     DeviceProtection TechSupport StreamingTV StreamingMovies        Contract  \\\n",
              "0                  No          No          No              No  Month-to-month   \n",
              "1                 Yes          No          No              No        One year   \n",
              "2                  No          No          No              No  Month-to-month   \n",
              "3                 Yes         Yes          No              No        One year   \n",
              "4                  No          No          No              No  Month-to-month   \n",
              "...               ...         ...         ...             ...             ...   \n",
              "7038              Yes         Yes         Yes             Yes        One year   \n",
              "7039              Yes          No         Yes             Yes        One year   \n",
              "7040               No          No          No              No  Month-to-month   \n",
              "7041               No          No          No              No  Month-to-month   \n",
              "7042              Yes         Yes         Yes             Yes        Two year   \n",
              "\n",
              "     PaperlessBilling              PaymentMethod MonthlyCharges  TotalCharges  \\\n",
              "0                 Yes           Electronic check          29.85         29.85   \n",
              "1                  No               Mailed check          56.95        1889.5   \n",
              "2                 Yes               Mailed check          53.85        108.15   \n",
              "3                  No  Bank transfer (automatic)          42.30       1840.75   \n",
              "4                 Yes           Electronic check          70.70        151.65   \n",
              "...               ...                        ...            ...           ...   \n",
              "7038              Yes               Mailed check          84.80        1990.5   \n",
              "7039              Yes    Credit card (automatic)         103.20        7362.9   \n",
              "7040              Yes           Electronic check          29.60        346.45   \n",
              "7041              Yes               Mailed check          74.40         306.6   \n",
              "7042              Yes  Bank transfer (automatic)         105.65        6844.5   \n",
              "\n",
              "     Churn  \n",
              "0       No  \n",
              "1       No  \n",
              "2      Yes  \n",
              "3       No  \n",
              "4      Yes  \n",
              "...    ...  \n",
              "7038    No  \n",
              "7039    No  \n",
              "7040    No  \n",
              "7041   Yes  \n",
              "7042    No  \n",
              "\n",
              "[7043 rows x 21 columns]"
            ],
            "text/html": [
              "\n",
              "  <div id=\"df-232b0f39-248a-4111-8609-2c87c5e4a8dc\">\n",
              "    <div class=\"colab-df-container\">\n",
              "      <div>\n",
              "<style scoped>\n",
              "    .dataframe tbody tr th:only-of-type {\n",
              "        vertical-align: middle;\n",
              "    }\n",
              "\n",
              "    .dataframe tbody tr th {\n",
              "        vertical-align: top;\n",
              "    }\n",
              "\n",
              "    .dataframe thead th {\n",
              "        text-align: right;\n",
              "    }\n",
              "</style>\n",
              "<table border=\"1\" class=\"dataframe\">\n",
              "  <thead>\n",
              "    <tr style=\"text-align: right;\">\n",
              "      <th></th>\n",
              "      <th>customerID</th>\n",
              "      <th>gender</th>\n",
              "      <th>SeniorCitizen</th>\n",
              "      <th>Partner</th>\n",
              "      <th>Dependents</th>\n",
              "      <th>tenure</th>\n",
              "      <th>PhoneService</th>\n",
              "      <th>MultipleLines</th>\n",
              "      <th>InternetService</th>\n",
              "      <th>OnlineSecurity</th>\n",
              "      <th>...</th>\n",
              "      <th>DeviceProtection</th>\n",
              "      <th>TechSupport</th>\n",
              "      <th>StreamingTV</th>\n",
              "      <th>StreamingMovies</th>\n",
              "      <th>Contract</th>\n",
              "      <th>PaperlessBilling</th>\n",
              "      <th>PaymentMethod</th>\n",
              "      <th>MonthlyCharges</th>\n",
              "      <th>TotalCharges</th>\n",
              "      <th>Churn</th>\n",
              "    </tr>\n",
              "  </thead>\n",
              "  <tbody>\n",
              "    <tr>\n",
              "      <th>0</th>\n",
              "      <td>7590-VHVEG</td>\n",
              "      <td>Female</td>\n",
              "      <td>0</td>\n",
              "      <td>Yes</td>\n",
              "      <td>No</td>\n",
              "      <td>1</td>\n",
              "      <td>No</td>\n",
              "      <td>No phone service</td>\n",
              "      <td>DSL</td>\n",
              "      <td>No</td>\n",
              "      <td>...</td>\n",
              "      <td>No</td>\n",
              "      <td>No</td>\n",
              "      <td>No</td>\n",
              "      <td>No</td>\n",
              "      <td>Month-to-month</td>\n",
              "      <td>Yes</td>\n",
              "      <td>Electronic check</td>\n",
              "      <td>29.85</td>\n",
              "      <td>29.85</td>\n",
              "      <td>No</td>\n",
              "    </tr>\n",
              "    <tr>\n",
              "      <th>1</th>\n",
              "      <td>5575-GNVDE</td>\n",
              "      <td>Male</td>\n",
              "      <td>0</td>\n",
              "      <td>No</td>\n",
              "      <td>No</td>\n",
              "      <td>34</td>\n",
              "      <td>Yes</td>\n",
              "      <td>No</td>\n",
              "      <td>DSL</td>\n",
              "      <td>Yes</td>\n",
              "      <td>...</td>\n",
              "      <td>Yes</td>\n",
              "      <td>No</td>\n",
              "      <td>No</td>\n",
              "      <td>No</td>\n",
              "      <td>One year</td>\n",
              "      <td>No</td>\n",
              "      <td>Mailed check</td>\n",
              "      <td>56.95</td>\n",
              "      <td>1889.5</td>\n",
              "      <td>No</td>\n",
              "    </tr>\n",
              "    <tr>\n",
              "      <th>2</th>\n",
              "      <td>3668-QPYBK</td>\n",
              "      <td>Male</td>\n",
              "      <td>0</td>\n",
              "      <td>No</td>\n",
              "      <td>No</td>\n",
              "      <td>2</td>\n",
              "      <td>Yes</td>\n",
              "      <td>No</td>\n",
              "      <td>DSL</td>\n",
              "      <td>Yes</td>\n",
              "      <td>...</td>\n",
              "      <td>No</td>\n",
              "      <td>No</td>\n",
              "      <td>No</td>\n",
              "      <td>No</td>\n",
              "      <td>Month-to-month</td>\n",
              "      <td>Yes</td>\n",
              "      <td>Mailed check</td>\n",
              "      <td>53.85</td>\n",
              "      <td>108.15</td>\n",
              "      <td>Yes</td>\n",
              "    </tr>\n",
              "    <tr>\n",
              "      <th>3</th>\n",
              "      <td>7795-CFOCW</td>\n",
              "      <td>Male</td>\n",
              "      <td>0</td>\n",
              "      <td>No</td>\n",
              "      <td>No</td>\n",
              "      <td>45</td>\n",
              "      <td>No</td>\n",
              "      <td>No phone service</td>\n",
              "      <td>DSL</td>\n",
              "      <td>Yes</td>\n",
              "      <td>...</td>\n",
              "      <td>Yes</td>\n",
              "      <td>Yes</td>\n",
              "      <td>No</td>\n",
              "      <td>No</td>\n",
              "      <td>One year</td>\n",
              "      <td>No</td>\n",
              "      <td>Bank transfer (automatic)</td>\n",
              "      <td>42.30</td>\n",
              "      <td>1840.75</td>\n",
              "      <td>No</td>\n",
              "    </tr>\n",
              "    <tr>\n",
              "      <th>4</th>\n",
              "      <td>9237-HQITU</td>\n",
              "      <td>Female</td>\n",
              "      <td>0</td>\n",
              "      <td>No</td>\n",
              "      <td>No</td>\n",
              "      <td>2</td>\n",
              "      <td>Yes</td>\n",
              "      <td>No</td>\n",
              "      <td>Fiber optic</td>\n",
              "      <td>No</td>\n",
              "      <td>...</td>\n",
              "      <td>No</td>\n",
              "      <td>No</td>\n",
              "      <td>No</td>\n",
              "      <td>No</td>\n",
              "      <td>Month-to-month</td>\n",
              "      <td>Yes</td>\n",
              "      <td>Electronic check</td>\n",
              "      <td>70.70</td>\n",
              "      <td>151.65</td>\n",
              "      <td>Yes</td>\n",
              "    </tr>\n",
              "    <tr>\n",
              "      <th>...</th>\n",
              "      <td>...</td>\n",
              "      <td>...</td>\n",
              "      <td>...</td>\n",
              "      <td>...</td>\n",
              "      <td>...</td>\n",
              "      <td>...</td>\n",
              "      <td>...</td>\n",
              "      <td>...</td>\n",
              "      <td>...</td>\n",
              "      <td>...</td>\n",
              "      <td>...</td>\n",
              "      <td>...</td>\n",
              "      <td>...</td>\n",
              "      <td>...</td>\n",
              "      <td>...</td>\n",
              "      <td>...</td>\n",
              "      <td>...</td>\n",
              "      <td>...</td>\n",
              "      <td>...</td>\n",
              "      <td>...</td>\n",
              "      <td>...</td>\n",
              "    </tr>\n",
              "    <tr>\n",
              "      <th>7038</th>\n",
              "      <td>6840-RESVB</td>\n",
              "      <td>Male</td>\n",
              "      <td>0</td>\n",
              "      <td>Yes</td>\n",
              "      <td>Yes</td>\n",
              "      <td>24</td>\n",
              "      <td>Yes</td>\n",
              "      <td>Yes</td>\n",
              "      <td>DSL</td>\n",
              "      <td>Yes</td>\n",
              "      <td>...</td>\n",
              "      <td>Yes</td>\n",
              "      <td>Yes</td>\n",
              "      <td>Yes</td>\n",
              "      <td>Yes</td>\n",
              "      <td>One year</td>\n",
              "      <td>Yes</td>\n",
              "      <td>Mailed check</td>\n",
              "      <td>84.80</td>\n",
              "      <td>1990.5</td>\n",
              "      <td>No</td>\n",
              "    </tr>\n",
              "    <tr>\n",
              "      <th>7039</th>\n",
              "      <td>2234-XADUH</td>\n",
              "      <td>Female</td>\n",
              "      <td>0</td>\n",
              "      <td>Yes</td>\n",
              "      <td>Yes</td>\n",
              "      <td>72</td>\n",
              "      <td>Yes</td>\n",
              "      <td>Yes</td>\n",
              "      <td>Fiber optic</td>\n",
              "      <td>No</td>\n",
              "      <td>...</td>\n",
              "      <td>Yes</td>\n",
              "      <td>No</td>\n",
              "      <td>Yes</td>\n",
              "      <td>Yes</td>\n",
              "      <td>One year</td>\n",
              "      <td>Yes</td>\n",
              "      <td>Credit card (automatic)</td>\n",
              "      <td>103.20</td>\n",
              "      <td>7362.9</td>\n",
              "      <td>No</td>\n",
              "    </tr>\n",
              "    <tr>\n",
              "      <th>7040</th>\n",
              "      <td>4801-JZAZL</td>\n",
              "      <td>Female</td>\n",
              "      <td>0</td>\n",
              "      <td>Yes</td>\n",
              "      <td>Yes</td>\n",
              "      <td>11</td>\n",
              "      <td>No</td>\n",
              "      <td>No phone service</td>\n",
              "      <td>DSL</td>\n",
              "      <td>Yes</td>\n",
              "      <td>...</td>\n",
              "      <td>No</td>\n",
              "      <td>No</td>\n",
              "      <td>No</td>\n",
              "      <td>No</td>\n",
              "      <td>Month-to-month</td>\n",
              "      <td>Yes</td>\n",
              "      <td>Electronic check</td>\n",
              "      <td>29.60</td>\n",
              "      <td>346.45</td>\n",
              "      <td>No</td>\n",
              "    </tr>\n",
              "    <tr>\n",
              "      <th>7041</th>\n",
              "      <td>8361-LTMKD</td>\n",
              "      <td>Male</td>\n",
              "      <td>1</td>\n",
              "      <td>Yes</td>\n",
              "      <td>No</td>\n",
              "      <td>4</td>\n",
              "      <td>Yes</td>\n",
              "      <td>Yes</td>\n",
              "      <td>Fiber optic</td>\n",
              "      <td>No</td>\n",
              "      <td>...</td>\n",
              "      <td>No</td>\n",
              "      <td>No</td>\n",
              "      <td>No</td>\n",
              "      <td>No</td>\n",
              "      <td>Month-to-month</td>\n",
              "      <td>Yes</td>\n",
              "      <td>Mailed check</td>\n",
              "      <td>74.40</td>\n",
              "      <td>306.6</td>\n",
              "      <td>Yes</td>\n",
              "    </tr>\n",
              "    <tr>\n",
              "      <th>7042</th>\n",
              "      <td>3186-AJIEK</td>\n",
              "      <td>Male</td>\n",
              "      <td>0</td>\n",
              "      <td>No</td>\n",
              "      <td>No</td>\n",
              "      <td>66</td>\n",
              "      <td>Yes</td>\n",
              "      <td>No</td>\n",
              "      <td>Fiber optic</td>\n",
              "      <td>Yes</td>\n",
              "      <td>...</td>\n",
              "      <td>Yes</td>\n",
              "      <td>Yes</td>\n",
              "      <td>Yes</td>\n",
              "      <td>Yes</td>\n",
              "      <td>Two year</td>\n",
              "      <td>Yes</td>\n",
              "      <td>Bank transfer (automatic)</td>\n",
              "      <td>105.65</td>\n",
              "      <td>6844.5</td>\n",
              "      <td>No</td>\n",
              "    </tr>\n",
              "  </tbody>\n",
              "</table>\n",
              "<p>7043 rows × 21 columns</p>\n",
              "</div>\n",
              "      <button class=\"colab-df-convert\" onclick=\"convertToInteractive('df-232b0f39-248a-4111-8609-2c87c5e4a8dc')\"\n",
              "              title=\"Convert this dataframe to an interactive table.\"\n",
              "              style=\"display:none;\">\n",
              "        \n",
              "  <svg xmlns=\"http://www.w3.org/2000/svg\" height=\"24px\"viewBox=\"0 0 24 24\"\n",
              "       width=\"24px\">\n",
              "    <path d=\"M0 0h24v24H0V0z\" fill=\"none\"/>\n",
              "    <path d=\"M18.56 5.44l.94 2.06.94-2.06 2.06-.94-2.06-.94-.94-2.06-.94 2.06-2.06.94zm-11 1L8.5 8.5l.94-2.06 2.06-.94-2.06-.94L8.5 2.5l-.94 2.06-2.06.94zm10 10l.94 2.06.94-2.06 2.06-.94-2.06-.94-.94-2.06-.94 2.06-2.06.94z\"/><path d=\"M17.41 7.96l-1.37-1.37c-.4-.4-.92-.59-1.43-.59-.52 0-1.04.2-1.43.59L10.3 9.45l-7.72 7.72c-.78.78-.78 2.05 0 2.83L4 21.41c.39.39.9.59 1.41.59.51 0 1.02-.2 1.41-.59l7.78-7.78 2.81-2.81c.8-.78.8-2.07 0-2.86zM5.41 20L4 18.59l7.72-7.72 1.47 1.35L5.41 20z\"/>\n",
              "  </svg>\n",
              "      </button>\n",
              "      \n",
              "  <style>\n",
              "    .colab-df-container {\n",
              "      display:flex;\n",
              "      flex-wrap:wrap;\n",
              "      gap: 12px;\n",
              "    }\n",
              "\n",
              "    .colab-df-convert {\n",
              "      background-color: #E8F0FE;\n",
              "      border: none;\n",
              "      border-radius: 50%;\n",
              "      cursor: pointer;\n",
              "      display: none;\n",
              "      fill: #1967D2;\n",
              "      height: 32px;\n",
              "      padding: 0 0 0 0;\n",
              "      width: 32px;\n",
              "    }\n",
              "\n",
              "    .colab-df-convert:hover {\n",
              "      background-color: #E2EBFA;\n",
              "      box-shadow: 0px 1px 2px rgba(60, 64, 67, 0.3), 0px 1px 3px 1px rgba(60, 64, 67, 0.15);\n",
              "      fill: #174EA6;\n",
              "    }\n",
              "\n",
              "    [theme=dark] .colab-df-convert {\n",
              "      background-color: #3B4455;\n",
              "      fill: #D2E3FC;\n",
              "    }\n",
              "\n",
              "    [theme=dark] .colab-df-convert:hover {\n",
              "      background-color: #434B5C;\n",
              "      box-shadow: 0px 1px 3px 1px rgba(0, 0, 0, 0.15);\n",
              "      filter: drop-shadow(0px 1px 2px rgba(0, 0, 0, 0.3));\n",
              "      fill: #FFFFFF;\n",
              "    }\n",
              "  </style>\n",
              "\n",
              "      <script>\n",
              "        const buttonEl =\n",
              "          document.querySelector('#df-232b0f39-248a-4111-8609-2c87c5e4a8dc button.colab-df-convert');\n",
              "        buttonEl.style.display =\n",
              "          google.colab.kernel.accessAllowed ? 'block' : 'none';\n",
              "\n",
              "        async function convertToInteractive(key) {\n",
              "          const element = document.querySelector('#df-232b0f39-248a-4111-8609-2c87c5e4a8dc');\n",
              "          const dataTable =\n",
              "            await google.colab.kernel.invokeFunction('convertToInteractive',\n",
              "                                                     [key], {});\n",
              "          if (!dataTable) return;\n",
              "\n",
              "          const docLinkHtml = 'Like what you see? Visit the ' +\n",
              "            '<a target=\"_blank\" href=https://colab.research.google.com/notebooks/data_table.ipynb>data table notebook</a>'\n",
              "            + ' to learn more about interactive tables.';\n",
              "          element.innerHTML = '';\n",
              "          dataTable['output_type'] = 'display_data';\n",
              "          await google.colab.output.renderOutput(dataTable, element);\n",
              "          const docLink = document.createElement('div');\n",
              "          docLink.innerHTML = docLinkHtml;\n",
              "          element.appendChild(docLink);\n",
              "        }\n",
              "      </script>\n",
              "    </div>\n",
              "  </div>\n",
              "  "
            ]
          },
          "metadata": {},
          "execution_count": 3
        }
      ]
    },
    {
      "cell_type": "markdown",
      "source": [
        "Filter only monthly contracts"
      ],
      "metadata": {
        "id": "kgon13o4BO1r"
      }
    },
    {
      "cell_type": "code",
      "source": [
        "df = df.query(\"Contract == 'Month-to-month'\")"
      ],
      "metadata": {
        "id": "19czzidzD31t"
      },
      "execution_count": 4,
      "outputs": []
    },
    {
      "cell_type": "markdown",
      "source": [
        "## Basic EDA"
      ],
      "metadata": {
        "id": "sMY7vXrt4Sdp"
      }
    },
    {
      "cell_type": "code",
      "source": [
        "df['Churn'].value_counts().plot(kind=\"bar\")"
      ],
      "metadata": {
        "id": "wD-sowjF4e6N",
        "colab": {
          "base_uri": "https://localhost:8080/",
          "height": 288
        },
        "outputId": "d57223cc-c447-4427-8171-28263316fe6d"
      },
      "execution_count": 5,
      "outputs": [
        {
          "output_type": "execute_result",
          "data": {
            "text/plain": [
              "<matplotlib.axes._subplots.AxesSubplot at 0x7f3053ce8690>"
            ]
          },
          "metadata": {},
          "execution_count": 5
        },
        {
          "output_type": "display_data",
          "data": {
            "text/plain": [
              "<Figure size 432x288 with 1 Axes>"
            ],
            "image/png": "[encoded data removed]"
          },
          "metadata": {
            "needs_background": "light"
          }
        }
      ]
    },
    {
      "cell_type": "markdown",
      "source": [
        "### Inspect MonthlyCharges"
      ],
      "metadata": {
        "id": "UZ24H5Rc5ZuJ"
      }
    },
    {
      "cell_type": "code",
      "source": [
        "plt.figure(figsize=(8, 4))\n",
        "plt.hist(df.query(\"Churn == 'Yes'\")['MonthlyCharges'], 50, alpha=0.6, color = \"red\", label='Churn = Yes')\n",
        "plt.hist(df.query(\"Churn == 'No'\")['MonthlyCharges'], 50, alpha=0.5, color = \"grey\", label='Churn = No')\n",
        "plt.legend(loc='upper right')\n",
        "plt.show()"
      ],
      "metadata": {
        "id": "CnTxTZpCpiGc",
        "colab": {
          "base_uri": "https://localhost:8080/",
          "height": 265
        },
        "outputId": "b4952455-3d37-47a3-ccd1-1bfdbd558659"
      },
      "execution_count": 6,
      "outputs": [
        {
          "output_type": "display_data",
          "data": {
            "text/plain": [
              "<Figure size 576x288 with 1 Axes>"
            ],
            "image/png": "[encoded data removed]"
          },
          "metadata": {
            "needs_background": "light"
          }
        }
      ]
    },
    {
      "cell_type": "markdown",
      "source": [
        "## Inspect Tenture"
      ],
      "metadata": {
        "id": "GkJDu6BG5cD5"
      }
    },
    {
      "cell_type": "code",
      "source": [
        "plt.figure(figsize=(8, 4))\n",
        "plt.hist(df.query(\"Churn == 'Yes'\")['tenure'], 50, alpha=0.6, color = \"red\", label='Churn = Yes')\n",
        "plt.hist(df.query(\"Churn == 'No'\")['tenure'], 50, alpha=0.5, color = \"grey\", label='Churn = No')\n",
        "plt.legend(loc='upper right')\n",
        "plt.show()"
      ],
      "metadata": {
        "id": "wFImU_nV53wH",
        "colab": {
          "base_uri": "https://localhost:8080/",
          "height": 265
        },
        "outputId": "c0a37ade-cefd-4116-8dbd-def5e3b72038"
      },
      "execution_count": 7,
      "outputs": [
        {
          "output_type": "display_data",
          "data": {
            "text/plain": [
              "<Figure size 576x288 with 1 Axes>"
            ],
            "image/png": "[encoded data removed]"
          },
          "metadata": {
            "needs_background": "light"
          }
        }
      ]
    },
    {
      "cell_type": "markdown",
      "source": [
        "### Inspect Partner"
      ],
      "metadata": {
        "id": "sAHtZJE58YqB"
      }
    },
    {
      "cell_type": "code",
      "source": [
        "pd.crosstab(df['Partner'], df['Churn']).plot(kind=\"bar\")"
      ],
      "metadata": {
        "id": "gNBegcN28KRv",
        "colab": {
          "base_uri": "https://localhost:8080/",
          "height": 302
        },
        "outputId": "20fbd9b2-fdcb-484a-906b-38c929ec154b"
      },
      "execution_count": 8,
      "outputs": [
        {
          "output_type": "execute_result",
          "data": {
            "text/plain": [
              "<matplotlib.axes._subplots.AxesSubplot at 0x7f305361f2d0>"
            ]
          },
          "metadata": {},
          "execution_count": 8
        },
        {
          "output_type": "display_data",
          "data": {
            "text/plain": [
              "<Figure size 432x288 with 1 Axes>"
            ],
            "image/png": "[encoded data removed]"
          },
          "metadata": {
            "needs_background": "light"
          }
        }
      ]
    },
    {
      "cell_type": "code",
      "source": [
        "pd.crosstab(df['Partner'], df['Churn'], normalize = \"index\").plot(kind=\"bar\", stacked = True)"
      ],
      "metadata": {
        "id": "IZET2MEs61h6",
        "colab": {
          "base_uri": "https://localhost:8080/",
          "height": 302
        },
        "outputId": "e550c54d-8eb6-4837-bad3-1fe18e9c0ac9"
      },
      "execution_count": 9,
      "outputs": [
        {
          "output_type": "execute_result",
          "data": {
            "text/plain": [
              "<matplotlib.axes._subplots.AxesSubplot at 0x7f30533901d0>"
            ]
          },
          "metadata": {},
          "execution_count": 9
        },
        {
          "output_type": "display_data",
          "data": {
            "text/plain": [
              "<Figure size 432x288 with 1 Axes>"
            ],
            "image/png": "[encoded data removed]"
          },
          "metadata": {
            "needs_background": "light"
          }
        }
      ]
    },
    {
      "cell_type": "markdown",
      "source": [
        "### Inspect Senior Citizen"
      ],
      "metadata": {
        "id": "JOAT69EC80GK"
      }
    },
    {
      "cell_type": "code",
      "source": [
        "pd.crosstab(df['SeniorCitizen'], df['Churn']).plot(kind=\"bar\")"
      ],
      "metadata": {
        "id": "k7_VQJ1484KL",
        "colab": {
          "base_uri": "https://localhost:8080/",
          "height": 293
        },
        "outputId": "aea02e4d-ed58-4635-de0f-222afd3946a3"
      },
      "execution_count": 10,
      "outputs": [
        {
          "output_type": "execute_result",
          "data": {
            "text/plain": [
              "<matplotlib.axes._subplots.AxesSubplot at 0x7f30534973d0>"
            ]
          },
          "metadata": {},
          "execution_count": 10
        },
        {
          "output_type": "display_data",
          "data": {
            "text/plain": [
              "<Figure size 432x288 with 1 Axes>"
            ],
            "image/png": "[encoded data removed]"
          },
          "metadata": {
            "needs_background": "light"
          }
        }
      ]
    },
    {
      "cell_type": "code",
      "source": [
        "pd.crosstab(df['SeniorCitizen'], df['Churn'], normalize = \"index\").plot(kind=\"bar\", stacked = True)"
      ],
      "metadata": {
        "id": "vDxpsdPM88MQ",
        "colab": {
          "base_uri": "https://localhost:8080/",
          "height": 293
        },
        "outputId": "b7499580-2614-403c-e278-cc0ef8ee4198"
      },
      "execution_count": 11,
      "outputs": [
        {
          "output_type": "execute_result",
          "data": {
            "text/plain": [
              "<matplotlib.axes._subplots.AxesSubplot at 0x7f30534bc850>"
            ]
          },
          "metadata": {},
          "execution_count": 11
        },
        {
          "output_type": "display_data",
          "data": {
            "text/plain": [
              "<Figure size 432x288 with 1 Axes>"
            ],
            "image/png": "[encoded data removed]"
          },
          "metadata": {
            "needs_background": "light"
          }
        }
      ]
    },
    {
      "cell_type": "markdown",
      "source": [
        "## Modeling"
      ],
      "metadata": {
        "id": "Npdp5JfbHNvi"
      }
    },
    {
      "cell_type": "markdown",
      "source": [
        "### Create feature matrix X"
      ],
      "metadata": {
        "id": "YItVkQeZHPkN"
      }
    },
    {
      "cell_type": "markdown",
      "source": [
        "Select features"
      ],
      "metadata": {
        "id": "e95KfOBNEvvj"
      }
    },
    {
      "cell_type": "code",
      "source": [
        "X = df.loc[:,['MonthlyCharges', 'tenure', 'Partner', 'SeniorCitizen']]"
      ],
      "metadata": {
        "id": "fSBsTnywEpgY"
      },
      "execution_count": 12,
      "outputs": []
    },
    {
      "cell_type": "markdown",
      "source": [
        "Add constant"
      ],
      "metadata": {
        "id": "OAeKO-7NHd2S"
      }
    },
    {
      "cell_type": "code",
      "source": [
        "X = sm.add_constant(X); # Add constant to estimte intercept parameter"
      ],
      "metadata": {
        "id": "zAtO8FDxHfS_",
        "colab": {
          "base_uri": "https://localhost:8080/"
        },
        "outputId": "4f00e2cd-8576-4a05-e1f1-b45fded52355"
      },
      "execution_count": 13,
      "outputs": [
        {
          "output_type": "stream",
          "name": "stderr",
          "text": [
            "/usr/local/lib/python3.7/dist-packages/statsmodels/tsa/tsatools.py:142: FutureWarning: In a future version of pandas all arguments of concat except for the argument 'objs' will be keyword-only\n",
            "  x = pd.concat(x[::order], 1)\n"
          ]
        }
      ]
    },
    {
      "cell_type": "code",
      "source": [
        "X"
      ],
      "metadata": {
        "id": "fTybEHUZRn2F",
        "colab": {
          "base_uri": "https://localhost:8080/",
          "height": 419
        },
        "outputId": "d8c28683-a806-4750-bbc7-ed6092ddc4c5"
      },
      "execution_count": 14,
      "outputs": [
        {
          "output_type": "execute_result",
          "data": {
            "text/plain": [
              "      const  MonthlyCharges  tenure Partner  SeniorCitizen\n",
              "0       1.0           29.85       1     Yes              0\n",
              "2       1.0           53.85       2      No              0\n",
              "4       1.0           70.70       2      No              0\n",
              "5       1.0           99.65       8      No              0\n",
              "6       1.0           89.10      22      No              0\n",
              "...     ...             ...     ...     ...            ...\n",
              "7033    1.0           69.50      38      No              0\n",
              "7034    1.0          102.95      67      No              0\n",
              "7035    1.0           78.70      19      No              0\n",
              "7040    1.0           29.60      11     Yes              0\n",
              "7041    1.0           74.40       4     Yes              1\n",
              "\n",
              "[3875 rows x 5 columns]"
            ],
            "text/html": [
              "\n",
              "  <div id=\"df-da0dcf53-24f4-4059-a068-a08381d4c3d3\">\n",
              "    <div class=\"colab-df-container\">\n",
              "      <div>\n",
              "<style scoped>\n",
              "    .dataframe tbody tr th:only-of-type {\n",
              "        vertical-align: middle;\n",
              "    }\n",
              "\n",
              "    .dataframe tbody tr th {\n",
              "        vertical-align: top;\n",
              "    }\n",
              "\n",
              "    .dataframe thead th {\n",
              "        text-align: right;\n",
              "    }\n",
              "</style>\n",
              "<table border=\"1\" class=\"dataframe\">\n",
              "  <thead>\n",
              "    <tr style=\"text-align: right;\">\n",
              "      <th></th>\n",
              "      <th>const</th>\n",
              "      <th>MonthlyCharges</th>\n",
              "      <th>tenure</th>\n",
              "      <th>Partner</th>\n",
              "      <th>SeniorCitizen</th>\n",
              "    </tr>\n",
              "  </thead>\n",
              "  <tbody>\n",
              "    <tr>\n",
              "      <th>0</th>\n",
              "      <td>1.0</td>\n",
              "      <td>29.85</td>\n",
              "      <td>1</td>\n",
              "      <td>Yes</td>\n",
              "      <td>0</td>\n",
              "    </tr>\n",
              "    <tr>\n",
              "      <th>2</th>\n",
              "      <td>1.0</td>\n",
              "      <td>53.85</td>\n",
              "      <td>2</td>\n",
              "      <td>No</td>\n",
              "      <td>0</td>\n",
              "    </tr>\n",
              "    <tr>\n",
              "      <th>4</th>\n",
              "      <td>1.0</td>\n",
              "      <td>70.70</td>\n",
              "      <td>2</td>\n",
              "      <td>No</td>\n",
              "      <td>0</td>\n",
              "    </tr>\n",
              "    <tr>\n",
              "      <th>5</th>\n",
              "      <td>1.0</td>\n",
              "      <td>99.65</td>\n",
              "      <td>8</td>\n",
              "      <td>No</td>\n",
              "      <td>0</td>\n",
              "    </tr>\n",
              "    <tr>\n",
              "      <th>6</th>\n",
              "      <td>1.0</td>\n",
              "      <td>89.10</td>\n",
              "      <td>22</td>\n",
              "      <td>No</td>\n",
              "      <td>0</td>\n",
              "    </tr>\n",
              "    <tr>\n",
              "      <th>...</th>\n",
              "      <td>...</td>\n",
              "      <td>...</td>\n",
              "      <td>...</td>\n",
              "      <td>...</td>\n",
              "      <td>...</td>\n",
              "    </tr>\n",
              "    <tr>\n",
              "      <th>7033</th>\n",
              "      <td>1.0</td>\n",
              "      <td>69.50</td>\n",
              "      <td>38</td>\n",
              "      <td>No</td>\n",
              "      <td>0</td>\n",
              "    </tr>\n",
              "    <tr>\n",
              "      <th>7034</th>\n",
              "      <td>1.0</td>\n",
              "      <td>102.95</td>\n",
              "      <td>67</td>\n",
              "      <td>No</td>\n",
              "      <td>0</td>\n",
              "    </tr>\n",
              "    <tr>\n",
              "      <th>7035</th>\n",
              "      <td>1.0</td>\n",
              "      <td>78.70</td>\n",
              "      <td>19</td>\n",
              "      <td>No</td>\n",
              "      <td>0</td>\n",
              "    </tr>\n",
              "    <tr>\n",
              "      <th>7040</th>\n",
              "      <td>1.0</td>\n",
              "      <td>29.60</td>\n",
              "      <td>11</td>\n",
              "      <td>Yes</td>\n",
              "      <td>0</td>\n",
              "    </tr>\n",
              "    <tr>\n",
              "      <th>7041</th>\n",
              "      <td>1.0</td>\n",
              "      <td>74.40</td>\n",
              "      <td>4</td>\n",
              "      <td>Yes</td>\n",
              "      <td>1</td>\n",
              "    </tr>\n",
              "  </tbody>\n",
              "</table>\n",
              "<p>3875 rows × 5 columns</p>\n",
              "</div>\n",
              "      <button class=\"colab-df-convert\" onclick=\"convertToInteractive('df-da0dcf53-24f4-4059-a068-a08381d4c3d3')\"\n",
              "              title=\"Convert this dataframe to an interactive table.\"\n",
              "              style=\"display:none;\">\n",
              "        \n",
              "  <svg xmlns=\"http://www.w3.org/2000/svg\" height=\"24px\"viewBox=\"0 0 24 24\"\n",
              "       width=\"24px\">\n",
              "    <path d=\"M0 0h24v24H0V0z\" fill=\"none\"/>\n",
              "    <path d=\"M18.56 5.44l.94 2.06.94-2.06 2.06-.94-2.06-.94-.94-2.06-.94 2.06-2.06.94zm-11 1L8.5 8.5l.94-2.06 2.06-.94-2.06-.94L8.5 2.5l-.94 2.06-2.06.94zm10 10l.94 2.06.94-2.06 2.06-.94-2.06-.94-.94-2.06-.94 2.06-2.06.94z\"/><path d=\"M17.41 7.96l-1.37-1.37c-.4-.4-.92-.59-1.43-.59-.52 0-1.04.2-1.43.59L10.3 9.45l-7.72 7.72c-.78.78-.78 2.05 0 2.83L4 21.41c.39.39.9.59 1.41.59.51 0 1.02-.2 1.41-.59l7.78-7.78 2.81-2.81c.8-.78.8-2.07 0-2.86zM5.41 20L4 18.59l7.72-7.72 1.47 1.35L5.41 20z\"/>\n",
              "  </svg>\n",
              "      </button>\n",
              "      \n",
              "  <style>\n",
              "    .colab-df-container {\n",
              "      display:flex;\n",
              "      flex-wrap:wrap;\n",
              "      gap: 12px;\n",
              "    }\n",
              "\n",
              "    .colab-df-convert {\n",
              "      background-color: #E8F0FE;\n",
              "      border: none;\n",
              "      border-radius: 50%;\n",
              "      cursor: pointer;\n",
              "      display: none;\n",
              "      fill: #1967D2;\n",
              "      height: 32px;\n",
              "      padding: 0 0 0 0;\n",
              "      width: 32px;\n",
              "    }\n",
              "\n",
              "    .colab-df-convert:hover {\n",
              "      background-color: #E2EBFA;\n",
              "      box-shadow: 0px 1px 2px rgba(60, 64, 67, 0.3), 0px 1px 3px 1px rgba(60, 64, 67, 0.15);\n",
              "      fill: #174EA6;\n",
              "    }\n",
              "\n",
              "    [theme=dark] .colab-df-convert {\n",
              "      background-color: #3B4455;\n",
              "      fill: #D2E3FC;\n",
              "    }\n",
              "\n",
              "    [theme=dark] .colab-df-convert:hover {\n",
              "      background-color: #434B5C;\n",
              "      box-shadow: 0px 1px 3px 1px rgba(0, 0, 0, 0.15);\n",
              "      filter: drop-shadow(0px 1px 2px rgba(0, 0, 0, 0.3));\n",
              "      fill: #FFFFFF;\n",
              "    }\n",
              "  </style>\n",
              "\n",
              "      <script>\n",
              "        const buttonEl =\n",
              "          document.querySelector('#df-da0dcf53-24f4-4059-a068-a08381d4c3d3 button.colab-df-convert');\n",
              "        buttonEl.style.display =\n",
              "          google.colab.kernel.accessAllowed ? 'block' : 'none';\n",
              "\n",
              "        async function convertToInteractive(key) {\n",
              "          const element = document.querySelector('#df-da0dcf53-24f4-4059-a068-a08381d4c3d3');\n",
              "          const dataTable =\n",
              "            await google.colab.kernel.invokeFunction('convertToInteractive',\n",
              "                                                     [key], {});\n",
              "          if (!dataTable) return;\n",
              "\n",
              "          const docLinkHtml = 'Like what you see? Visit the ' +\n",
              "            '<a target=\"_blank\" href=https://colab.research.google.com/notebooks/data_table.ipynb>data table notebook</a>'\n",
              "            + ' to learn more about interactive tables.';\n",
              "          element.innerHTML = '';\n",
              "          dataTable['output_type'] = 'display_data';\n",
              "          await google.colab.output.renderOutput(dataTable, element);\n",
              "          const docLink = document.createElement('div');\n",
              "          docLink.innerHTML = docLinkHtml;\n",
              "          element.appendChild(docLink);\n",
              "        }\n",
              "      </script>\n",
              "    </div>\n",
              "  </div>\n",
              "  "
            ]
          },
          "metadata": {},
          "execution_count": 14
        }
      ]
    },
    {
      "cell_type": "markdown",
      "source": [
        "Convert Yes to 1 and No to 0"
      ],
      "metadata": {
        "id": "tm3GcJuu9YxS"
      }
    },
    {
      "cell_type": "code",
      "source": [
        "X['Partner'] = X['Partner'].map(dict(Yes=1, No=0))\n",
        "X"
      ],
      "metadata": {
        "id": "O5z92okl9YeL",
        "colab": {
          "base_uri": "https://localhost:8080/",
          "height": 419
        },
        "outputId": "7904364c-68d4-4b02-8c7e-27218a61395d"
      },
      "execution_count": 15,
      "outputs": [
        {
          "output_type": "execute_result",
          "data": {
            "text/plain": [
              "      const  MonthlyCharges  tenure  Partner  SeniorCitizen\n",
              "0       1.0           29.85       1        1              0\n",
              "2       1.0           53.85       2        0              0\n",
              "4       1.0           70.70       2        0              0\n",
              "5       1.0           99.65       8        0              0\n",
              "6       1.0           89.10      22        0              0\n",
              "...     ...             ...     ...      ...            ...\n",
              "7033    1.0           69.50      38        0              0\n",
              "7034    1.0          102.95      67        0              0\n",
              "7035    1.0           78.70      19        0              0\n",
              "7040    1.0           29.60      11        1              0\n",
              "7041    1.0           74.40       4        1              1\n",
              "\n",
              "[3875 rows x 5 columns]"
            ],
            "text/html": [
              "\n",
              "  <div id=\"df-777a079c-4c0d-4e19-bfaa-1e89191a36d0\">\n",
              "    <div class=\"colab-df-container\">\n",
              "      <div>\n",
              "<style scoped>\n",
              "    .dataframe tbody tr th:only-of-type {\n",
              "        vertical-align: middle;\n",
              "    }\n",
              "\n",
              "    .dataframe tbody tr th {\n",
              "        vertical-align: top;\n",
              "    }\n",
              "\n",
              "    .dataframe thead th {\n",
              "        text-align: right;\n",
              "    }\n",
              "</style>\n",
              "<table border=\"1\" class=\"dataframe\">\n",
              "  <thead>\n",
              "    <tr style=\"text-align: right;\">\n",
              "      <th></th>\n",
              "      <th>const</th>\n",
              "      <th>MonthlyCharges</th>\n",
              "      <th>tenure</th>\n",
              "      <th>Partner</th>\n",
              "      <th>SeniorCitizen</th>\n",
              "    </tr>\n",
              "  </thead>\n",
              "  <tbody>\n",
              "    <tr>\n",
              "      <th>0</th>\n",
              "      <td>1.0</td>\n",
              "      <td>29.85</td>\n",
              "      <td>1</td>\n",
              "      <td>1</td>\n",
              "      <td>0</td>\n",
              "    </tr>\n",
              "    <tr>\n",
              "      <th>2</th>\n",
              "      <td>1.0</td>\n",
              "      <td>53.85</td>\n",
              "      <td>2</td>\n",
              "      <td>0</td>\n",
              "      <td>0</td>\n",
              "    </tr>\n",
              "    <tr>\n",
              "      <th>4</th>\n",
              "      <td>1.0</td>\n",
              "      <td>70.70</td>\n",
              "      <td>2</td>\n",
              "      <td>0</td>\n",
              "      <td>0</td>\n",
              "    </tr>\n",
              "    <tr>\n",
              "      <th>5</th>\n",
              "      <td>1.0</td>\n",
              "      <td>99.65</td>\n",
              "      <td>8</td>\n",
              "      <td>0</td>\n",
              "      <td>0</td>\n",
              "    </tr>\n",
              "    <tr>\n",
              "      <th>6</th>\n",
              "      <td>1.0</td>\n",
              "      <td>89.10</td>\n",
              "      <td>22</td>\n",
              "      <td>0</td>\n",
              "      <td>0</td>\n",
              "    </tr>\n",
              "    <tr>\n",
              "      <th>...</th>\n",
              "      <td>...</td>\n",
              "      <td>...</td>\n",
              "      <td>...</td>\n",
              "      <td>...</td>\n",
              "      <td>...</td>\n",
              "    </tr>\n",
              "    <tr>\n",
              "      <th>7033</th>\n",
              "      <td>1.0</td>\n",
              "      <td>69.50</td>\n",
              "      <td>38</td>\n",
              "      <td>0</td>\n",
              "      <td>0</td>\n",
              "    </tr>\n",
              "    <tr>\n",
              "      <th>7034</th>\n",
              "      <td>1.0</td>\n",
              "      <td>102.95</td>\n",
              "      <td>67</td>\n",
              "      <td>0</td>\n",
              "      <td>0</td>\n",
              "    </tr>\n",
              "    <tr>\n",
              "      <th>7035</th>\n",
              "      <td>1.0</td>\n",
              "      <td>78.70</td>\n",
              "      <td>19</td>\n",
              "      <td>0</td>\n",
              "      <td>0</td>\n",
              "    </tr>\n",
              "    <tr>\n",
              "      <th>7040</th>\n",
              "      <td>1.0</td>\n",
              "      <td>29.60</td>\n",
              "      <td>11</td>\n",
              "      <td>1</td>\n",
              "      <td>0</td>\n",
              "    </tr>\n",
              "    <tr>\n",
              "      <th>7041</th>\n",
              "      <td>1.0</td>\n",
              "      <td>74.40</td>\n",
              "      <td>4</td>\n",
              "      <td>1</td>\n",
              "      <td>1</td>\n",
              "    </tr>\n",
              "  </tbody>\n",
              "</table>\n",
              "<p>3875 rows × 5 columns</p>\n",
              "</div>\n",
              "      <button class=\"colab-df-convert\" onclick=\"convertToInteractive('df-777a079c-4c0d-4e19-bfaa-1e89191a36d0')\"\n",
              "              title=\"Convert this dataframe to an interactive table.\"\n",
              "              style=\"display:none;\">\n",
              "        \n",
              "  <svg xmlns=\"http://www.w3.org/2000/svg\" height=\"24px\"viewBox=\"0 0 24 24\"\n",
              "       width=\"24px\">\n",
              "    <path d=\"M0 0h24v24H0V0z\" fill=\"none\"/>\n",
              "    <path d=\"M18.56 5.44l.94 2.06.94-2.06 2.06-.94-2.06-.94-.94-2.06-.94 2.06-2.06.94zm-11 1L8.5 8.5l.94-2.06 2.06-.94-2.06-.94L8.5 2.5l-.94 2.06-2.06.94zm10 10l.94 2.06.94-2.06 2.06-.94-2.06-.94-.94-2.06-.94 2.06-2.06.94z\"/><path d=\"M17.41 7.96l-1.37-1.37c-.4-.4-.92-.59-1.43-.59-.52 0-1.04.2-1.43.59L10.3 9.45l-7.72 7.72c-.78.78-.78 2.05 0 2.83L4 21.41c.39.39.9.59 1.41.59.51 0 1.02-.2 1.41-.59l7.78-7.78 2.81-2.81c.8-.78.8-2.07 0-2.86zM5.41 20L4 18.59l7.72-7.72 1.47 1.35L5.41 20z\"/>\n",
              "  </svg>\n",
              "      </button>\n",
              "      \n",
              "  <style>\n",
              "    .colab-df-container {\n",
              "      display:flex;\n",
              "      flex-wrap:wrap;\n",
              "      gap: 12px;\n",
              "    }\n",
              "\n",
              "    .colab-df-convert {\n",
              "      background-color: #E8F0FE;\n",
              "      border: none;\n",
              "      border-radius: 50%;\n",
              "      cursor: pointer;\n",
              "      display: none;\n",
              "      fill: #1967D2;\n",
              "      height: 32px;\n",
              "      padding: 0 0 0 0;\n",
              "      width: 32px;\n",
              "    }\n",
              "\n",
              "    .colab-df-convert:hover {\n",
              "      background-color: #E2EBFA;\n",
              "      box-shadow: 0px 1px 2px rgba(60, 64, 67, 0.3), 0px 1px 3px 1px rgba(60, 64, 67, 0.15);\n",
              "      fill: #174EA6;\n",
              "    }\n",
              "\n",
              "    [theme=dark] .colab-df-convert {\n",
              "      background-color: #3B4455;\n",
              "      fill: #D2E3FC;\n",
              "    }\n",
              "\n",
              "    [theme=dark] .colab-df-convert:hover {\n",
              "      background-color: #434B5C;\n",
              "      box-shadow: 0px 1px 3px 1px rgba(0, 0, 0, 0.15);\n",
              "      filter: drop-shadow(0px 1px 2px rgba(0, 0, 0, 0.3));\n",
              "      fill: #FFFFFF;\n",
              "    }\n",
              "  </style>\n",
              "\n",
              "      <script>\n",
              "        const buttonEl =\n",
              "          document.querySelector('#df-777a079c-4c0d-4e19-bfaa-1e89191a36d0 button.colab-df-convert');\n",
              "        buttonEl.style.display =\n",
              "          google.colab.kernel.accessAllowed ? 'block' : 'none';\n",
              "\n",
              "        async function convertToInteractive(key) {\n",
              "          const element = document.querySelector('#df-777a079c-4c0d-4e19-bfaa-1e89191a36d0');\n",
              "          const dataTable =\n",
              "            await google.colab.kernel.invokeFunction('convertToInteractive',\n",
              "                                                     [key], {});\n",
              "          if (!dataTable) return;\n",
              "\n",
              "          const docLinkHtml = 'Like what you see? Visit the ' +\n",
              "            '<a target=\"_blank\" href=https://colab.research.google.com/notebooks/data_table.ipynb>data table notebook</a>'\n",
              "            + ' to learn more about interactive tables.';\n",
              "          element.innerHTML = '';\n",
              "          dataTable['output_type'] = 'display_data';\n",
              "          await google.colab.output.renderOutput(dataTable, element);\n",
              "          const docLink = document.createElement('div');\n",
              "          docLink.innerHTML = docLinkHtml;\n",
              "          element.appendChild(docLink);\n",
              "        }\n",
              "      </script>\n",
              "    </div>\n",
              "  </div>\n",
              "  "
            ]
          },
          "metadata": {},
          "execution_count": 15
        }
      ]
    },
    {
      "cell_type": "markdown",
      "source": [
        "### Create target vector y"
      ],
      "metadata": {
        "id": "RnKSOgdxHgEM"
      }
    },
    {
      "cell_type": "code",
      "source": [
        "y = df['Churn']"
      ],
      "metadata": {
        "id": "wXZMmpcFE8DZ"
      },
      "execution_count": 16,
      "outputs": []
    },
    {
      "cell_type": "code",
      "source": [
        "y.value_counts()"
      ],
      "metadata": {
        "id": "hyKcxuiBKApV",
        "colab": {
          "base_uri": "https://localhost:8080/"
        },
        "outputId": "623fced0-b9ae-42eb-fcda-5367b43dfdc8"
      },
      "execution_count": 17,
      "outputs": [
        {
          "output_type": "execute_result",
          "data": {
            "text/plain": [
              "No     2220\n",
              "Yes    1655\n",
              "Name: Churn, dtype: int64"
            ]
          },
          "metadata": {},
          "execution_count": 17
        }
      ]
    },
    {
      "cell_type": "code",
      "source": [
        "y = y.map(dict(Yes=1, No=0))"
      ],
      "metadata": {
        "id": "IU_SOuZR9y2m"
      },
      "execution_count": 18,
      "outputs": []
    },
    {
      "cell_type": "code",
      "source": [
        "y.value_counts()"
      ],
      "metadata": {
        "id": "SxTLvJRa91p3",
        "colab": {
          "base_uri": "https://localhost:8080/"
        },
        "outputId": "2310f3ac-6df2-497d-bc89-46fcdd7784cf"
      },
      "execution_count": 19,
      "outputs": [
        {
          "output_type": "execute_result",
          "data": {
            "text/plain": [
              "0    2220\n",
              "1    1655\n",
              "Name: Churn, dtype: int64"
            ]
          },
          "metadata": {},
          "execution_count": 19
        }
      ]
    },
    {
      "cell_type": "markdown",
      "source": [
        "### Fit Model"
      ],
      "metadata": {
        "id": "0MynkZHWHmWj"
      }
    },
    {
      "cell_type": "code",
      "source": [
        "model = sm.Logit(y, X)"
      ],
      "metadata": {
        "id": "qhgsPcchHt3i"
      },
      "execution_count": 20,
      "outputs": []
    },
    {
      "cell_type": "code",
      "source": [
        "res = model.fit()"
      ],
      "metadata": {
        "id": "SxuJ9C8rE4nV",
        "colab": {
          "base_uri": "https://localhost:8080/"
        },
        "outputId": "f9f395c9-fb46-4a17-b640-a35c837c1163"
      },
      "execution_count": 21,
      "outputs": [
        {
          "output_type": "stream",
          "name": "stdout",
          "text": [
            "Optimization terminated successfully.\n",
            "         Current function value: 0.606712\n",
            "         Iterations 5\n"
          ]
        }
      ]
    },
    {
      "cell_type": "code",
      "source": [
        "print(res.summary())"
      ],
      "metadata": {
        "id": "7ZUrDR6RGJfK",
        "colab": {
          "base_uri": "https://localhost:8080/"
        },
        "outputId": "ad5e45de-ceb1-408c-dd24-65f99c465e33"
      },
      "execution_count": 22,
      "outputs": [
        {
          "output_type": "stream",
          "name": "stdout",
          "text": [
            "                           Logit Regression Results                           \n",
            "==============================================================================\n",
            "Dep. Variable:                  Churn   No. Observations:                 3875\n",
            "Model:                          Logit   Df Residuals:                     3870\n",
            "Method:                           MLE   Df Model:                            4\n",
            "Date:                Thu, 24 Nov 2022   Pseudo R-squ.:                  0.1110\n",
            "Time:                        14:20:04   Log-Likelihood:                -2351.0\n",
            "converged:                       True   LL-Null:                       -2644.6\n",
            "Covariance Type:            nonrobust   LLR p-value:                9.152e-126\n",
            "==================================================================================\n",
            "                     coef    std err          z      P>|z|      [0.025      0.975]\n",
            "----------------------------------------------------------------------------------\n",
            "const             -1.4356      0.100    -14.359      0.000      -1.632      -1.240\n",
            "MonthlyCharges     0.0265      0.002     17.281      0.000       0.023       0.029\n",
            "tenure            -0.0431      0.002    -17.387      0.000      -0.048      -0.038\n",
            "Partner           -0.0407      0.077     -0.527      0.598      -0.192       0.111\n",
            "SeniorCitizen      0.5583      0.089      6.297      0.000       0.385       0.732\n",
            "==================================================================================\n"
          ]
        }
      ]
    },
    {
      "cell_type": "markdown",
      "source": [
        "## Use Model"
      ],
      "metadata": {
        "id": "vgdo9rNmH24H"
      }
    },
    {
      "cell_type": "markdown",
      "source": [
        "Predict probabilities for class `churn`:\n",
        "\n"
      ],
      "metadata": {
        "id": "BAJTcHDVICz7"
      }
    },
    {
      "cell_type": "code",
      "source": [
        "res.predict(X)"
      ],
      "metadata": {
        "id": "soPLjnXXH7JC",
        "colab": {
          "base_uri": "https://localhost:8080/"
        },
        "outputId": "dc3dcc7f-8241-4138-a272-0c2124fa7033"
      },
      "execution_count": 23,
      "outputs": [
        {
          "output_type": "execute_result",
          "data": {
            "text/plain": [
              "0       0.325235\n",
              "2       0.475677\n",
              "4       0.586221\n",
              "5       0.701700\n",
              "6       0.493134\n",
              "          ...   \n",
              "7033    0.225133\n",
              "7034    0.167721\n",
              "7035    0.456809\n",
              "7040    0.237268\n",
              "7041    0.706326\n",
              "Length: 3875, dtype: float64"
            ]
          },
          "metadata": {},
          "execution_count": 23
        }
      ]
    },
    {
      "cell_type": "markdown",
      "source": [
        "Get class based on decision threshold `0.5`:"
      ],
      "metadata": {
        "id": "drdN39g-H6qD"
      }
    },
    {
      "cell_type": "code",
      "source": [
        "y_hat = (res.predict(X) >= 0.5).astype(int)"
      ],
      "metadata": {
        "id": "ReebBeKfGurd"
      },
      "execution_count": 24,
      "outputs": []
    },
    {
      "cell_type": "code",
      "source": [
        "y_hat"
      ],
      "metadata": {
        "id": "HNMPhSJUISKe",
        "colab": {
          "base_uri": "https://localhost:8080/"
        },
        "outputId": "a66fd1a3-0925-4b7b-8908-d485c3ffba5a"
      },
      "execution_count": 25,
      "outputs": [
        {
          "output_type": "execute_result",
          "data": {
            "text/plain": [
              "0       0\n",
              "2       0\n",
              "4       1\n",
              "5       1\n",
              "6       0\n",
              "       ..\n",
              "7033    0\n",
              "7034    0\n",
              "7035    0\n",
              "7040    0\n",
              "7041    1\n",
              "Length: 3875, dtype: int64"
            ]
          },
          "metadata": {},
          "execution_count": 25
        }
      ]
    },
    {
      "cell_type": "code",
      "source": [],
      "metadata": {
        "id": "K093lEP6UPJD"
      },
      "execution_count": 25,
      "outputs": []
    },
    {
      "cell_type": "markdown",
      "source": [
        "### Get Data"
      ],
      "metadata": {
        "id": "v70H61uIUW9c"
      }
    },
    {
      "cell_type": "code",
      "source": [
        "import numpy as np\n",
        "import pandas as pd\n",
        "import statsmodels.api as sm\n",
        "import matplotlib.pyplot as plt\n",
        "df = pd.read_csv(\"https://raw.githubusercontent.com/IBM/telco-customer-churn-on-icp4d/master/data/Telco-Customer-Churn.csv\")\n",
        "df = df.query(\"Contract == 'Month-to-month'\")"
      ],
      "metadata": {
        "id": "GLZMuYPhUOz9"
      },
      "execution_count": 26,
      "outputs": []
    },
    {
      "cell_type": "markdown",
      "source": [
        "## Training-Testing Split"
      ],
      "metadata": {
        "id": "ZnNZyOzcbuey"
      }
    },
    {
      "cell_type": "code",
      "source": [
        "from sklearn.model_selection import train_test_split\n",
        "\n",
        "# Define X and y\n",
        "X = df.loc[:,['MonthlyCharges', 'tenure', 'SeniorCitizen']]\n",
        "y = df['Churn']\n",
        "y = y.map(dict(Yes=1, No=0))\n",
        "\n",
        "X_train, X_test, y_train, y_test = train_test_split(X, y, test_size=0.2, random_state=123, stratify = y)"
      ],
      "metadata": {
        "id": "c5PmPwqKb7z5"
      },
      "execution_count": 27,
      "outputs": []
    },
    {
      "cell_type": "code",
      "source": [
        "print(len(X_train), len(X_test))"
      ],
      "metadata": {
        "colab": {
          "base_uri": "https://localhost:8080/"
        },
        "id": "D9q0g7bicF51",
        "outputId": "da4e474b-d5a5-4545-9ffc-98510bdaec50"
      },
      "execution_count": 28,
      "outputs": [
        {
          "output_type": "stream",
          "name": "stdout",
          "text": [
            "3100 775\n"
          ]
        }
      ]
    },
    {
      "cell_type": "markdown",
      "source": [
        "Inspect distribution of target in training and test set"
      ],
      "metadata": {
        "id": "uMl1sIkacexx"
      }
    },
    {
      "cell_type": "code",
      "source": [
        "print(pd.Series(y_train).value_counts(normalize = True))\n",
        "print(pd.Series(y_test).value_counts(normalize = True))"
      ],
      "metadata": {
        "colab": {
          "base_uri": "https://localhost:8080/"
        },
        "id": "M68isfuUciO4",
        "outputId": "8874e67b-0536-43e3-ec8d-4ea00d5f04b0"
      },
      "execution_count": 29,
      "outputs": [
        {
          "output_type": "stream",
          "name": "stdout",
          "text": [
            "0    0.572903\n",
            "1    0.427097\n",
            "Name: Churn, dtype: float64\n",
            "0    0.572903\n",
            "1    0.427097\n",
            "Name: Churn, dtype: float64\n"
          ]
        }
      ]
    },
    {
      "cell_type": "markdown",
      "source": [
        "### Model training with sklearn"
      ],
      "metadata": {
        "id": "aaqwZMU2cJuf"
      }
    },
    {
      "cell_type": "code",
      "source": [
        "# Define Model\n",
        "from sklearn import linear_model\n",
        "model = linear_model.LogisticRegression(fit_intercept = True)\n",
        "\n",
        "# Train Model\n",
        "model.fit(X_train, y_train)\n",
        "\n",
        "# Show model\n",
        "print(model.coef_)\n",
        "\n",
        "# Model Performance (Accuracy)\n",
        "print(model.score(X_train, y_train))"
      ],
      "metadata": {
        "colab": {
          "base_uri": "https://localhost:8080/"
        },
        "id": "n-SH0zhJcL5_",
        "outputId": "47b12a8b-35d0-45d6-cda5-cd66dca96586"
      },
      "execution_count": 30,
      "outputs": [
        {
          "output_type": "stream",
          "name": "stdout",
          "text": [
            "[[ 0.02558182 -0.0420351   0.63308752]]\n",
            "0.675483870967742\n"
          ]
        }
      ]
    },
    {
      "cell_type": "code",
      "source": [
        "from sklearn.metrics import f1_score\n",
        "y_pred = model.predict(X_train)\n",
        "f1_score(y_pred, y_train)"
      ],
      "metadata": {
        "colab": {
          "base_uri": "https://localhost:8080/"
        },
        "id": "_DvrYvEDZZbl",
        "outputId": "7a70f631-6886-46f5-ede8-36a661ac8535"
      },
      "execution_count": 31,
      "outputs": [
        {
          "output_type": "execute_result",
          "data": {
            "text/plain": [
              "0.5963081861958266"
            ]
          },
          "metadata": {},
          "execution_count": 31
        }
      ]
    },
    {
      "cell_type": "markdown",
      "source": [
        "Evaluate on test set? Not so fast..."
      ],
      "metadata": {
        "id": "ej_6xt--eQSw"
      }
    },
    {
      "cell_type": "markdown",
      "source": [
        "## Training with Cross-Validation \n",
        "### Implement CV (almost) from scratch with sklearn"
      ],
      "metadata": {
        "id": "5xwXA45PdRta"
      }
    },
    {
      "cell_type": "code",
      "source": [
        "from sklearn import model_selection\n",
        "# Set parameter k\n",
        "k = 5\n",
        "\n",
        "# Concat X_train and y_train\n",
        "kfold_df = X_train.copy()\n",
        "kfold_df['target'] = y_train\n",
        "\n",
        "# Shuffle the rows of the data frame\n",
        "kfold_df = kfold_df.sample(frac=1, replace=False, random_state=123).reset_index(drop = True)\n",
        "kfold_df['kfold'] = \"\"\n",
        "\n",
        "# Initiate KFold class from scikit-learn\n",
        "kf = model_selection.KFold(n_splits=k)\n",
        "\n",
        "# Populate the kfold column\n",
        "for fold, (train, validation) in enumerate(kf.split(X=kfold_df)):\n",
        " kfold_df.loc[validation, 'kfold'] = fold\n",
        "\n",
        "# Inspect training data frame\n",
        "kfold_df"
      ],
      "metadata": {
        "colab": {
          "base_uri": "https://localhost:8080/",
          "height": 419
        },
        "id": "kfT_Svy4dXpC",
        "outputId": "535a3a2d-f46c-476f-e346-fc9fa2896838"
      },
      "execution_count": 32,
      "outputs": [
        {
          "output_type": "execute_result",
          "data": {
            "text/plain": [
              "      MonthlyCharges  tenure  SeniorCitizen  target kfold\n",
              "0              30.35      23              0       0     0\n",
              "1              74.45       1              1       1     0\n",
              "2              75.60      23              0       1     0\n",
              "3              79.10       3              0       1     0\n",
              "4              70.05       9              0       0     0\n",
              "...              ...     ...            ...     ...   ...\n",
              "3095           19.65       1              0       1     4\n",
              "3096           73.75       4              0       1     4\n",
              "3097           64.10      40              0       0     4\n",
              "3098           94.20       8              0       1     4\n",
              "3099           19.50       2              0       0     4\n",
              "\n",
              "[3100 rows x 5 columns]"
            ],
            "text/html": [
              "\n",
              "  <div id=\"df-a1e2e399-b6ed-4c60-b813-8bfb32f87747\">\n",
              "    <div class=\"colab-df-container\">\n",
              "      <div>\n",
              "<style scoped>\n",
              "    .dataframe tbody tr th:only-of-type {\n",
              "        vertical-align: middle;\n",
              "    }\n",
              "\n",
              "    .dataframe tbody tr th {\n",
              "        vertical-align: top;\n",
              "    }\n",
              "\n",
              "    .dataframe thead th {\n",
              "        text-align: right;\n",
              "    }\n",
              "</style>\n",
              "<table border=\"1\" class=\"dataframe\">\n",
              "  <thead>\n",
              "    <tr style=\"text-align: right;\">\n",
              "      <th></th>\n",
              "      <th>MonthlyCharges</th>\n",
              "      <th>tenure</th>\n",
              "      <th>SeniorCitizen</th>\n",
              "      <th>target</th>\n",
              "      <th>kfold</th>\n",
              "    </tr>\n",
              "  </thead>\n",
              "  <tbody>\n",
              "    <tr>\n",
              "      <th>0</th>\n",
              "      <td>30.35</td>\n",
              "      <td>23</td>\n",
              "      <td>0</td>\n",
              "      <td>0</td>\n",
              "      <td>0</td>\n",
              "    </tr>\n",
              "    <tr>\n",
              "      <th>1</th>\n",
              "      <td>74.45</td>\n",
              "      <td>1</td>\n",
              "      <td>1</td>\n",
              "      <td>1</td>\n",
              "      <td>0</td>\n",
              "    </tr>\n",
              "    <tr>\n",
              "      <th>2</th>\n",
              "      <td>75.60</td>\n",
              "      <td>23</td>\n",
              "      <td>0</td>\n",
              "      <td>1</td>\n",
              "      <td>0</td>\n",
              "    </tr>\n",
              "    <tr>\n",
              "      <th>3</th>\n",
              "      <td>79.10</td>\n",
              "      <td>3</td>\n",
              "      <td>0</td>\n",
              "      <td>1</td>\n",
              "      <td>0</td>\n",
              "    </tr>\n",
              "    <tr>\n",
              "      <th>4</th>\n",
              "      <td>70.05</td>\n",
              "      <td>9</td>\n",
              "      <td>0</td>\n",
              "      <td>0</td>\n",
              "      <td>0</td>\n",
              "    </tr>\n",
              "    <tr>\n",
              "      <th>...</th>\n",
              "      <td>...</td>\n",
              "      <td>...</td>\n",
              "      <td>...</td>\n",
              "      <td>...</td>\n",
              "      <td>...</td>\n",
              "    </tr>\n",
              "    <tr>\n",
              "      <th>3095</th>\n",
              "      <td>19.65</td>\n",
              "      <td>1</td>\n",
              "      <td>0</td>\n",
              "      <td>1</td>\n",
              "      <td>4</td>\n",
              "    </tr>\n",
              "    <tr>\n",
              "      <th>3096</th>\n",
              "      <td>73.75</td>\n",
              "      <td>4</td>\n",
              "      <td>0</td>\n",
              "      <td>1</td>\n",
              "      <td>4</td>\n",
              "    </tr>\n",
              "    <tr>\n",
              "      <th>3097</th>\n",
              "      <td>64.10</td>\n",
              "      <td>40</td>\n",
              "      <td>0</td>\n",
              "      <td>0</td>\n",
              "      <td>4</td>\n",
              "    </tr>\n",
              "    <tr>\n",
              "      <th>3098</th>\n",
              "      <td>94.20</td>\n",
              "      <td>8</td>\n",
              "      <td>0</td>\n",
              "      <td>1</td>\n",
              "      <td>4</td>\n",
              "    </tr>\n",
              "    <tr>\n",
              "      <th>3099</th>\n",
              "      <td>19.50</td>\n",
              "      <td>2</td>\n",
              "      <td>0</td>\n",
              "      <td>0</td>\n",
              "      <td>4</td>\n",
              "    </tr>\n",
              "  </tbody>\n",
              "</table>\n",
              "<p>3100 rows × 5 columns</p>\n",
              "</div>\n",
              "      <button class=\"colab-df-convert\" onclick=\"convertToInteractive('df-a1e2e399-b6ed-4c60-b813-8bfb32f87747')\"\n",
              "              title=\"Convert this dataframe to an interactive table.\"\n",
              "              style=\"display:none;\">\n",
              "        \n",
              "  <svg xmlns=\"http://www.w3.org/2000/svg\" height=\"24px\"viewBox=\"0 0 24 24\"\n",
              "       width=\"24px\">\n",
              "    <path d=\"M0 0h24v24H0V0z\" fill=\"none\"/>\n",
              "    <path d=\"M18.56 5.44l.94 2.06.94-2.06 2.06-.94-2.06-.94-.94-2.06-.94 2.06-2.06.94zm-11 1L8.5 8.5l.94-2.06 2.06-.94-2.06-.94L8.5 2.5l-.94 2.06-2.06.94zm10 10l.94 2.06.94-2.06 2.06-.94-2.06-.94-.94-2.06-.94 2.06-2.06.94z\"/><path d=\"M17.41 7.96l-1.37-1.37c-.4-.4-.92-.59-1.43-.59-.52 0-1.04.2-1.43.59L10.3 9.45l-7.72 7.72c-.78.78-.78 2.05 0 2.83L4 21.41c.39.39.9.59 1.41.59.51 0 1.02-.2 1.41-.59l7.78-7.78 2.81-2.81c.8-.78.8-2.07 0-2.86zM5.41 20L4 18.59l7.72-7.72 1.47 1.35L5.41 20z\"/>\n",
              "  </svg>\n",
              "      </button>\n",
              "      \n",
              "  <style>\n",
              "    .colab-df-container {\n",
              "      display:flex;\n",
              "      flex-wrap:wrap;\n",
              "      gap: 12px;\n",
              "    }\n",
              "\n",
              "    .colab-df-convert {\n",
              "      background-color: #E8F0FE;\n",
              "      border: none;\n",
              "      border-radius: 50%;\n",
              "      cursor: pointer;\n",
              "      display: none;\n",
              "      fill: #1967D2;\n",
              "      height: 32px;\n",
              "      padding: 0 0 0 0;\n",
              "      width: 32px;\n",
              "    }\n",
              "\n",
              "    .colab-df-convert:hover {\n",
              "      background-color: #E2EBFA;\n",
              "      box-shadow: 0px 1px 2px rgba(60, 64, 67, 0.3), 0px 1px 3px 1px rgba(60, 64, 67, 0.15);\n",
              "      fill: #174EA6;\n",
              "    }\n",
              "\n",
              "    [theme=dark] .colab-df-convert {\n",
              "      background-color: #3B4455;\n",
              "      fill: #D2E3FC;\n",
              "    }\n",
              "\n",
              "    [theme=dark] .colab-df-convert:hover {\n",
              "      background-color: #434B5C;\n",
              "      box-shadow: 0px 1px 3px 1px rgba(0, 0, 0, 0.15);\n",
              "      filter: drop-shadow(0px 1px 2px rgba(0, 0, 0, 0.3));\n",
              "      fill: #FFFFFF;\n",
              "    }\n",
              "  </style>\n",
              "\n",
              "      <script>\n",
              "        const buttonEl =\n",
              "          document.querySelector('#df-a1e2e399-b6ed-4c60-b813-8bfb32f87747 button.colab-df-convert');\n",
              "        buttonEl.style.display =\n",
              "          google.colab.kernel.accessAllowed ? 'block' : 'none';\n",
              "\n",
              "        async function convertToInteractive(key) {\n",
              "          const element = document.querySelector('#df-a1e2e399-b6ed-4c60-b813-8bfb32f87747');\n",
              "          const dataTable =\n",
              "            await google.colab.kernel.invokeFunction('convertToInteractive',\n",
              "                                                     [key], {});\n",
              "          if (!dataTable) return;\n",
              "\n",
              "          const docLinkHtml = 'Like what you see? Visit the ' +\n",
              "            '<a target=\"_blank\" href=https://colab.research.google.com/notebooks/data_table.ipynb>data table notebook</a>'\n",
              "            + ' to learn more about interactive tables.';\n",
              "          element.innerHTML = '';\n",
              "          dataTable['output_type'] = 'display_data';\n",
              "          await google.colab.output.renderOutput(dataTable, element);\n",
              "          const docLink = document.createElement('div');\n",
              "          docLink.innerHTML = docLinkHtml;\n",
              "          element.appendChild(docLink);\n",
              "        }\n",
              "      </script>\n",
              "    </div>\n",
              "  </div>\n",
              "  "
            ]
          },
          "metadata": {},
          "execution_count": 32
        }
      ]
    },
    {
      "cell_type": "markdown",
      "source": [
        "Cross validation training loop"
      ],
      "metadata": {
        "id": "nmxnAiI-ddh-"
      }
    },
    {
      "cell_type": "code",
      "source": [
        "# Train Model with Cross-Validation\n",
        "mean_f1 = []\n",
        "\n",
        "model = linear_model.LogisticRegression(fit_intercept = True)\n",
        "\n",
        "for fold in range(0,k):\n",
        "\n",
        "  # Training data is all but the provided fold\n",
        "  fold_df = kfold_df[kfold_df['kfold'] != fold].reset_index(drop = True)\n",
        "\n",
        "  # Validation fold is the fold provided\n",
        "  valid_df = kfold_df[kfold_df['kfold'] == fold].reset_index(drop = True)\n",
        "\n",
        "  # Assign feature & target columns\n",
        "  X_train_cv = fold_df.drop(\"target\", axis = 1)\n",
        "  y_train_cv = fold_df['target']\n",
        "\n",
        "  # Same for validation set\n",
        "  X_valid_cv = valid_df.drop(\"target\", axis = 1)\n",
        "  y_valid_cv = valid_df['target']\n",
        "\n",
        "  # Fit the model on training data\n",
        "  model.fit(X_train_cv, y_train_cv)\n",
        "\n",
        "  # Get predictions for validation samples\n",
        "  predictions = model.predict(X_valid_cv)\n",
        "\n",
        "  # Evaluate model\n",
        "  f1 = f1_score(y_valid_cv, predictions)\n",
        "  print(f\"Fold = {fold}, F1 = {f1}\")\n",
        "\n",
        "  mean_f1.append(f1)\n",
        "\n",
        "print(f\"Average model F1-Score is {np.mean(mean_f1)}\")"
      ],
      "metadata": {
        "colab": {
          "base_uri": "https://localhost:8080/"
        },
        "id": "nnEmaubndcuL",
        "outputId": "d8e9e5d8-9f22-4dff-dca8-5ddb5a7b774a"
      },
      "execution_count": 33,
      "outputs": [
        {
          "output_type": "stream",
          "name": "stdout",
          "text": [
            "Fold = 0, F1 = 0.5756302521008403\n",
            "Fold = 1, F1 = 0.588957055214724\n",
            "Fold = 2, F1 = 0.58\n",
            "Fold = 3, F1 = 0.6457925636007827\n",
            "Fold = 4, F1 = 0.5692007797270955\n",
            "Average model F1-Score is 0.5919161301286884\n"
          ]
        }
      ]
    },
    {
      "cell_type": "markdown",
      "source": [
        "Great - we have validated our model accuracy using cross validation! Let's try different models / hyperparameters."
      ],
      "metadata": {
        "id": "E7EyWJxxeGR4"
      }
    },
    {
      "cell_type": "markdown",
      "source": [
        "## Grid Search with CV"
      ],
      "metadata": {
        "id": "zMXOA2_BeWZ_"
      }
    },
    {
      "cell_type": "markdown",
      "source": [
        "Hyperparameter tuning"
      ],
      "metadata": {
        "id": "daJU1aODebgY"
      }
    },
    {
      "cell_type": "code",
      "source": [
        "from sklearn.model_selection import GridSearchCV\n",
        "\n",
        "model = linear_model.LogisticRegression(fit_intercept = True, max_iter = 1000)\n",
        "\n",
        "# Define grid\n",
        "parameters = {'class_weight': [None, 'balanced'], 'solver':['newton-cg', 'lbfgs', 'liblinear', 'sag', 'saga']}\n",
        "\n",
        "grid_search = GridSearchCV(model, parameters, cv = k, scoring = \"f1\")\n",
        "grid_search.fit(X_train, y_train)"
      ],
      "metadata": {
        "colab": {
          "base_uri": "https://localhost:8080/"
        },
        "id": "T4mwp90Tea1B",
        "outputId": "caeec9b6-9621-4647-9230-46a50e711aa3"
      },
      "execution_count": 34,
      "outputs": [
        {
          "output_type": "execute_result",
          "data": {
            "text/plain": [
              "GridSearchCV(cv=5, estimator=LogisticRegression(max_iter=1000),\n",
              "             param_grid={'class_weight': [None, 'balanced'],\n",
              "                         'solver': ['newton-cg', 'lbfgs', 'liblinear', 'sag',\n",
              "                                    'saga']},\n",
              "             scoring='f1')"
            ]
          },
          "metadata": {},
          "execution_count": 34
        }
      ]
    },
    {
      "cell_type": "code",
      "source": [
        "pd.DataFrame((grid_search.cv_results_)).sort_values(\"rank_test_score\")"
      ],
      "metadata": {
        "colab": {
          "base_uri": "https://localhost:8080/",
          "height": 780
        },
        "id": "BXTTJz7Dfdoz",
        "outputId": "66e8d2fe-a086-4c6c-c61f-16ccf4984296"
      },
      "execution_count": 35,
      "outputs": [
        {
          "output_type": "execute_result",
          "data": {
            "text/plain": [
              "   mean_fit_time  std_fit_time  mean_score_time  std_score_time  \\\n",
              "9       0.274962      0.035227         0.004926        0.000251   \n",
              "8       0.169861      0.030058         0.005564        0.000962   \n",
              "7       0.012962      0.004088         0.009282        0.007460   \n",
              "5       0.050112      0.012460         0.004895        0.000307   \n",
              "6       0.051792      0.009262         0.012824        0.005463   \n",
              "0       0.033753      0.010227         0.003469        0.000727   \n",
              "1       0.021236      0.003783         0.003223        0.000288   \n",
              "2       0.006856      0.000251         0.003133        0.000114   \n",
              "3       0.112522      0.049129         0.004188        0.000801   \n",
              "4       0.391160      0.059171         0.008805        0.004974   \n",
              "\n",
              "  param_class_weight param_solver  \\\n",
              "9           balanced         saga   \n",
              "8           balanced          sag   \n",
              "7           balanced    liblinear   \n",
              "5           balanced    newton-cg   \n",
              "6           balanced        lbfgs   \n",
              "0               None    newton-cg   \n",
              "1               None        lbfgs   \n",
              "2               None    liblinear   \n",
              "3               None          sag   \n",
              "4               None         saga   \n",
              "\n",
              "                                              params  split0_test_score  \\\n",
              "9     {'class_weight': 'balanced', 'solver': 'saga'}           0.596187   \n",
              "8      {'class_weight': 'balanced', 'solver': 'sag'}           0.596187   \n",
              "7  {'class_weight': 'balanced', 'solver': 'liblin...           0.596187   \n",
              "5  {'class_weight': 'balanced', 'solver': 'newton...           0.596187   \n",
              "6    {'class_weight': 'balanced', 'solver': 'lbfgs'}           0.596187   \n",
              "0      {'class_weight': None, 'solver': 'newton-cg'}           0.572565   \n",
              "1          {'class_weight': None, 'solver': 'lbfgs'}           0.572565   \n",
              "2      {'class_weight': None, 'solver': 'liblinear'}           0.572565   \n",
              "3            {'class_weight': None, 'solver': 'sag'}           0.572565   \n",
              "4           {'class_weight': None, 'solver': 'saga'}           0.572565   \n",
              "\n",
              "   split1_test_score  split2_test_score  split3_test_score  split4_test_score  \\\n",
              "9           0.612389           0.605634           0.636364           0.636678   \n",
              "8           0.612389           0.604240           0.637478           0.636678   \n",
              "7           0.612389           0.604240           0.636364           0.636678   \n",
              "5           0.609929           0.602837           0.637478           0.635417   \n",
              "6           0.609929           0.602837           0.637478           0.635417   \n",
              "0           0.572000           0.592000           0.631365           0.605210   \n",
              "1           0.572000           0.592000           0.631365           0.605210   \n",
              "2           0.570281           0.592000           0.631365           0.600000   \n",
              "3           0.570281           0.592000           0.631365           0.600000   \n",
              "4           0.570281           0.592000           0.627291           0.600000   \n",
              "\n",
              "   mean_test_score  std_test_score  rank_test_score  \n",
              "9         0.617450        0.016400                1  \n",
              "8         0.617395        0.016870                2  \n",
              "7         0.617172        0.016609                3  \n",
              "5         0.616370        0.016972                4  \n",
              "6         0.616370        0.016972                4  \n",
              "0         0.594628        0.022214                6  \n",
              "1         0.594628        0.022214                6  \n",
              "2         0.593242        0.022160                8  \n",
              "3         0.593242        0.022160                8  \n",
              "4         0.592427        0.020775               10  "
            ],
            "text/html": [
              "\n",
              "  <div id=\"df-3bf27ad5-8c1f-49e0-a4c7-30bea54665cd\">\n",
              "    <div class=\"colab-df-container\">\n",
              "      <div>\n",
              "<style scoped>\n",
              "    .dataframe tbody tr th:only-of-type {\n",
              "        vertical-align: middle;\n",
              "    }\n",
              "\n",
              "    .dataframe tbody tr th {\n",
              "        vertical-align: top;\n",
              "    }\n",
              "\n",
              "    .dataframe thead th {\n",
              "        text-align: right;\n",
              "    }\n",
              "</style>\n",
              "<table border=\"1\" class=\"dataframe\">\n",
              "  <thead>\n",
              "    <tr style=\"text-align: right;\">\n",
              "      <th></th>\n",
              "      <th>mean_fit_time</th>\n",
              "      <th>std_fit_time</th>\n",
              "      <th>mean_score_time</th>\n",
              "      <th>std_score_time</th>\n",
              "      <th>param_class_weight</th>\n",
              "      <th>param_solver</th>\n",
              "      <th>params</th>\n",
              "      <th>split0_test_score</th>\n",
              "      <th>split1_test_score</th>\n",
              "      <th>split2_test_score</th>\n",
              "      <th>split3_test_score</th>\n",
              "      <th>split4_test_score</th>\n",
              "      <th>mean_test_score</th>\n",
              "      <th>std_test_score</th>\n",
              "      <th>rank_test_score</th>\n",
              "    </tr>\n",
              "  </thead>\n",
              "  <tbody>\n",
              "    <tr>\n",
              "      <th>9</th>\n",
              "      <td>0.274962</td>\n",
              "      <td>0.035227</td>\n",
              "      <td>0.004926</td>\n",
              "      <td>0.000251</td>\n",
              "      <td>balanced</td>\n",
              "      <td>saga</td>\n",
              "      <td>{'class_weight': 'balanced', 'solver': 'saga'}</td>\n",
              "      <td>0.596187</td>\n",
              "      <td>0.612389</td>\n",
              "      <td>0.605634</td>\n",
              "      <td>0.636364</td>\n",
              "      <td>0.636678</td>\n",
              "      <td>0.617450</td>\n",
              "      <td>0.016400</td>\n",
              "      <td>1</td>\n",
              "    </tr>\n",
              "    <tr>\n",
              "      <th>8</th>\n",
              "      <td>0.169861</td>\n",
              "      <td>0.030058</td>\n",
              "      <td>0.005564</td>\n",
              "      <td>0.000962</td>\n",
              "      <td>balanced</td>\n",
              "      <td>sag</td>\n",
              "      <td>{'class_weight': 'balanced', 'solver': 'sag'}</td>\n",
              "      <td>0.596187</td>\n",
              "      <td>0.612389</td>\n",
              "      <td>0.604240</td>\n",
              "      <td>0.637478</td>\n",
              "      <td>0.636678</td>\n",
              "      <td>0.617395</td>\n",
              "      <td>0.016870</td>\n",
              "      <td>2</td>\n",
              "    </tr>\n",
              "    <tr>\n",
              "      <th>7</th>\n",
              "      <td>0.012962</td>\n",
              "      <td>0.004088</td>\n",
              "      <td>0.009282</td>\n",
              "      <td>0.007460</td>\n",
              "      <td>balanced</td>\n",
              "      <td>liblinear</td>\n",
              "      <td>{'class_weight': 'balanced', 'solver': 'liblin...</td>\n",
              "      <td>0.596187</td>\n",
              "      <td>0.612389</td>\n",
              "      <td>0.604240</td>\n",
              "      <td>0.636364</td>\n",
              "      <td>0.636678</td>\n",
              "      <td>0.617172</td>\n",
              "      <td>0.016609</td>\n",
              "      <td>3</td>\n",
              "    </tr>\n",
              "    <tr>\n",
              "      <th>5</th>\n",
              "      <td>0.050112</td>\n",
              "      <td>0.012460</td>\n",
              "      <td>0.004895</td>\n",
              "      <td>0.000307</td>\n",
              "      <td>balanced</td>\n",
              "      <td>newton-cg</td>\n",
              "      <td>{'class_weight': 'balanced', 'solver': 'newton...</td>\n",
              "      <td>0.596187</td>\n",
              "      <td>0.609929</td>\n",
              "      <td>0.602837</td>\n",
              "      <td>0.637478</td>\n",
              "      <td>0.635417</td>\n",
              "      <td>0.616370</td>\n",
              "      <td>0.016972</td>\n",
              "      <td>4</td>\n",
              "    </tr>\n",
              "    <tr>\n",
              "      <th>6</th>\n",
              "      <td>0.051792</td>\n",
              "      <td>0.009262</td>\n",
              "      <td>0.012824</td>\n",
              "      <td>0.005463</td>\n",
              "      <td>balanced</td>\n",
              "      <td>lbfgs</td>\n",
              "      <td>{'class_weight': 'balanced', 'solver': 'lbfgs'}</td>\n",
              "      <td>0.596187</td>\n",
              "      <td>0.609929</td>\n",
              "      <td>0.602837</td>\n",
              "      <td>0.637478</td>\n",
              "      <td>0.635417</td>\n",
              "      <td>0.616370</td>\n",
              "      <td>0.016972</td>\n",
              "      <td>4</td>\n",
              "    </tr>\n",
              "    <tr>\n",
              "      <th>0</th>\n",
              "      <td>0.033753</td>\n",
              "      <td>0.010227</td>\n",
              "      <td>0.003469</td>\n",
              "      <td>0.000727</td>\n",
              "      <td>None</td>\n",
              "      <td>newton-cg</td>\n",
              "      <td>{'class_weight': None, 'solver': 'newton-cg'}</td>\n",
              "      <td>0.572565</td>\n",
              "      <td>0.572000</td>\n",
              "      <td>0.592000</td>\n",
              "      <td>0.631365</td>\n",
              "      <td>0.605210</td>\n",
              "      <td>0.594628</td>\n",
              "      <td>0.022214</td>\n",
              "      <td>6</td>\n",
              "    </tr>\n",
              "    <tr>\n",
              "      <th>1</th>\n",
              "      <td>0.021236</td>\n",
              "      <td>0.003783</td>\n",
              "      <td>0.003223</td>\n",
              "      <td>0.000288</td>\n",
              "      <td>None</td>\n",
              "      <td>lbfgs</td>\n",
              "      <td>{'class_weight': None, 'solver': 'lbfgs'}</td>\n",
              "      <td>0.572565</td>\n",
              "      <td>0.572000</td>\n",
              "      <td>0.592000</td>\n",
              "      <td>0.631365</td>\n",
              "      <td>0.605210</td>\n",
              "      <td>0.594628</td>\n",
              "      <td>0.022214</td>\n",
              "      <td>6</td>\n",
              "    </tr>\n",
              "    <tr>\n",
              "      <th>2</th>\n",
              "      <td>0.006856</td>\n",
              "      <td>0.000251</td>\n",
              "      <td>0.003133</td>\n",
              "      <td>0.000114</td>\n",
              "      <td>None</td>\n",
              "      <td>liblinear</td>\n",
              "      <td>{'class_weight': None, 'solver': 'liblinear'}</td>\n",
              "      <td>0.572565</td>\n",
              "      <td>0.570281</td>\n",
              "      <td>0.592000</td>\n",
              "      <td>0.631365</td>\n",
              "      <td>0.600000</td>\n",
              "      <td>0.593242</td>\n",
              "      <td>0.022160</td>\n",
              "      <td>8</td>\n",
              "    </tr>\n",
              "    <tr>\n",
              "      <th>3</th>\n",
              "      <td>0.112522</td>\n",
              "      <td>0.049129</td>\n",
              "      <td>0.004188</td>\n",
              "      <td>0.000801</td>\n",
              "      <td>None</td>\n",
              "      <td>sag</td>\n",
              "      <td>{'class_weight': None, 'solver': 'sag'}</td>\n",
              "      <td>0.572565</td>\n",
              "      <td>0.570281</td>\n",
              "      <td>0.592000</td>\n",
              "      <td>0.631365</td>\n",
              "      <td>0.600000</td>\n",
              "      <td>0.593242</td>\n",
              "      <td>0.022160</td>\n",
              "      <td>8</td>\n",
              "    </tr>\n",
              "    <tr>\n",
              "      <th>4</th>\n",
              "      <td>0.391160</td>\n",
              "      <td>0.059171</td>\n",
              "      <td>0.008805</td>\n",
              "      <td>0.004974</td>\n",
              "      <td>None</td>\n",
              "      <td>saga</td>\n",
              "      <td>{'class_weight': None, 'solver': 'saga'}</td>\n",
              "      <td>0.572565</td>\n",
              "      <td>0.570281</td>\n",
              "      <td>0.592000</td>\n",
              "      <td>0.627291</td>\n",
              "      <td>0.600000</td>\n",
              "      <td>0.592427</td>\n",
              "      <td>0.020775</td>\n",
              "      <td>10</td>\n",
              "    </tr>\n",
              "  </tbody>\n",
              "</table>\n",
              "</div>\n",
              "      <button class=\"colab-df-convert\" onclick=\"convertToInteractive('df-3bf27ad5-8c1f-49e0-a4c7-30bea54665cd')\"\n",
              "              title=\"Convert this dataframe to an interactive table.\"\n",
              "              style=\"display:none;\">\n",
              "        \n",
              "  <svg xmlns=\"http://www.w3.org/2000/svg\" height=\"24px\"viewBox=\"0 0 24 24\"\n",
              "       width=\"24px\">\n",
              "    <path d=\"M0 0h24v24H0V0z\" fill=\"none\"/>\n",
              "    <path d=\"M18.56 5.44l.94 2.06.94-2.06 2.06-.94-2.06-.94-.94-2.06-.94 2.06-2.06.94zm-11 1L8.5 8.5l.94-2.06 2.06-.94-2.06-.94L8.5 2.5l-.94 2.06-2.06.94zm10 10l.94 2.06.94-2.06 2.06-.94-2.06-.94-.94-2.06-.94 2.06-2.06.94z\"/><path d=\"M17.41 7.96l-1.37-1.37c-.4-.4-.92-.59-1.43-.59-.52 0-1.04.2-1.43.59L10.3 9.45l-7.72 7.72c-.78.78-.78 2.05 0 2.83L4 21.41c.39.39.9.59 1.41.59.51 0 1.02-.2 1.41-.59l7.78-7.78 2.81-2.81c.8-.78.8-2.07 0-2.86zM5.41 20L4 18.59l7.72-7.72 1.47 1.35L5.41 20z\"/>\n",
              "  </svg>\n",
              "      </button>\n",
              "      \n",
              "  <style>\n",
              "    .colab-df-container {\n",
              "      display:flex;\n",
              "      flex-wrap:wrap;\n",
              "      gap: 12px;\n",
              "    }\n",
              "\n",
              "    .colab-df-convert {\n",
              "      background-color: #E8F0FE;\n",
              "      border: none;\n",
              "      border-radius: 50%;\n",
              "      cursor: pointer;\n",
              "      display: none;\n",
              "      fill: #1967D2;\n",
              "      height: 32px;\n",
              "      padding: 0 0 0 0;\n",
              "      width: 32px;\n",
              "    }\n",
              "\n",
              "    .colab-df-convert:hover {\n",
              "      background-color: #E2EBFA;\n",
              "      box-shadow: 0px 1px 2px rgba(60, 64, 67, 0.3), 0px 1px 3px 1px rgba(60, 64, 67, 0.15);\n",
              "      fill: #174EA6;\n",
              "    }\n",
              "\n",
              "    [theme=dark] .colab-df-convert {\n",
              "      background-color: #3B4455;\n",
              "      fill: #D2E3FC;\n",
              "    }\n",
              "\n",
              "    [theme=dark] .colab-df-convert:hover {\n",
              "      background-color: #434B5C;\n",
              "      box-shadow: 0px 1px 3px 1px rgba(0, 0, 0, 0.15);\n",
              "      filter: drop-shadow(0px 1px 2px rgba(0, 0, 0, 0.3));\n",
              "      fill: #FFFFFF;\n",
              "    }\n",
              "  </style>\n",
              "\n",
              "      <script>\n",
              "        const buttonEl =\n",
              "          document.querySelector('#df-3bf27ad5-8c1f-49e0-a4c7-30bea54665cd button.colab-df-convert');\n",
              "        buttonEl.style.display =\n",
              "          google.colab.kernel.accessAllowed ? 'block' : 'none';\n",
              "\n",
              "        async function convertToInteractive(key) {\n",
              "          const element = document.querySelector('#df-3bf27ad5-8c1f-49e0-a4c7-30bea54665cd');\n",
              "          const dataTable =\n",
              "            await google.colab.kernel.invokeFunction('convertToInteractive',\n",
              "                                                     [key], {});\n",
              "          if (!dataTable) return;\n",
              "\n",
              "          const docLinkHtml = 'Like what you see? Visit the ' +\n",
              "            '<a target=\"_blank\" href=https://colab.research.google.com/notebooks/data_table.ipynb>data table notebook</a>'\n",
              "            + ' to learn more about interactive tables.';\n",
              "          element.innerHTML = '';\n",
              "          dataTable['output_type'] = 'display_data';\n",
              "          await google.colab.output.renderOutput(dataTable, element);\n",
              "          const docLink = document.createElement('div');\n",
              "          docLink.innerHTML = docLinkHtml;\n",
              "          element.appendChild(docLink);\n",
              "        }\n",
              "      </script>\n",
              "    </div>\n",
              "  </div>\n",
              "  "
            ]
          },
          "metadata": {},
          "execution_count": 35
        }
      ]
    },
    {
      "cell_type": "code",
      "source": [
        "grid_search.best_estimator_"
      ],
      "metadata": {
        "colab": {
          "base_uri": "https://localhost:8080/"
        },
        "id": "LwR65Cw6iMFL",
        "outputId": "4c888af7-af59-404a-88eb-5a30a475cffc"
      },
      "execution_count": 36,
      "outputs": [
        {
          "output_type": "execute_result",
          "data": {
            "text/plain": [
              "LogisticRegression(class_weight='balanced', max_iter=1000, solver='saga')"
            ]
          },
          "metadata": {},
          "execution_count": 36
        }
      ]
    },
    {
      "cell_type": "code",
      "source": [
        "# Train model on full training set with best estimator\n",
        "best_model = grid_search.best_estimator_\n",
        "\n",
        "# Fit the model on training data\n",
        "best_model.fit(X_train, y_train)"
      ],
      "metadata": {
        "colab": {
          "base_uri": "https://localhost:8080/"
        },
        "id": "RN5gW8Y9iS0D",
        "outputId": "277ebf52-9597-45d1-f859-64f13cb08621"
      },
      "execution_count": 37,
      "outputs": [
        {
          "output_type": "execute_result",
          "data": {
            "text/plain": [
              "LogisticRegression(class_weight='balanced', max_iter=1000, solver='saga')"
            ]
          },
          "metadata": {},
          "execution_count": 37
        }
      ]
    },
    {
      "cell_type": "markdown",
      "source": [
        "Inspect Confusion Matrix"
      ],
      "metadata": {
        "id": "Ig6phLENcEWN"
      }
    },
    {
      "cell_type": "code",
      "source": [
        "from sklearn.metrics import confusion_matrix, ConfusionMatrixDisplay\n",
        "y_pred = best_model.predict(X_train)\n",
        "\n",
        "cm = confusion_matrix(y_train, y_pred, labels = best_model.classes_)\n",
        "plt = ConfusionMatrixDisplay(confusion_matrix=cm, display_labels=best_model .classes_)\n",
        "plt.plot(cmap = \"Blues\");"
      ],
      "metadata": {
        "colab": {
          "base_uri": "https://localhost:8080/",
          "height": 279
        },
        "id": "MCnFfRuqb4Xn",
        "outputId": "845b44d0-64ae-45da-bf64-256f1fa2d533"
      },
      "execution_count": 38,
      "outputs": [
        {
          "output_type": "display_data",
          "data": {
            "text/plain": [
              "<Figure size 432x288 with 2 Axes>"
            ],
            "image/png": "[encoded data removed]"
          },
          "metadata": {
            "needs_background": "light"
          }
        }
      ]
    },
    {
      "cell_type": "markdown",
      "source": [
        "* **Top left**: Actual negative, negative positive = True Negatives\n",
        "* **Top right**: Actual negative, predicted positive = False Positives\n",
        "* **Bottom left**: Actual positive, predicted negative = False Negatives\n",
        "* **Bottom right**: Actual positive, predicted positive = True Positives"
      ],
      "metadata": {
        "id": "iRXDSVD4dYV7"
      }
    },
    {
      "cell_type": "markdown",
      "source": [
        "## Feature Engineering"
      ],
      "metadata": {
        "id": "LtEt6tbztF1F"
      }
    },
    {
      "cell_type": "markdown",
      "source": [
        "### Get Data"
      ],
      "metadata": {
        "id": "7fzUSKA3eAwI"
      }
    },
    {
      "cell_type": "code",
      "source": [
        "import numpy as np\n",
        "import pandas as pd\n",
        "import matplotlib.pyplot as plt\n",
        "df = pd.read_csv(\"https://raw.githubusercontent.com/IBM/telco-customer-churn-on-icp4d/master/data/Telco-Customer-Churn.csv\")\n",
        "df = df.query(\"Contract == 'Month-to-month'\")"
      ],
      "metadata": {
        "id": "2c4E66GNeFmN"
      },
      "execution_count": 39,
      "outputs": []
    },
    {
      "cell_type": "code",
      "source": [
        "# Define X and y\n",
        "X = df.drop(['Churn'], axis = 1)\n",
        "y = df['Churn']\n",
        "y = y.map(dict(Yes=1, No=0))\n",
        "\n",
        "# Stratified train test split\n",
        "X_train, X_test, y_train, y_test = train_test_split(X, y, test_size=0.2, random_state=123, stratify= y )"
      ],
      "metadata": {
        "id": "57jjLV_UtJLI"
      },
      "execution_count": 40,
      "outputs": []
    },
    {
      "cell_type": "code",
      "source": [
        "print(pd.Series(y_train).value_counts(normalize = True))\n",
        "print(pd.Series(y_test).value_counts(normalize = True))"
      ],
      "metadata": {
        "colab": {
          "base_uri": "https://localhost:8080/"
        },
        "id": "-cRvcrOlx5Wb",
        "outputId": "d3350092-5e53-47c2-dff8-f58cb293992b"
      },
      "execution_count": 41,
      "outputs": [
        {
          "output_type": "stream",
          "name": "stdout",
          "text": [
            "0    0.572903\n",
            "1    0.427097\n",
            "Name: Churn, dtype: float64\n",
            "0    0.572903\n",
            "1    0.427097\n",
            "Name: Churn, dtype: float64\n"
          ]
        }
      ]
    },
    {
      "cell_type": "code",
      "source": [
        "X_train.head()"
      ],
      "metadata": {
        "colab": {
          "base_uri": "https://localhost:8080/",
          "height": 353
        },
        "id": "-uAwS7pUupDA",
        "outputId": "e4e7761f-68e0-414e-dfb2-fe248506fa73"
      },
      "execution_count": 42,
      "outputs": [
        {
          "output_type": "execute_result",
          "data": {
            "text/plain": [
              "      customerID  gender  SeniorCitizen Partner Dependents  tenure  \\\n",
              "6028  1871-MOWRM    Male              0     Yes         No      12   \n",
              "4645  5219-YIPTK  Female              0     Yes         No      33   \n",
              "5958  6859-RKMZJ    Male              0     Yes         No      11   \n",
              "6031  0282-NVSJS  Female              1     Yes        Yes      12   \n",
              "459   1452-VOQCH    Male              0      No         No       1   \n",
              "\n",
              "     PhoneService     MultipleLines InternetService OnlineSecurity  \\\n",
              "6028          Yes                No     Fiber optic            Yes   \n",
              "4645          Yes               Yes     Fiber optic             No   \n",
              "5958          Yes                No             DSL             No   \n",
              "6031           No  No phone service             DSL             No   \n",
              "459           Yes               Yes     Fiber optic             No   \n",
              "\n",
              "     OnlineBackup DeviceProtection TechSupport StreamingTV StreamingMovies  \\\n",
              "6028           No               No         Yes          No              No   \n",
              "4645          Yes              Yes          No         Yes             Yes   \n",
              "5958           No               No          No         Yes              No   \n",
              "6031           No               No         Yes          No              No   \n",
              "459            No               No          No          No              No   \n",
              "\n",
              "            Contract PaperlessBilling              PaymentMethod  \\\n",
              "6028  Month-to-month               No  Bank transfer (automatic)   \n",
              "4645  Month-to-month              Yes           Electronic check   \n",
              "5958  Month-to-month              Yes  Bank transfer (automatic)   \n",
              "6031  Month-to-month              Yes               Mailed check   \n",
              "459   Month-to-month              Yes           Electronic check   \n",
              "\n",
              "      MonthlyCharges TotalCharges  \n",
              "6028           80.85       866.45  \n",
              "4645          104.40       3409.6  \n",
              "5958           55.05       608.15  \n",
              "6031           29.30        355.9  \n",
              "459            75.10         75.1  "
            ],
            "text/html": [
              "\n",
              "  <div id=\"df-00eeae6b-08be-4446-8311-a349469027d0\">\n",
              "    <div class=\"colab-df-container\">\n",
              "      <div>\n",
              "<style scoped>\n",
              "    .dataframe tbody tr th:only-of-type {\n",
              "        vertical-align: middle;\n",
              "    }\n",
              "\n",
              "    .dataframe tbody tr th {\n",
              "        vertical-align: top;\n",
              "    }\n",
              "\n",
              "    .dataframe thead th {\n",
              "        text-align: right;\n",
              "    }\n",
              "</style>\n",
              "<table border=\"1\" class=\"dataframe\">\n",
              "  <thead>\n",
              "    <tr style=\"text-align: right;\">\n",
              "      <th></th>\n",
              "      <th>customerID</th>\n",
              "      <th>gender</th>\n",
              "      <th>SeniorCitizen</th>\n",
              "      <th>Partner</th>\n",
              "      <th>Dependents</th>\n",
              "      <th>tenure</th>\n",
              "      <th>PhoneService</th>\n",
              "      <th>MultipleLines</th>\n",
              "      <th>InternetService</th>\n",
              "      <th>OnlineSecurity</th>\n",
              "      <th>OnlineBackup</th>\n",
              "      <th>DeviceProtection</th>\n",
              "      <th>TechSupport</th>\n",
              "      <th>StreamingTV</th>\n",
              "      <th>StreamingMovies</th>\n",
              "      <th>Contract</th>\n",
              "      <th>PaperlessBilling</th>\n",
              "      <th>PaymentMethod</th>\n",
              "      <th>MonthlyCharges</th>\n",
              "      <th>TotalCharges</th>\n",
              "    </tr>\n",
              "  </thead>\n",
              "  <tbody>\n",
              "    <tr>\n",
              "      <th>6028</th>\n",
              "      <td>1871-MOWRM</td>\n",
              "      <td>Male</td>\n",
              "      <td>0</td>\n",
              "      <td>Yes</td>\n",
              "      <td>No</td>\n",
              "      <td>12</td>\n",
              "      <td>Yes</td>\n",
              "      <td>No</td>\n",
              "      <td>Fiber optic</td>\n",
              "      <td>Yes</td>\n",
              "      <td>No</td>\n",
              "      <td>No</td>\n",
              "      <td>Yes</td>\n",
              "      <td>No</td>\n",
              "      <td>No</td>\n",
              "      <td>Month-to-month</td>\n",
              "      <td>No</td>\n",
              "      <td>Bank transfer (automatic)</td>\n",
              "      <td>80.85</td>\n",
              "      <td>866.45</td>\n",
              "    </tr>\n",
              "    <tr>\n",
              "      <th>4645</th>\n",
              "      <td>5219-YIPTK</td>\n",
              "      <td>Female</td>\n",
              "      <td>0</td>\n",
              "      <td>Yes</td>\n",
              "      <td>No</td>\n",
              "      <td>33</td>\n",
              "      <td>Yes</td>\n",
              "      <td>Yes</td>\n",
              "      <td>Fiber optic</td>\n",
              "      <td>No</td>\n",
              "      <td>Yes</td>\n",
              "      <td>Yes</td>\n",
              "      <td>No</td>\n",
              "      <td>Yes</td>\n",
              "      <td>Yes</td>\n",
              "      <td>Month-to-month</td>\n",
              "      <td>Yes</td>\n",
              "      <td>Electronic check</td>\n",
              "      <td>104.40</td>\n",
              "      <td>3409.6</td>\n",
              "    </tr>\n",
              "    <tr>\n",
              "      <th>5958</th>\n",
              "      <td>6859-RKMZJ</td>\n",
              "      <td>Male</td>\n",
              "      <td>0</td>\n",
              "      <td>Yes</td>\n",
              "      <td>No</td>\n",
              "      <td>11</td>\n",
              "      <td>Yes</td>\n",
              "      <td>No</td>\n",
              "      <td>DSL</td>\n",
              "      <td>No</td>\n",
              "      <td>No</td>\n",
              "      <td>No</td>\n",
              "      <td>No</td>\n",
              "      <td>Yes</td>\n",
              "      <td>No</td>\n",
              "      <td>Month-to-month</td>\n",
              "      <td>Yes</td>\n",
              "      <td>Bank transfer (automatic)</td>\n",
              "      <td>55.05</td>\n",
              "      <td>608.15</td>\n",
              "    </tr>\n",
              "    <tr>\n",
              "      <th>6031</th>\n",
              "      <td>0282-NVSJS</td>\n",
              "      <td>Female</td>\n",
              "      <td>1</td>\n",
              "      <td>Yes</td>\n",
              "      <td>Yes</td>\n",
              "      <td>12</td>\n",
              "      <td>No</td>\n",
              "      <td>No phone service</td>\n",
              "      <td>DSL</td>\n",
              "      <td>No</td>\n",
              "      <td>No</td>\n",
              "      <td>No</td>\n",
              "      <td>Yes</td>\n",
              "      <td>No</td>\n",
              "      <td>No</td>\n",
              "      <td>Month-to-month</td>\n",
              "      <td>Yes</td>\n",
              "      <td>Mailed check</td>\n",
              "      <td>29.30</td>\n",
              "      <td>355.9</td>\n",
              "    </tr>\n",
              "    <tr>\n",
              "      <th>459</th>\n",
              "      <td>1452-VOQCH</td>\n",
              "      <td>Male</td>\n",
              "      <td>0</td>\n",
              "      <td>No</td>\n",
              "      <td>No</td>\n",
              "      <td>1</td>\n",
              "      <td>Yes</td>\n",
              "      <td>Yes</td>\n",
              "      <td>Fiber optic</td>\n",
              "      <td>No</td>\n",
              "      <td>No</td>\n",
              "      <td>No</td>\n",
              "      <td>No</td>\n",
              "      <td>No</td>\n",
              "      <td>No</td>\n",
              "      <td>Month-to-month</td>\n",
              "      <td>Yes</td>\n",
              "      <td>Electronic check</td>\n",
              "      <td>75.10</td>\n",
              "      <td>75.1</td>\n",
              "    </tr>\n",
              "  </tbody>\n",
              "</table>\n",
              "</div>\n",
              "      <button class=\"colab-df-convert\" onclick=\"convertToInteractive('df-00eeae6b-08be-4446-8311-a349469027d0')\"\n",
              "              title=\"Convert this dataframe to an interactive table.\"\n",
              "              style=\"display:none;\">\n",
              "        \n",
              "  <svg xmlns=\"http://www.w3.org/2000/svg\" height=\"24px\"viewBox=\"0 0 24 24\"\n",
              "       width=\"24px\">\n",
              "    <path d=\"M0 0h24v24H0V0z\" fill=\"none\"/>\n",
              "    <path d=\"M18.56 5.44l.94 2.06.94-2.06 2.06-.94-2.06-.94-.94-2.06-.94 2.06-2.06.94zm-11 1L8.5 8.5l.94-2.06 2.06-.94-2.06-.94L8.5 2.5l-.94 2.06-2.06.94zm10 10l.94 2.06.94-2.06 2.06-.94-2.06-.94-.94-2.06-.94 2.06-2.06.94z\"/><path d=\"M17.41 7.96l-1.37-1.37c-.4-.4-.92-.59-1.43-.59-.52 0-1.04.2-1.43.59L10.3 9.45l-7.72 7.72c-.78.78-.78 2.05 0 2.83L4 21.41c.39.39.9.59 1.41.59.51 0 1.02-.2 1.41-.59l7.78-7.78 2.81-2.81c.8-.78.8-2.07 0-2.86zM5.41 20L4 18.59l7.72-7.72 1.47 1.35L5.41 20z\"/>\n",
              "  </svg>\n",
              "      </button>\n",
              "      \n",
              "  <style>\n",
              "    .colab-df-container {\n",
              "      display:flex;\n",
              "      flex-wrap:wrap;\n",
              "      gap: 12px;\n",
              "    }\n",
              "\n",
              "    .colab-df-convert {\n",
              "      background-color: #E8F0FE;\n",
              "      border: none;\n",
              "      border-radius: 50%;\n",
              "      cursor: pointer;\n",
              "      display: none;\n",
              "      fill: #1967D2;\n",
              "      height: 32px;\n",
              "      padding: 0 0 0 0;\n",
              "      width: 32px;\n",
              "    }\n",
              "\n",
              "    .colab-df-convert:hover {\n",
              "      background-color: #E2EBFA;\n",
              "      box-shadow: 0px 1px 2px rgba(60, 64, 67, 0.3), 0px 1px 3px 1px rgba(60, 64, 67, 0.15);\n",
              "      fill: #174EA6;\n",
              "    }\n",
              "\n",
              "    [theme=dark] .colab-df-convert {\n",
              "      background-color: #3B4455;\n",
              "      fill: #D2E3FC;\n",
              "    }\n",
              "\n",
              "    [theme=dark] .colab-df-convert:hover {\n",
              "      background-color: #434B5C;\n",
              "      box-shadow: 0px 1px 3px 1px rgba(0, 0, 0, 0.15);\n",
              "      filter: drop-shadow(0px 1px 2px rgba(0, 0, 0, 0.3));\n",
              "      fill: #FFFFFF;\n",
              "    }\n",
              "  </style>\n",
              "\n",
              "      <script>\n",
              "        const buttonEl =\n",
              "          document.querySelector('#df-00eeae6b-08be-4446-8311-a349469027d0 button.colab-df-convert');\n",
              "        buttonEl.style.display =\n",
              "          google.colab.kernel.accessAllowed ? 'block' : 'none';\n",
              "\n",
              "        async function convertToInteractive(key) {\n",
              "          const element = document.querySelector('#df-00eeae6b-08be-4446-8311-a349469027d0');\n",
              "          const dataTable =\n",
              "            await google.colab.kernel.invokeFunction('convertToInteractive',\n",
              "                                                     [key], {});\n",
              "          if (!dataTable) return;\n",
              "\n",
              "          const docLinkHtml = 'Like what you see? Visit the ' +\n",
              "            '<a target=\"_blank\" href=https://colab.research.google.com/notebooks/data_table.ipynb>data table notebook</a>'\n",
              "            + ' to learn more about interactive tables.';\n",
              "          element.innerHTML = '';\n",
              "          dataTable['output_type'] = 'display_data';\n",
              "          await google.colab.output.renderOutput(dataTable, element);\n",
              "          const docLink = document.createElement('div');\n",
              "          docLink.innerHTML = docLinkHtml;\n",
              "          element.appendChild(docLink);\n",
              "        }\n",
              "      </script>\n",
              "    </div>\n",
              "  </div>\n",
              "  "
            ]
          },
          "metadata": {},
          "execution_count": 42
        }
      ]
    },
    {
      "cell_type": "markdown",
      "source": [
        "Drop features we don't want to have:\n",
        "\n",
        "* `customerID` does not generalize\n",
        "* we don't want `gender` for ethical reasons\n",
        "* `Contract` is only Month-to-month as per our definition"
      ],
      "metadata": {
        "id": "n7W0lN1Uuu1X"
      }
    },
    {
      "cell_type": "code",
      "source": [
        "X_train = X_train.drop(['customerID', 'gender', 'Contract'], axis = 1)"
      ],
      "metadata": {
        "id": "oKMZP28AuuQl"
      },
      "execution_count": 43,
      "outputs": []
    },
    {
      "cell_type": "markdown",
      "source": [
        "Separate numeric from categorical columns"
      ],
      "metadata": {
        "id": "NiM8znWcvtOS"
      }
    },
    {
      "cell_type": "code",
      "source": [
        "num_cols = X_train._get_numeric_data().columns\n",
        "num_cols"
      ],
      "metadata": {
        "colab": {
          "base_uri": "https://localhost:8080/"
        },
        "id": "jVbsxluIvRaY",
        "outputId": "e13c8b50-1c7f-4704-f439-94cad049cab3"
      },
      "execution_count": 44,
      "outputs": [
        {
          "output_type": "execute_result",
          "data": {
            "text/plain": [
              "Index(['SeniorCitizen', 'tenure', 'MonthlyCharges'], dtype='object')"
            ]
          },
          "metadata": {},
          "execution_count": 44
        }
      ]
    },
    {
      "cell_type": "markdown",
      "source": [
        "Encode `SeniorCitizen` as string"
      ],
      "metadata": {
        "id": "TKYunCXtw4p1"
      }
    },
    {
      "cell_type": "code",
      "source": [
        "X_train['SeniorCitizen'] = X_train['SeniorCitizen'].astype(str)"
      ],
      "metadata": {
        "id": "uoZ_Cd56xQcF"
      },
      "execution_count": 45,
      "outputs": []
    },
    {
      "cell_type": "markdown",
      "source": [
        "Encode `TotalCharges` as numeric"
      ],
      "metadata": {
        "id": "JV6VhsPMyqxh"
      }
    },
    {
      "cell_type": "code",
      "source": [
        "X_train['TotalCharges'] = X_train['TotalCharges'].astype(float)"
      ],
      "metadata": {
        "id": "9VY-CMNAyvi1"
      },
      "execution_count": 46,
      "outputs": []
    },
    {
      "cell_type": "code",
      "source": [
        "num_cols = X_train._get_numeric_data().columns\n",
        "num_cols"
      ],
      "metadata": {
        "colab": {
          "base_uri": "https://localhost:8080/"
        },
        "id": "v04G7eWvxK6g",
        "outputId": "c40796df-ac61-43b6-d7cb-e7099bedefa7"
      },
      "execution_count": 47,
      "outputs": [
        {
          "output_type": "execute_result",
          "data": {
            "text/plain": [
              "Index(['tenure', 'MonthlyCharges', 'TotalCharges'], dtype='object')"
            ]
          },
          "metadata": {},
          "execution_count": 47
        }
      ]
    },
    {
      "cell_type": "code",
      "source": [
        "cat_cols = X_train.drop(num_cols, axis = 1).columns\n",
        "cat_cols"
      ],
      "metadata": {
        "colab": {
          "base_uri": "https://localhost:8080/"
        },
        "id": "DMLsTq7dv5CX",
        "outputId": "101edfb5-11e2-434f-f16c-8130dd6da0d8"
      },
      "execution_count": 48,
      "outputs": [
        {
          "output_type": "execute_result",
          "data": {
            "text/plain": [
              "Index(['SeniorCitizen', 'Partner', 'Dependents', 'PhoneService',\n",
              "       'MultipleLines', 'InternetService', 'OnlineSecurity', 'OnlineBackup',\n",
              "       'DeviceProtection', 'TechSupport', 'StreamingTV', 'StreamingMovies',\n",
              "       'PaperlessBilling', 'PaymentMethod'],\n",
              "      dtype='object')"
            ]
          },
          "metadata": {},
          "execution_count": 48
        }
      ]
    },
    {
      "cell_type": "markdown",
      "source": [
        "## Numeric columns: scaling"
      ],
      "metadata": {
        "id": "Ai8h8_kDwj8d"
      }
    },
    {
      "cell_type": "code",
      "source": [
        "X_train[num_cols].hist()"
      ],
      "metadata": {
        "colab": {
          "base_uri": "https://localhost:8080/",
          "height": 366
        },
        "id": "StayoTAOwmtX",
        "outputId": "51ae47d8-472e-4839-fdac-720d1efc23ed"
      },
      "execution_count": 49,
      "outputs": [
        {
          "output_type": "execute_result",
          "data": {
            "text/plain": [
              "array([[<matplotlib.axes._subplots.AxesSubplot object at 0x7f30501f5090>,\n",
              "        <matplotlib.axes._subplots.AxesSubplot object at 0x7f3053594910>],\n",
              "       [<matplotlib.axes._subplots.AxesSubplot object at 0x7f30535b40d0>,\n",
              "        <matplotlib.axes._subplots.AxesSubplot object at 0x7f30535ae9d0>]],\n",
              "      dtype=object)"
            ]
          },
          "metadata": {},
          "execution_count": 49
        },
        {
          "output_type": "display_data",
          "data": {
            "text/plain": [
              "<Figure size 432x288 with 4 Axes>"
            ],
            "image/png": "[encoded data removed]"
          },
          "metadata": {
            "needs_background": "light"
          }
        }
      ]
    },
    {
      "cell_type": "markdown",
      "source": [
        "Log-Transform tenure and Total Charges"
      ],
      "metadata": {
        "id": "rh1xT7e5zE4l"
      }
    },
    {
      "cell_type": "code",
      "source": [
        "from sklearn.preprocessing import power_transform"
      ],
      "metadata": {
        "id": "hyKHrLdezgBB"
      },
      "execution_count": 50,
      "outputs": []
    },
    {
      "cell_type": "code",
      "source": [
        "X_train[['tenure_power', 'TotalCharges_power']] = power_transform(X_train[['tenure', 'TotalCharges']], method='box-cox')"
      ],
      "metadata": {
        "id": "hJ2J_lNgzEZv"
      },
      "execution_count": 51,
      "outputs": []
    },
    {
      "cell_type": "code",
      "source": [
        "X_train[['tenure_power', 'TotalCharges_power']].hist()"
      ],
      "metadata": {
        "colab": {
          "base_uri": "https://localhost:8080/",
          "height": 332
        },
        "id": "7U7M841z0nU7",
        "outputId": "1f308f19-3966-4061-fe68-0a3c8e5b22a4"
      },
      "execution_count": 52,
      "outputs": [
        {
          "output_type": "execute_result",
          "data": {
            "text/plain": [
              "array([[<matplotlib.axes._subplots.AxesSubplot object at 0x7f305351da90>,\n",
              "        <matplotlib.axes._subplots.AxesSubplot object at 0x7f305352d250>]],\n",
              "      dtype=object)"
            ]
          },
          "metadata": {},
          "execution_count": 52
        },
        {
          "output_type": "display_data",
          "data": {
            "text/plain": [
              "<Figure size 432x288 with 2 Axes>"
            ],
            "image/png": "[encoded data removed]"
          },
          "metadata": {
            "needs_background": "light"
          }
        }
      ]
    },
    {
      "cell_type": "markdown",
      "source": [
        "Scale numeric features to the same scale:"
      ],
      "metadata": {
        "id": "Zg_NY6EZ1D15"
      }
    },
    {
      "cell_type": "code",
      "source": [
        "def ab_scaler(x, a, b, max_x, min_x):\n",
        "  return a + ((x - min_x)*(b-a)) / (max_x - min_x)"
      ],
      "metadata": {
        "id": "xVWepIYU1crH"
      },
      "execution_count": 53,
      "outputs": []
    },
    {
      "cell_type": "code",
      "source": [
        "for column in ['tenure_power', 'TotalCharges_power', 'MonthlyCharges']:\n",
        "  max = X_train[column].max()\n",
        "  min = X_train[column].min()\n",
        "  new_col = str(column + \"_scaled\")\n",
        "  X_train[new_col] = X_train[column].apply(lambda x: ab_scaler(x =x, a=-1, b=1, max_x = max, min_x = min))"
      ],
      "metadata": {
        "id": "85VRyfhw1OnA"
      },
      "execution_count": 54,
      "outputs": []
    },
    {
      "cell_type": "code",
      "source": [
        "numeric_features = X_train.filter(regex='_scaled', axis=1).reset_index(drop = True)"
      ],
      "metadata": {
        "id": "_QDyiwWq2oAt"
      },
      "execution_count": 55,
      "outputs": []
    },
    {
      "cell_type": "code",
      "source": [
        "numeric_features.hist()"
      ],
      "metadata": {
        "colab": {
          "base_uri": "https://localhost:8080/",
          "height": 366
        },
        "id": "TmKL85Y42-H1",
        "outputId": "ed7bb0b3-d7d7-4864-e351-4aede9e7522f"
      },
      "execution_count": 56,
      "outputs": [
        {
          "output_type": "execute_result",
          "data": {
            "text/plain": [
              "array([[<matplotlib.axes._subplots.AxesSubplot object at 0x7f3050126fd0>,\n",
              "        <matplotlib.axes._subplots.AxesSubplot object at 0x7f3050194110>],\n",
              "       [<matplotlib.axes._subplots.AxesSubplot object at 0x7f3050184a10>,\n",
              "        <matplotlib.axes._subplots.AxesSubplot object at 0x7f3050174290>]],\n",
              "      dtype=object)"
            ]
          },
          "metadata": {},
          "execution_count": 56
        },
        {
          "output_type": "display_data",
          "data": {
            "text/plain": [
              "<Figure size 432x288 with 4 Axes>"
            ],
            "image/png": "[encoded data removed]"
          },
          "metadata": {
            "needs_background": "light"
          }
        }
      ]
    },
    {
      "cell_type": "markdown",
      "source": [
        "## Categorical Columns - Encoding"
      ],
      "metadata": {
        "id": "Wfkc2ciZ3Ivy"
      }
    },
    {
      "cell_type": "code",
      "source": [
        "for column in cat_cols:\n",
        "  print(X_train[column].value_counts())"
      ],
      "metadata": {
        "colab": {
          "base_uri": "https://localhost:8080/"
        },
        "id": "2Fh8Whuy3O4n",
        "outputId": "d0e6c791-df99-4138-fdf1-2c1a0b05a391"
      },
      "execution_count": 57,
      "outputs": [
        {
          "output_type": "stream",
          "name": "stdout",
          "text": [
            "0    2455\n",
            "1     645\n",
            "Name: SeniorCitizen, dtype: int64\n",
            "No     1984\n",
            "Yes    1116\n",
            "Name: Partner, dtype: int64\n",
            "No     2467\n",
            "Yes     633\n",
            "Name: Dependents, dtype: int64\n",
            "Yes    2790\n",
            "No      310\n",
            "Name: PhoneService, dtype: int64\n",
            "No                  1618\n",
            "Yes                 1172\n",
            "No phone service     310\n",
            "Name: MultipleLines, dtype: int64\n",
            "Fiber optic    1698\n",
            "DSL             980\n",
            "No              422\n",
            "Name: InternetService, dtype: int64\n",
            "No                     2102\n",
            "Yes                     576\n",
            "No internet service     422\n",
            "Name: OnlineSecurity, dtype: int64\n",
            "No                     1836\n",
            "Yes                     842\n",
            "No internet service     422\n",
            "Name: OnlineBackup, dtype: int64\n",
            "No                     1932\n",
            "Yes                     746\n",
            "No internet service     422\n",
            "Name: DeviceProtection, dtype: int64\n",
            "No                     2156\n",
            "Yes                     522\n",
            "No internet service     422\n",
            "Name: TechSupport, dtype: int64\n",
            "No                     1651\n",
            "Yes                    1027\n",
            "No internet service     422\n",
            "Name: StreamingTV, dtype: int64\n",
            "No                     1638\n",
            "Yes                    1040\n",
            "No internet service     422\n",
            "Name: StreamingMovies, dtype: int64\n",
            "Yes    2068\n",
            "No     1032\n",
            "Name: PaperlessBilling, dtype: int64\n",
            "Electronic check             1484\n",
            "Mailed check                  723\n",
            "Bank transfer (automatic)     456\n",
            "Credit card (automatic)       437\n",
            "Name: PaymentMethod, dtype: int64\n"
          ]
        }
      ]
    },
    {
      "cell_type": "markdown",
      "source": [
        "Turn binary feature into numeric, and multi-class features into dummy variables"
      ],
      "metadata": {
        "id": "IWNm97n64P_X"
      }
    },
    {
      "cell_type": "markdown",
      "source": [
        "### Binary features"
      ],
      "metadata": {
        "id": "XV9eEJiE4UX9"
      }
    },
    {
      "cell_type": "code",
      "source": [
        "from sklearn.preprocessing import LabelEncoder\n",
        "encoder = LabelEncoder()"
      ],
      "metadata": {
        "id": "uRg2hgCp4fZH"
      },
      "execution_count": 58,
      "outputs": []
    },
    {
      "cell_type": "code",
      "source": [
        "binary_cols = ['SeniorCitizen', 'Partner', 'Dependents', 'PhoneService', 'PaperlessBilling']\n",
        "\n",
        "for column in binary_cols:\n",
        "  new_col = str(column + \"_be\")\n",
        "  X_train[new_col] = encoder.fit_transform(X_train[column])"
      ],
      "metadata": {
        "id": "GHYVMSgO4i9a"
      },
      "execution_count": 59,
      "outputs": []
    },
    {
      "cell_type": "code",
      "source": [
        "binary_features = X_train.filter(regex='_be', axis=1).reset_index(drop = True)"
      ],
      "metadata": {
        "id": "Syq95P1g54TL"
      },
      "execution_count": 60,
      "outputs": []
    },
    {
      "cell_type": "code",
      "source": [
        "binary_features.head()"
      ],
      "metadata": {
        "colab": {
          "base_uri": "https://localhost:8080/",
          "height": 204
        },
        "id": "yXzd3yWf57IN",
        "outputId": "c6534d29-9ca2-45f5-9b1e-4ea6c6ad52f4"
      },
      "execution_count": 61,
      "outputs": [
        {
          "output_type": "execute_result",
          "data": {
            "text/plain": [
              "   SeniorCitizen_be  Partner_be  Dependents_be  PhoneService_be  \\\n",
              "0                 0           1              0                1   \n",
              "1                 0           1              0                1   \n",
              "2                 0           1              0                1   \n",
              "3                 1           1              1                0   \n",
              "4                 0           0              0                1   \n",
              "\n",
              "   PaperlessBilling_be  \n",
              "0                    0  \n",
              "1                    1  \n",
              "2                    1  \n",
              "3                    1  \n",
              "4                    1  "
            ],
            "text/html": [
              "\n",
              "  <div id=\"df-268574cc-998f-48db-8796-eb1c32d6a90c\">\n",
              "    <div class=\"colab-df-container\">\n",
              "      <div>\n",
              "<style scoped>\n",
              "    .dataframe tbody tr th:only-of-type {\n",
              "        vertical-align: middle;\n",
              "    }\n",
              "\n",
              "    .dataframe tbody tr th {\n",
              "        vertical-align: top;\n",
              "    }\n",
              "\n",
              "    .dataframe thead th {\n",
              "        text-align: right;\n",
              "    }\n",
              "</style>\n",
              "<table border=\"1\" class=\"dataframe\">\n",
              "  <thead>\n",
              "    <tr style=\"text-align: right;\">\n",
              "      <th></th>\n",
              "      <th>SeniorCitizen_be</th>\n",
              "      <th>Partner_be</th>\n",
              "      <th>Dependents_be</th>\n",
              "      <th>PhoneService_be</th>\n",
              "      <th>PaperlessBilling_be</th>\n",
              "    </tr>\n",
              "  </thead>\n",
              "  <tbody>\n",
              "    <tr>\n",
              "      <th>0</th>\n",
              "      <td>0</td>\n",
              "      <td>1</td>\n",
              "      <td>0</td>\n",
              "      <td>1</td>\n",
              "      <td>0</td>\n",
              "    </tr>\n",
              "    <tr>\n",
              "      <th>1</th>\n",
              "      <td>0</td>\n",
              "      <td>1</td>\n",
              "      <td>0</td>\n",
              "      <td>1</td>\n",
              "      <td>1</td>\n",
              "    </tr>\n",
              "    <tr>\n",
              "      <th>2</th>\n",
              "      <td>0</td>\n",
              "      <td>1</td>\n",
              "      <td>0</td>\n",
              "      <td>1</td>\n",
              "      <td>1</td>\n",
              "    </tr>\n",
              "    <tr>\n",
              "      <th>3</th>\n",
              "      <td>1</td>\n",
              "      <td>1</td>\n",
              "      <td>1</td>\n",
              "      <td>0</td>\n",
              "      <td>1</td>\n",
              "    </tr>\n",
              "    <tr>\n",
              "      <th>4</th>\n",
              "      <td>0</td>\n",
              "      <td>0</td>\n",
              "      <td>0</td>\n",
              "      <td>1</td>\n",
              "      <td>1</td>\n",
              "    </tr>\n",
              "  </tbody>\n",
              "</table>\n",
              "</div>\n",
              "      <button class=\"colab-df-convert\" onclick=\"convertToInteractive('df-268574cc-998f-48db-8796-eb1c32d6a90c')\"\n",
              "              title=\"Convert this dataframe to an interactive table.\"\n",
              "              style=\"display:none;\">\n",
              "        \n",
              "  <svg xmlns=\"http://www.w3.org/2000/svg\" height=\"24px\"viewBox=\"0 0 24 24\"\n",
              "       width=\"24px\">\n",
              "    <path d=\"M0 0h24v24H0V0z\" fill=\"none\"/>\n",
              "    <path d=\"M18.56 5.44l.94 2.06.94-2.06 2.06-.94-2.06-.94-.94-2.06-.94 2.06-2.06.94zm-11 1L8.5 8.5l.94-2.06 2.06-.94-2.06-.94L8.5 2.5l-.94 2.06-2.06.94zm10 10l.94 2.06.94-2.06 2.06-.94-2.06-.94-.94-2.06-.94 2.06-2.06.94z\"/><path d=\"M17.41 7.96l-1.37-1.37c-.4-.4-.92-.59-1.43-.59-.52 0-1.04.2-1.43.59L10.3 9.45l-7.72 7.72c-.78.78-.78 2.05 0 2.83L4 21.41c.39.39.9.59 1.41.59.51 0 1.02-.2 1.41-.59l7.78-7.78 2.81-2.81c.8-.78.8-2.07 0-2.86zM5.41 20L4 18.59l7.72-7.72 1.47 1.35L5.41 20z\"/>\n",
              "  </svg>\n",
              "      </button>\n",
              "      \n",
              "  <style>\n",
              "    .colab-df-container {\n",
              "      display:flex;\n",
              "      flex-wrap:wrap;\n",
              "      gap: 12px;\n",
              "    }\n",
              "\n",
              "    .colab-df-convert {\n",
              "      background-color: #E8F0FE;\n",
              "      border: none;\n",
              "      border-radius: 50%;\n",
              "      cursor: pointer;\n",
              "      display: none;\n",
              "      fill: #1967D2;\n",
              "      height: 32px;\n",
              "      padding: 0 0 0 0;\n",
              "      width: 32px;\n",
              "    }\n",
              "\n",
              "    .colab-df-convert:hover {\n",
              "      background-color: #E2EBFA;\n",
              "      box-shadow: 0px 1px 2px rgba(60, 64, 67, 0.3), 0px 1px 3px 1px rgba(60, 64, 67, 0.15);\n",
              "      fill: #174EA6;\n",
              "    }\n",
              "\n",
              "    [theme=dark] .colab-df-convert {\n",
              "      background-color: #3B4455;\n",
              "      fill: #D2E3FC;\n",
              "    }\n",
              "\n",
              "    [theme=dark] .colab-df-convert:hover {\n",
              "      background-color: #434B5C;\n",
              "      box-shadow: 0px 1px 3px 1px rgba(0, 0, 0, 0.15);\n",
              "      filter: drop-shadow(0px 1px 2px rgba(0, 0, 0, 0.3));\n",
              "      fill: #FFFFFF;\n",
              "    }\n",
              "  </style>\n",
              "\n",
              "      <script>\n",
              "        const buttonEl =\n",
              "          document.querySelector('#df-268574cc-998f-48db-8796-eb1c32d6a90c button.colab-df-convert');\n",
              "        buttonEl.style.display =\n",
              "          google.colab.kernel.accessAllowed ? 'block' : 'none';\n",
              "\n",
              "        async function convertToInteractive(key) {\n",
              "          const element = document.querySelector('#df-268574cc-998f-48db-8796-eb1c32d6a90c');\n",
              "          const dataTable =\n",
              "            await google.colab.kernel.invokeFunction('convertToInteractive',\n",
              "                                                     [key], {});\n",
              "          if (!dataTable) return;\n",
              "\n",
              "          const docLinkHtml = 'Like what you see? Visit the ' +\n",
              "            '<a target=\"_blank\" href=https://colab.research.google.com/notebooks/data_table.ipynb>data table notebook</a>'\n",
              "            + ' to learn more about interactive tables.';\n",
              "          element.innerHTML = '';\n",
              "          dataTable['output_type'] = 'display_data';\n",
              "          await google.colab.output.renderOutput(dataTable, element);\n",
              "          const docLink = document.createElement('div');\n",
              "          docLink.innerHTML = docLinkHtml;\n",
              "          element.appendChild(docLink);\n",
              "        }\n",
              "      </script>\n",
              "    </div>\n",
              "  </div>\n",
              "  "
            ]
          },
          "metadata": {},
          "execution_count": 61
        }
      ]
    },
    {
      "cell_type": "markdown",
      "source": [
        "### Multiclass features"
      ],
      "metadata": {
        "id": "qxV-LEUe6Fav"
      }
    },
    {
      "cell_type": "code",
      "source": [
        "multiclass_cols = list(set(cat_cols) - set(binary_cols))\n",
        "multiclass_cols"
      ],
      "metadata": {
        "colab": {
          "base_uri": "https://localhost:8080/"
        },
        "id": "aFowV-s76Igy",
        "outputId": "1ed47256-fb7e-4f3c-9cc4-04c03fee3486"
      },
      "execution_count": 62,
      "outputs": [
        {
          "output_type": "execute_result",
          "data": {
            "text/plain": [
              "['PaymentMethod',\n",
              " 'MultipleLines',\n",
              " 'StreamingTV',\n",
              " 'OnlineBackup',\n",
              " 'TechSupport',\n",
              " 'OnlineSecurity',\n",
              " 'StreamingMovies',\n",
              " 'DeviceProtection',\n",
              " 'InternetService']"
            ]
          },
          "metadata": {},
          "execution_count": 62
        }
      ]
    },
    {
      "cell_type": "code",
      "source": [
        "categories = []\n",
        "\n",
        "for column in multiclass_cols:\n",
        "  categories.append(X_train[column].unique())\n",
        "\n",
        "categories"
      ],
      "metadata": {
        "colab": {
          "base_uri": "https://localhost:8080/"
        },
        "id": "_x5vgicu7YS_",
        "outputId": "23629c3a-2e5d-4796-912a-7d152718b6d8"
      },
      "execution_count": 63,
      "outputs": [
        {
          "output_type": "execute_result",
          "data": {
            "text/plain": [
              "[array(['Bank transfer (automatic)', 'Electronic check', 'Mailed check',\n",
              "        'Credit card (automatic)'], dtype=object),\n",
              " array(['No', 'Yes', 'No phone service'], dtype=object),\n",
              " array(['No', 'Yes', 'No internet service'], dtype=object),\n",
              " array(['No', 'Yes', 'No internet service'], dtype=object),\n",
              " array(['Yes', 'No', 'No internet service'], dtype=object),\n",
              " array(['Yes', 'No', 'No internet service'], dtype=object),\n",
              " array(['No', 'Yes', 'No internet service'], dtype=object),\n",
              " array(['No', 'Yes', 'No internet service'], dtype=object),\n",
              " array(['Fiber optic', 'DSL', 'No'], dtype=object)]"
            ]
          },
          "metadata": {},
          "execution_count": 63
        }
      ]
    },
    {
      "cell_type": "code",
      "source": [
        "from sklearn.preprocessing import OneHotEncoder\n",
        "\n",
        "# specify categories explicitly to allow for same encoding during prediction\n",
        "onehot_encoder = OneHotEncoder(sparse=False, categories = categories)"
      ],
      "metadata": {
        "id": "yJfRp2Yl7TnZ"
      },
      "execution_count": 64,
      "outputs": []
    },
    {
      "cell_type": "code",
      "source": [
        "# Apply OneHotEncoder\n",
        "multiclass_features = onehot_encoder.fit_transform(X_train[multiclass_cols])"
      ],
      "metadata": {
        "id": "3-abL3vw8At1"
      },
      "execution_count": 65,
      "outputs": []
    },
    {
      "cell_type": "code",
      "source": [
        "multiclass_features = pd.DataFrame(multiclass_features, columns=onehot_encoder.get_feature_names_out())"
      ],
      "metadata": {
        "id": "0sngXCsw9e2v"
      },
      "execution_count": 66,
      "outputs": []
    },
    {
      "cell_type": "code",
      "source": [
        "multiclass_features.head()"
      ],
      "metadata": {
        "colab": {
          "base_uri": "https://localhost:8080/",
          "height": 331
        },
        "id": "NaTnTahQ_JDy",
        "outputId": "99b7c55b-c5c2-49d5-905e-6fd615e04ca9"
      },
      "execution_count": 67,
      "outputs": [
        {
          "output_type": "execute_result",
          "data": {
            "text/plain": [
              "   PaymentMethod_Bank transfer (automatic)  PaymentMethod_Electronic check  \\\n",
              "0                                      1.0                             0.0   \n",
              "1                                      0.0                             1.0   \n",
              "2                                      1.0                             0.0   \n",
              "3                                      0.0                             0.0   \n",
              "4                                      0.0                             1.0   \n",
              "\n",
              "   PaymentMethod_Mailed check  PaymentMethod_Credit card (automatic)  \\\n",
              "0                         0.0                                    0.0   \n",
              "1                         0.0                                    0.0   \n",
              "2                         0.0                                    0.0   \n",
              "3                         1.0                                    0.0   \n",
              "4                         0.0                                    0.0   \n",
              "\n",
              "   MultipleLines_No  MultipleLines_Yes  MultipleLines_No phone service  \\\n",
              "0               1.0                0.0                             0.0   \n",
              "1               0.0                1.0                             0.0   \n",
              "2               1.0                0.0                             0.0   \n",
              "3               0.0                0.0                             1.0   \n",
              "4               0.0                1.0                             0.0   \n",
              "\n",
              "   StreamingTV_No  StreamingTV_Yes  StreamingTV_No internet service  ...  \\\n",
              "0             1.0              0.0                              0.0  ...   \n",
              "1             0.0              1.0                              0.0  ...   \n",
              "2             0.0              1.0                              0.0  ...   \n",
              "3             1.0              0.0                              0.0  ...   \n",
              "4             1.0              0.0                              0.0  ...   \n",
              "\n",
              "   OnlineSecurity_No internet service  StreamingMovies_No  \\\n",
              "0                                 0.0                 1.0   \n",
              "1                                 0.0                 0.0   \n",
              "2                                 0.0                 1.0   \n",
              "3                                 0.0                 1.0   \n",
              "4                                 0.0                 1.0   \n",
              "\n",
              "   StreamingMovies_Yes  StreamingMovies_No internet service  \\\n",
              "0                  0.0                                  0.0   \n",
              "1                  1.0                                  0.0   \n",
              "2                  0.0                                  0.0   \n",
              "3                  0.0                                  0.0   \n",
              "4                  0.0                                  0.0   \n",
              "\n",
              "   DeviceProtection_No  DeviceProtection_Yes  \\\n",
              "0                  1.0                   0.0   \n",
              "1                  0.0                   1.0   \n",
              "2                  1.0                   0.0   \n",
              "3                  1.0                   0.0   \n",
              "4                  1.0                   0.0   \n",
              "\n",
              "   DeviceProtection_No internet service  InternetService_Fiber optic  \\\n",
              "0                                   0.0                          1.0   \n",
              "1                                   0.0                          1.0   \n",
              "2                                   0.0                          0.0   \n",
              "3                                   0.0                          0.0   \n",
              "4                                   0.0                          1.0   \n",
              "\n",
              "   InternetService_DSL  InternetService_No  \n",
              "0                  0.0                 0.0  \n",
              "1                  0.0                 0.0  \n",
              "2                  1.0                 0.0  \n",
              "3                  1.0                 0.0  \n",
              "4                  0.0                 0.0  \n",
              "\n",
              "[5 rows x 28 columns]"
            ],
            "text/html": [
              "\n",
              "  <div id=\"df-e9c57f30-db6d-4af1-8a23-6ba8251c00d2\">\n",
              "    <div class=\"colab-df-container\">\n",
              "      <div>\n",
              "<style scoped>\n",
              "    .dataframe tbody tr th:only-of-type {\n",
              "        vertical-align: middle;\n",
              "    }\n",
              "\n",
              "    .dataframe tbody tr th {\n",
              "        vertical-align: top;\n",
              "    }\n",
              "\n",
              "    .dataframe thead th {\n",
              "        text-align: right;\n",
              "    }\n",
              "</style>\n",
              "<table border=\"1\" class=\"dataframe\">\n",
              "  <thead>\n",
              "    <tr style=\"text-align: right;\">\n",
              "      <th></th>\n",
              "      <th>PaymentMethod_Bank transfer (automatic)</th>\n",
              "      <th>PaymentMethod_Electronic check</th>\n",
              "      <th>PaymentMethod_Mailed check</th>\n",
              "      <th>PaymentMethod_Credit card (automatic)</th>\n",
              "      <th>MultipleLines_No</th>\n",
              "      <th>MultipleLines_Yes</th>\n",
              "      <th>MultipleLines_No phone service</th>\n",
              "      <th>StreamingTV_No</th>\n",
              "      <th>StreamingTV_Yes</th>\n",
              "      <th>StreamingTV_No internet service</th>\n",
              "      <th>...</th>\n",
              "      <th>OnlineSecurity_No internet service</th>\n",
              "      <th>StreamingMovies_No</th>\n",
              "      <th>StreamingMovies_Yes</th>\n",
              "      <th>StreamingMovies_No internet service</th>\n",
              "      <th>DeviceProtection_No</th>\n",
              "      <th>DeviceProtection_Yes</th>\n",
              "      <th>DeviceProtection_No internet service</th>\n",
              "      <th>InternetService_Fiber optic</th>\n",
              "      <th>InternetService_DSL</th>\n",
              "      <th>InternetService_No</th>\n",
              "    </tr>\n",
              "  </thead>\n",
              "  <tbody>\n",
              "    <tr>\n",
              "      <th>0</th>\n",
              "      <td>1.0</td>\n",
              "      <td>0.0</td>\n",
              "      <td>0.0</td>\n",
              "      <td>0.0</td>\n",
              "      <td>1.0</td>\n",
              "      <td>0.0</td>\n",
              "      <td>0.0</td>\n",
              "      <td>1.0</td>\n",
              "      <td>0.0</td>\n",
              "      <td>0.0</td>\n",
              "      <td>...</td>\n",
              "      <td>0.0</td>\n",
              "      <td>1.0</td>\n",
              "      <td>0.0</td>\n",
              "      <td>0.0</td>\n",
              "      <td>1.0</td>\n",
              "      <td>0.0</td>\n",
              "      <td>0.0</td>\n",
              "      <td>1.0</td>\n",
              "      <td>0.0</td>\n",
              "      <td>0.0</td>\n",
              "    </tr>\n",
              "    <tr>\n",
              "      <th>1</th>\n",
              "      <td>0.0</td>\n",
              "      <td>1.0</td>\n",
              "      <td>0.0</td>\n",
              "      <td>0.0</td>\n",
              "      <td>0.0</td>\n",
              "      <td>1.0</td>\n",
              "      <td>0.0</td>\n",
              "      <td>0.0</td>\n",
              "      <td>1.0</td>\n",
              "      <td>0.0</td>\n",
              "      <td>...</td>\n",
              "      <td>0.0</td>\n",
              "      <td>0.0</td>\n",
              "      <td>1.0</td>\n",
              "      <td>0.0</td>\n",
              "      <td>0.0</td>\n",
              "      <td>1.0</td>\n",
              "      <td>0.0</td>\n",
              "      <td>1.0</td>\n",
              "      <td>0.0</td>\n",
              "      <td>0.0</td>\n",
              "    </tr>\n",
              "    <tr>\n",
              "      <th>2</th>\n",
              "      <td>1.0</td>\n",
              "      <td>0.0</td>\n",
              "      <td>0.0</td>\n",
              "      <td>0.0</td>\n",
              "      <td>1.0</td>\n",
              "      <td>0.0</td>\n",
              "      <td>0.0</td>\n",
              "      <td>0.0</td>\n",
              "      <td>1.0</td>\n",
              "      <td>0.0</td>\n",
              "      <td>...</td>\n",
              "      <td>0.0</td>\n",
              "      <td>1.0</td>\n",
              "      <td>0.0</td>\n",
              "      <td>0.0</td>\n",
              "      <td>1.0</td>\n",
              "      <td>0.0</td>\n",
              "      <td>0.0</td>\n",
              "      <td>0.0</td>\n",
              "      <td>1.0</td>\n",
              "      <td>0.0</td>\n",
              "    </tr>\n",
              "    <tr>\n",
              "      <th>3</th>\n",
              "      <td>0.0</td>\n",
              "      <td>0.0</td>\n",
              "      <td>1.0</td>\n",
              "      <td>0.0</td>\n",
              "      <td>0.0</td>\n",
              "      <td>0.0</td>\n",
              "      <td>1.0</td>\n",
              "      <td>1.0</td>\n",
              "      <td>0.0</td>\n",
              "      <td>0.0</td>\n",
              "      <td>...</td>\n",
              "      <td>0.0</td>\n",
              "      <td>1.0</td>\n",
              "      <td>0.0</td>\n",
              "      <td>0.0</td>\n",
              "      <td>1.0</td>\n",
              "      <td>0.0</td>\n",
              "      <td>0.0</td>\n",
              "      <td>0.0</td>\n",
              "      <td>1.0</td>\n",
              "      <td>0.0</td>\n",
              "    </tr>\n",
              "    <tr>\n",
              "      <th>4</th>\n",
              "      <td>0.0</td>\n",
              "      <td>1.0</td>\n",
              "      <td>0.0</td>\n",
              "      <td>0.0</td>\n",
              "      <td>0.0</td>\n",
              "      <td>1.0</td>\n",
              "      <td>0.0</td>\n",
              "      <td>1.0</td>\n",
              "      <td>0.0</td>\n",
              "      <td>0.0</td>\n",
              "      <td>...</td>\n",
              "      <td>0.0</td>\n",
              "      <td>1.0</td>\n",
              "      <td>0.0</td>\n",
              "      <td>0.0</td>\n",
              "      <td>1.0</td>\n",
              "      <td>0.0</td>\n",
              "      <td>0.0</td>\n",
              "      <td>1.0</td>\n",
              "      <td>0.0</td>\n",
              "      <td>0.0</td>\n",
              "    </tr>\n",
              "  </tbody>\n",
              "</table>\n",
              "<p>5 rows × 28 columns</p>\n",
              "</div>\n",
              "      <button class=\"colab-df-convert\" onclick=\"convertToInteractive('df-e9c57f30-db6d-4af1-8a23-6ba8251c00d2')\"\n",
              "              title=\"Convert this dataframe to an interactive table.\"\n",
              "              style=\"display:none;\">\n",
              "        \n",
              "  <svg xmlns=\"http://www.w3.org/2000/svg\" height=\"24px\"viewBox=\"0 0 24 24\"\n",
              "       width=\"24px\">\n",
              "    <path d=\"M0 0h24v24H0V0z\" fill=\"none\"/>\n",
              "    <path d=\"M18.56 5.44l.94 2.06.94-2.06 2.06-.94-2.06-.94-.94-2.06-.94 2.06-2.06.94zm-11 1L8.5 8.5l.94-2.06 2.06-.94-2.06-.94L8.5 2.5l-.94 2.06-2.06.94zm10 10l.94 2.06.94-2.06 2.06-.94-2.06-.94-.94-2.06-.94 2.06-2.06.94z\"/><path d=\"M17.41 7.96l-1.37-1.37c-.4-.4-.92-.59-1.43-.59-.52 0-1.04.2-1.43.59L10.3 9.45l-7.72 7.72c-.78.78-.78 2.05 0 2.83L4 21.41c.39.39.9.59 1.41.59.51 0 1.02-.2 1.41-.59l7.78-7.78 2.81-2.81c.8-.78.8-2.07 0-2.86zM5.41 20L4 18.59l7.72-7.72 1.47 1.35L5.41 20z\"/>\n",
              "  </svg>\n",
              "      </button>\n",
              "      \n",
              "  <style>\n",
              "    .colab-df-container {\n",
              "      display:flex;\n",
              "      flex-wrap:wrap;\n",
              "      gap: 12px;\n",
              "    }\n",
              "\n",
              "    .colab-df-convert {\n",
              "      background-color: #E8F0FE;\n",
              "      border: none;\n",
              "      border-radius: 50%;\n",
              "      cursor: pointer;\n",
              "      display: none;\n",
              "      fill: #1967D2;\n",
              "      height: 32px;\n",
              "      padding: 0 0 0 0;\n",
              "      width: 32px;\n",
              "    }\n",
              "\n",
              "    .colab-df-convert:hover {\n",
              "      background-color: #E2EBFA;\n",
              "      box-shadow: 0px 1px 2px rgba(60, 64, 67, 0.3), 0px 1px 3px 1px rgba(60, 64, 67, 0.15);\n",
              "      fill: #174EA6;\n",
              "    }\n",
              "\n",
              "    [theme=dark] .colab-df-convert {\n",
              "      background-color: #3B4455;\n",
              "      fill: #D2E3FC;\n",
              "    }\n",
              "\n",
              "    [theme=dark] .colab-df-convert:hover {\n",
              "      background-color: #434B5C;\n",
              "      box-shadow: 0px 1px 3px 1px rgba(0, 0, 0, 0.15);\n",
              "      filter: drop-shadow(0px 1px 2px rgba(0, 0, 0, 0.3));\n",
              "      fill: #FFFFFF;\n",
              "    }\n",
              "  </style>\n",
              "\n",
              "      <script>\n",
              "        const buttonEl =\n",
              "          document.querySelector('#df-e9c57f30-db6d-4af1-8a23-6ba8251c00d2 button.colab-df-convert');\n",
              "        buttonEl.style.display =\n",
              "          google.colab.kernel.accessAllowed ? 'block' : 'none';\n",
              "\n",
              "        async function convertToInteractive(key) {\n",
              "          const element = document.querySelector('#df-e9c57f30-db6d-4af1-8a23-6ba8251c00d2');\n",
              "          const dataTable =\n",
              "            await google.colab.kernel.invokeFunction('convertToInteractive',\n",
              "                                                     [key], {});\n",
              "          if (!dataTable) return;\n",
              "\n",
              "          const docLinkHtml = 'Like what you see? Visit the ' +\n",
              "            '<a target=\"_blank\" href=https://colab.research.google.com/notebooks/data_table.ipynb>data table notebook</a>'\n",
              "            + ' to learn more about interactive tables.';\n",
              "          element.innerHTML = '';\n",
              "          dataTable['output_type'] = 'display_data';\n",
              "          await google.colab.output.renderOutput(dataTable, element);\n",
              "          const docLink = document.createElement('div');\n",
              "          docLink.innerHTML = docLinkHtml;\n",
              "          element.appendChild(docLink);\n",
              "        }\n",
              "      </script>\n",
              "    </div>\n",
              "  </div>\n",
              "  "
            ]
          },
          "metadata": {},
          "execution_count": 67
        }
      ]
    },
    {
      "cell_type": "markdown",
      "source": [
        "### Build feature dataframe"
      ],
      "metadata": {
        "id": "55mPbxpU8Wgh"
      }
    },
    {
      "cell_type": "code",
      "source": [
        "X_train_fe = pd.concat([numeric_features, binary_features, multiclass_features], axis = 1)"
      ],
      "metadata": {
        "id": "vULaywKP8X8j"
      },
      "execution_count": 68,
      "outputs": []
    },
    {
      "cell_type": "code",
      "source": [
        "X_train_fe.head()"
      ],
      "metadata": {
        "colab": {
          "base_uri": "https://localhost:8080/",
          "height": 331
        },
        "id": "8N4lWHZmAfa8",
        "outputId": "e175572d-744f-4542-c8fa-2a5d3d4e38b7"
      },
      "execution_count": 69,
      "outputs": [
        {
          "output_type": "execute_result",
          "data": {
            "text/plain": [
              "   tenure_power_scaled  TotalCharges_power_scaled  MonthlyCharges_scaled  \\\n",
              "0            -0.037704                   0.066415               0.258359   \n",
              "1             0.504461                   0.605726               0.735562   \n",
              "2            -0.079644                  -0.057262              -0.264438   \n",
              "3            -0.037704                  -0.233416              -0.786221   \n",
              "4            -1.000000                  -0.677466               0.141844   \n",
              "\n",
              "   SeniorCitizen_be  Partner_be  Dependents_be  PhoneService_be  \\\n",
              "0                 0           1              0                1   \n",
              "1                 0           1              0                1   \n",
              "2                 0           1              0                1   \n",
              "3                 1           1              1                0   \n",
              "4                 0           0              0                1   \n",
              "\n",
              "   PaperlessBilling_be  PaymentMethod_Bank transfer (automatic)  \\\n",
              "0                    0                                      1.0   \n",
              "1                    1                                      0.0   \n",
              "2                    1                                      1.0   \n",
              "3                    1                                      0.0   \n",
              "4                    1                                      0.0   \n",
              "\n",
              "   PaymentMethod_Electronic check  ...  OnlineSecurity_No internet service  \\\n",
              "0                             0.0  ...                                 0.0   \n",
              "1                             1.0  ...                                 0.0   \n",
              "2                             0.0  ...                                 0.0   \n",
              "3                             0.0  ...                                 0.0   \n",
              "4                             1.0  ...                                 0.0   \n",
              "\n",
              "   StreamingMovies_No  StreamingMovies_Yes  \\\n",
              "0                 1.0                  0.0   \n",
              "1                 0.0                  1.0   \n",
              "2                 1.0                  0.0   \n",
              "3                 1.0                  0.0   \n",
              "4                 1.0                  0.0   \n",
              "\n",
              "   StreamingMovies_No internet service  DeviceProtection_No  \\\n",
              "0                                  0.0                  1.0   \n",
              "1                                  0.0                  0.0   \n",
              "2                                  0.0                  1.0   \n",
              "3                                  0.0                  1.0   \n",
              "4                                  0.0                  1.0   \n",
              "\n",
              "   DeviceProtection_Yes  DeviceProtection_No internet service  \\\n",
              "0                   0.0                                   0.0   \n",
              "1                   1.0                                   0.0   \n",
              "2                   0.0                                   0.0   \n",
              "3                   0.0                                   0.0   \n",
              "4                   0.0                                   0.0   \n",
              "\n",
              "   InternetService_Fiber optic  InternetService_DSL  InternetService_No  \n",
              "0                          1.0                  0.0                 0.0  \n",
              "1                          1.0                  0.0                 0.0  \n",
              "2                          0.0                  1.0                 0.0  \n",
              "3                          0.0                  1.0                 0.0  \n",
              "4                          1.0                  0.0                 0.0  \n",
              "\n",
              "[5 rows x 36 columns]"
            ],
            "text/html": [
              "\n",
              "  <div id=\"df-0c4974a4-4ed6-4181-a4a9-c556113041e5\">\n",
              "    <div class=\"colab-df-container\">\n",
              "      <div>\n",
              "<style scoped>\n",
              "    .dataframe tbody tr th:only-of-type {\n",
              "        vertical-align: middle;\n",
              "    }\n",
              "\n",
              "    .dataframe tbody tr th {\n",
              "        vertical-align: top;\n",
              "    }\n",
              "\n",
              "    .dataframe thead th {\n",
              "        text-align: right;\n",
              "    }\n",
              "</style>\n",
              "<table border=\"1\" class=\"dataframe\">\n",
              "  <thead>\n",
              "    <tr style=\"text-align: right;\">\n",
              "      <th></th>\n",
              "      <th>tenure_power_scaled</th>\n",
              "      <th>TotalCharges_power_scaled</th>\n",
              "      <th>MonthlyCharges_scaled</th>\n",
              "      <th>SeniorCitizen_be</th>\n",
              "      <th>Partner_be</th>\n",
              "      <th>Dependents_be</th>\n",
              "      <th>PhoneService_be</th>\n",
              "      <th>PaperlessBilling_be</th>\n",
              "      <th>PaymentMethod_Bank transfer (automatic)</th>\n",
              "      <th>PaymentMethod_Electronic check</th>\n",
              "      <th>...</th>\n",
              "      <th>OnlineSecurity_No internet service</th>\n",
              "      <th>StreamingMovies_No</th>\n",
              "      <th>StreamingMovies_Yes</th>\n",
              "      <th>StreamingMovies_No internet service</th>\n",
              "      <th>DeviceProtection_No</th>\n",
              "      <th>DeviceProtection_Yes</th>\n",
              "      <th>DeviceProtection_No internet service</th>\n",
              "      <th>InternetService_Fiber optic</th>\n",
              "      <th>InternetService_DSL</th>\n",
              "      <th>InternetService_No</th>\n",
              "    </tr>\n",
              "  </thead>\n",
              "  <tbody>\n",
              "    <tr>\n",
              "      <th>0</th>\n",
              "      <td>-0.037704</td>\n",
              "      <td>0.066415</td>\n",
              "      <td>0.258359</td>\n",
              "      <td>0</td>\n",
              "      <td>1</td>\n",
              "      <td>0</td>\n",
              "      <td>1</td>\n",
              "      <td>0</td>\n",
              "      <td>1.0</td>\n",
              "      <td>0.0</td>\n",
              "      <td>...</td>\n",
              "      <td>0.0</td>\n",
              "      <td>1.0</td>\n",
              "      <td>0.0</td>\n",
              "      <td>0.0</td>\n",
              "      <td>1.0</td>\n",
              "      <td>0.0</td>\n",
              "      <td>0.0</td>\n",
              "      <td>1.0</td>\n",
              "      <td>0.0</td>\n",
              "      <td>0.0</td>\n",
              "    </tr>\n",
              "    <tr>\n",
              "      <th>1</th>\n",
              "      <td>0.504461</td>\n",
              "      <td>0.605726</td>\n",
              "      <td>0.735562</td>\n",
              "      <td>0</td>\n",
              "      <td>1</td>\n",
              "      <td>0</td>\n",
              "      <td>1</td>\n",
              "      <td>1</td>\n",
              "      <td>0.0</td>\n",
              "      <td>1.0</td>\n",
              "      <td>...</td>\n",
              "      <td>0.0</td>\n",
              "      <td>0.0</td>\n",
              "      <td>1.0</td>\n",
              "      <td>0.0</td>\n",
              "      <td>0.0</td>\n",
              "      <td>1.0</td>\n",
              "      <td>0.0</td>\n",
              "      <td>1.0</td>\n",
              "      <td>0.0</td>\n",
              "      <td>0.0</td>\n",
              "    </tr>\n",
              "    <tr>\n",
              "      <th>2</th>\n",
              "      <td>-0.079644</td>\n",
              "      <td>-0.057262</td>\n",
              "      <td>-0.264438</td>\n",
              "      <td>0</td>\n",
              "      <td>1</td>\n",
              "      <td>0</td>\n",
              "      <td>1</td>\n",
              "      <td>1</td>\n",
              "      <td>1.0</td>\n",
              "      <td>0.0</td>\n",
              "      <td>...</td>\n",
              "      <td>0.0</td>\n",
              "      <td>1.0</td>\n",
              "      <td>0.0</td>\n",
              "      <td>0.0</td>\n",
              "      <td>1.0</td>\n",
              "      <td>0.0</td>\n",
              "      <td>0.0</td>\n",
              "      <td>0.0</td>\n",
              "      <td>1.0</td>\n",
              "      <td>0.0</td>\n",
              "    </tr>\n",
              "    <tr>\n",
              "      <th>3</th>\n",
              "      <td>-0.037704</td>\n",
              "      <td>-0.233416</td>\n",
              "      <td>-0.786221</td>\n",
              "      <td>1</td>\n",
              "      <td>1</td>\n",
              "      <td>1</td>\n",
              "      <td>0</td>\n",
              "      <td>1</td>\n",
              "      <td>0.0</td>\n",
              "      <td>0.0</td>\n",
              "      <td>...</td>\n",
              "      <td>0.0</td>\n",
              "      <td>1.0</td>\n",
              "      <td>0.0</td>\n",
              "      <td>0.0</td>\n",
              "      <td>1.0</td>\n",
              "      <td>0.0</td>\n",
              "      <td>0.0</td>\n",
              "      <td>0.0</td>\n",
              "      <td>1.0</td>\n",
              "      <td>0.0</td>\n",
              "    </tr>\n",
              "    <tr>\n",
              "      <th>4</th>\n",
              "      <td>-1.000000</td>\n",
              "      <td>-0.677466</td>\n",
              "      <td>0.141844</td>\n",
              "      <td>0</td>\n",
              "      <td>0</td>\n",
              "      <td>0</td>\n",
              "      <td>1</td>\n",
              "      <td>1</td>\n",
              "      <td>0.0</td>\n",
              "      <td>1.0</td>\n",
              "      <td>...</td>\n",
              "      <td>0.0</td>\n",
              "      <td>1.0</td>\n",
              "      <td>0.0</td>\n",
              "      <td>0.0</td>\n",
              "      <td>1.0</td>\n",
              "      <td>0.0</td>\n",
              "      <td>0.0</td>\n",
              "      <td>1.0</td>\n",
              "      <td>0.0</td>\n",
              "      <td>0.0</td>\n",
              "    </tr>\n",
              "  </tbody>\n",
              "</table>\n",
              "<p>5 rows × 36 columns</p>\n",
              "</div>\n",
              "      <button class=\"colab-df-convert\" onclick=\"convertToInteractive('df-0c4974a4-4ed6-4181-a4a9-c556113041e5')\"\n",
              "              title=\"Convert this dataframe to an interactive table.\"\n",
              "              style=\"display:none;\">\n",
              "        \n",
              "  <svg xmlns=\"http://www.w3.org/2000/svg\" height=\"24px\"viewBox=\"0 0 24 24\"\n",
              "       width=\"24px\">\n",
              "    <path d=\"M0 0h24v24H0V0z\" fill=\"none\"/>\n",
              "    <path d=\"M18.56 5.44l.94 2.06.94-2.06 2.06-.94-2.06-.94-.94-2.06-.94 2.06-2.06.94zm-11 1L8.5 8.5l.94-2.06 2.06-.94-2.06-.94L8.5 2.5l-.94 2.06-2.06.94zm10 10l.94 2.06.94-2.06 2.06-.94-2.06-.94-.94-2.06-.94 2.06-2.06.94z\"/><path d=\"M17.41 7.96l-1.37-1.37c-.4-.4-.92-.59-1.43-.59-.52 0-1.04.2-1.43.59L10.3 9.45l-7.72 7.72c-.78.78-.78 2.05 0 2.83L4 21.41c.39.39.9.59 1.41.59.51 0 1.02-.2 1.41-.59l7.78-7.78 2.81-2.81c.8-.78.8-2.07 0-2.86zM5.41 20L4 18.59l7.72-7.72 1.47 1.35L5.41 20z\"/>\n",
              "  </svg>\n",
              "      </button>\n",
              "      \n",
              "  <style>\n",
              "    .colab-df-container {\n",
              "      display:flex;\n",
              "      flex-wrap:wrap;\n",
              "      gap: 12px;\n",
              "    }\n",
              "\n",
              "    .colab-df-convert {\n",
              "      background-color: #E8F0FE;\n",
              "      border: none;\n",
              "      border-radius: 50%;\n",
              "      cursor: pointer;\n",
              "      display: none;\n",
              "      fill: #1967D2;\n",
              "      height: 32px;\n",
              "      padding: 0 0 0 0;\n",
              "      width: 32px;\n",
              "    }\n",
              "\n",
              "    .colab-df-convert:hover {\n",
              "      background-color: #E2EBFA;\n",
              "      box-shadow: 0px 1px 2px rgba(60, 64, 67, 0.3), 0px 1px 3px 1px rgba(60, 64, 67, 0.15);\n",
              "      fill: #174EA6;\n",
              "    }\n",
              "\n",
              "    [theme=dark] .colab-df-convert {\n",
              "      background-color: #3B4455;\n",
              "      fill: #D2E3FC;\n",
              "    }\n",
              "\n",
              "    [theme=dark] .colab-df-convert:hover {\n",
              "      background-color: #434B5C;\n",
              "      box-shadow: 0px 1px 3px 1px rgba(0, 0, 0, 0.15);\n",
              "      filter: drop-shadow(0px 1px 2px rgba(0, 0, 0, 0.3));\n",
              "      fill: #FFFFFF;\n",
              "    }\n",
              "  </style>\n",
              "\n",
              "      <script>\n",
              "        const buttonEl =\n",
              "          document.querySelector('#df-0c4974a4-4ed6-4181-a4a9-c556113041e5 button.colab-df-convert');\n",
              "        buttonEl.style.display =\n",
              "          google.colab.kernel.accessAllowed ? 'block' : 'none';\n",
              "\n",
              "        async function convertToInteractive(key) {\n",
              "          const element = document.querySelector('#df-0c4974a4-4ed6-4181-a4a9-c556113041e5');\n",
              "          const dataTable =\n",
              "            await google.colab.kernel.invokeFunction('convertToInteractive',\n",
              "                                                     [key], {});\n",
              "          if (!dataTable) return;\n",
              "\n",
              "          const docLinkHtml = 'Like what you see? Visit the ' +\n",
              "            '<a target=\"_blank\" href=https://colab.research.google.com/notebooks/data_table.ipynb>data table notebook</a>'\n",
              "            + ' to learn more about interactive tables.';\n",
              "          element.innerHTML = '';\n",
              "          dataTable['output_type'] = 'display_data';\n",
              "          await google.colab.output.renderOutput(dataTable, element);\n",
              "          const docLink = document.createElement('div');\n",
              "          docLink.innerHTML = docLinkHtml;\n",
              "          element.appendChild(docLink);\n",
              "        }\n",
              "      </script>\n",
              "    </div>\n",
              "  </div>\n",
              "  "
            ]
          },
          "metadata": {},
          "execution_count": 69
        }
      ]
    },
    {
      "cell_type": "markdown",
      "source": [
        "### Feature selection"
      ],
      "metadata": {
        "id": "TG3tzcs0ApBF"
      }
    },
    {
      "cell_type": "code",
      "source": [
        "from sklearn.feature_selection import RFECV\n",
        "\n",
        "model = linear_model.LogisticRegression()\n",
        "\n",
        "selector = RFECV(\n",
        "    estimator=model,\n",
        "    min_features_to_select=3,\n",
        "    scoring=\"f1\",\n",
        "    cv=5,\n",
        ")"
      ],
      "metadata": {
        "id": "kyfjicOB24ZO"
      },
      "execution_count": 70,
      "outputs": []
    },
    {
      "cell_type": "code",
      "source": [
        "selector.fit(X_train_fe, y_train)"
      ],
      "metadata": {
        "colab": {
          "base_uri": "https://localhost:8080/"
        },
        "id": "JAgHvJox6SuN",
        "outputId": "8657a96f-9227-4a19-9b0c-190d0ac17ad7"
      },
      "execution_count": 71,
      "outputs": [
        {
          "output_type": "execute_result",
          "data": {
            "text/plain": [
              "RFECV(cv=5, estimator=LogisticRegression(), min_features_to_select=3,\n",
              "      scoring='f1')"
            ]
          },
          "metadata": {},
          "execution_count": 71
        }
      ]
    },
    {
      "cell_type": "markdown",
      "source": [
        "`.support_` gives a boolean mask with False values for discarded features which we can use to filter the training dataframe"
      ],
      "metadata": {
        "id": "Ye5Nvfg95GgK"
      }
    },
    {
      "cell_type": "code",
      "source": [
        "X_train_fe.columns[selector.support_]"
      ],
      "metadata": {
        "colab": {
          "base_uri": "https://localhost:8080/"
        },
        "id": "tEaP3JUh3llU",
        "outputId": "de2e3ba7-a18c-4d1f-ec72-21a2ebfbb622"
      },
      "execution_count": 72,
      "outputs": [
        {
          "output_type": "execute_result",
          "data": {
            "text/plain": [
              "Index(['tenure_power_scaled', 'TotalCharges_power_scaled', 'SeniorCitizen_be',\n",
              "       'PaperlessBilling_be', 'PaymentMethod_Electronic check',\n",
              "       'MultipleLines_No', 'StreamingTV_Yes',\n",
              "       'OnlineBackup_No internet service', 'TechSupport_No',\n",
              "       'TechSupport_No internet service', 'OnlineSecurity_No',\n",
              "       'InternetService_Fiber optic', 'InternetService_DSL'],\n",
              "      dtype='object')"
            ]
          },
          "metadata": {},
          "execution_count": 72
        }
      ]
    },
    {
      "cell_type": "code",
      "source": [
        "len(X_train_fe.columns[selector.support_])"
      ],
      "metadata": {
        "colab": {
          "base_uri": "https://localhost:8080/"
        },
        "id": "3aGpB1ygi1iP",
        "outputId": "d1df15fb-05e6-487d-cdb4-121487490457"
      },
      "execution_count": 73,
      "outputs": [
        {
          "output_type": "execute_result",
          "data": {
            "text/plain": [
              "13"
            ]
          },
          "metadata": {},
          "execution_count": 73
        }
      ]
    },
    {
      "cell_type": "code",
      "source": [
        "X_train_fe = X_train_fe.loc[:,selector.support_]\n",
        "X_train_fe.head()"
      ],
      "metadata": {
        "colab": {
          "base_uri": "https://localhost:8080/",
          "height": 302
        },
        "id": "kl1-SVmm5QCF",
        "outputId": "715de683-34ab-41fe-eff5-353bcd3f967f"
      },
      "execution_count": 74,
      "outputs": [
        {
          "output_type": "execute_result",
          "data": {
            "text/plain": [
              "   tenure_power_scaled  TotalCharges_power_scaled  SeniorCitizen_be  \\\n",
              "0            -0.037704                   0.066415                 0   \n",
              "1             0.504461                   0.605726                 0   \n",
              "2            -0.079644                  -0.057262                 0   \n",
              "3            -0.037704                  -0.233416                 1   \n",
              "4            -1.000000                  -0.677466                 0   \n",
              "\n",
              "   PaperlessBilling_be  PaymentMethod_Electronic check  MultipleLines_No  \\\n",
              "0                    0                             0.0               1.0   \n",
              "1                    1                             1.0               0.0   \n",
              "2                    1                             0.0               1.0   \n",
              "3                    1                             0.0               0.0   \n",
              "4                    1                             1.0               0.0   \n",
              "\n",
              "   StreamingTV_Yes  OnlineBackup_No internet service  TechSupport_No  \\\n",
              "0              0.0                               0.0             0.0   \n",
              "1              1.0                               0.0             1.0   \n",
              "2              1.0                               0.0             1.0   \n",
              "3              0.0                               0.0             0.0   \n",
              "4              0.0                               0.0             1.0   \n",
              "\n",
              "   TechSupport_No internet service  OnlineSecurity_No  \\\n",
              "0                              0.0                0.0   \n",
              "1                              0.0                1.0   \n",
              "2                              0.0                1.0   \n",
              "3                              0.0                1.0   \n",
              "4                              0.0                1.0   \n",
              "\n",
              "   InternetService_Fiber optic  InternetService_DSL  \n",
              "0                          1.0                  0.0  \n",
              "1                          1.0                  0.0  \n",
              "2                          0.0                  1.0  \n",
              "3                          0.0                  1.0  \n",
              "4                          1.0                  0.0  "
            ],
            "text/html": [
              "\n",
              "  <div id=\"df-cf26b9e9-9703-43a6-aab6-83fc60577684\">\n",
              "    <div class=\"colab-df-container\">\n",
              "      <div>\n",
              "<style scoped>\n",
              "    .dataframe tbody tr th:only-of-type {\n",
              "        vertical-align: middle;\n",
              "    }\n",
              "\n",
              "    .dataframe tbody tr th {\n",
              "        vertical-align: top;\n",
              "    }\n",
              "\n",
              "    .dataframe thead th {\n",
              "        text-align: right;\n",
              "    }\n",
              "</style>\n",
              "<table border=\"1\" class=\"dataframe\">\n",
              "  <thead>\n",
              "    <tr style=\"text-align: right;\">\n",
              "      <th></th>\n",
              "      <th>tenure_power_scaled</th>\n",
              "      <th>TotalCharges_power_scaled</th>\n",
              "      <th>SeniorCitizen_be</th>\n",
              "      <th>PaperlessBilling_be</th>\n",
              "      <th>PaymentMethod_Electronic check</th>\n",
              "      <th>MultipleLines_No</th>\n",
              "      <th>StreamingTV_Yes</th>\n",
              "      <th>OnlineBackup_No internet service</th>\n",
              "      <th>TechSupport_No</th>\n",
              "      <th>TechSupport_No internet service</th>\n",
              "      <th>OnlineSecurity_No</th>\n",
              "      <th>InternetService_Fiber optic</th>\n",
              "      <th>InternetService_DSL</th>\n",
              "    </tr>\n",
              "  </thead>\n",
              "  <tbody>\n",
              "    <tr>\n",
              "      <th>0</th>\n",
              "      <td>-0.037704</td>\n",
              "      <td>0.066415</td>\n",
              "      <td>0</td>\n",
              "      <td>0</td>\n",
              "      <td>0.0</td>\n",
              "      <td>1.0</td>\n",
              "      <td>0.0</td>\n",
              "      <td>0.0</td>\n",
              "      <td>0.0</td>\n",
              "      <td>0.0</td>\n",
              "      <td>0.0</td>\n",
              "      <td>1.0</td>\n",
              "      <td>0.0</td>\n",
              "    </tr>\n",
              "    <tr>\n",
              "      <th>1</th>\n",
              "      <td>0.504461</td>\n",
              "      <td>0.605726</td>\n",
              "      <td>0</td>\n",
              "      <td>1</td>\n",
              "      <td>1.0</td>\n",
              "      <td>0.0</td>\n",
              "      <td>1.0</td>\n",
              "      <td>0.0</td>\n",
              "      <td>1.0</td>\n",
              "      <td>0.0</td>\n",
              "      <td>1.0</td>\n",
              "      <td>1.0</td>\n",
              "      <td>0.0</td>\n",
              "    </tr>\n",
              "    <tr>\n",
              "      <th>2</th>\n",
              "      <td>-0.079644</td>\n",
              "      <td>-0.057262</td>\n",
              "      <td>0</td>\n",
              "      <td>1</td>\n",
              "      <td>0.0</td>\n",
              "      <td>1.0</td>\n",
              "      <td>1.0</td>\n",
              "      <td>0.0</td>\n",
              "      <td>1.0</td>\n",
              "      <td>0.0</td>\n",
              "      <td>1.0</td>\n",
              "      <td>0.0</td>\n",
              "      <td>1.0</td>\n",
              "    </tr>\n",
              "    <tr>\n",
              "      <th>3</th>\n",
              "      <td>-0.037704</td>\n",
              "      <td>-0.233416</td>\n",
              "      <td>1</td>\n",
              "      <td>1</td>\n",
              "      <td>0.0</td>\n",
              "      <td>0.0</td>\n",
              "      <td>0.0</td>\n",
              "      <td>0.0</td>\n",
              "      <td>0.0</td>\n",
              "      <td>0.0</td>\n",
              "      <td>1.0</td>\n",
              "      <td>0.0</td>\n",
              "      <td>1.0</td>\n",
              "    </tr>\n",
              "    <tr>\n",
              "      <th>4</th>\n",
              "      <td>-1.000000</td>\n",
              "      <td>-0.677466</td>\n",
              "      <td>0</td>\n",
              "      <td>1</td>\n",
              "      <td>1.0</td>\n",
              "      <td>0.0</td>\n",
              "      <td>0.0</td>\n",
              "      <td>0.0</td>\n",
              "      <td>1.0</td>\n",
              "      <td>0.0</td>\n",
              "      <td>1.0</td>\n",
              "      <td>1.0</td>\n",
              "      <td>0.0</td>\n",
              "    </tr>\n",
              "  </tbody>\n",
              "</table>\n",
              "</div>\n",
              "      <button class=\"colab-df-convert\" onclick=\"convertToInteractive('df-cf26b9e9-9703-43a6-aab6-83fc60577684')\"\n",
              "              title=\"Convert this dataframe to an interactive table.\"\n",
              "              style=\"display:none;\">\n",
              "        \n",
              "  <svg xmlns=\"http://www.w3.org/2000/svg\" height=\"24px\"viewBox=\"0 0 24 24\"\n",
              "       width=\"24px\">\n",
              "    <path d=\"M0 0h24v24H0V0z\" fill=\"none\"/>\n",
              "    <path d=\"M18.56 5.44l.94 2.06.94-2.06 2.06-.94-2.06-.94-.94-2.06-.94 2.06-2.06.94zm-11 1L8.5 8.5l.94-2.06 2.06-.94-2.06-.94L8.5 2.5l-.94 2.06-2.06.94zm10 10l.94 2.06.94-2.06 2.06-.94-2.06-.94-.94-2.06-.94 2.06-2.06.94z\"/><path d=\"M17.41 7.96l-1.37-1.37c-.4-.4-.92-.59-1.43-.59-.52 0-1.04.2-1.43.59L10.3 9.45l-7.72 7.72c-.78.78-.78 2.05 0 2.83L4 21.41c.39.39.9.59 1.41.59.51 0 1.02-.2 1.41-.59l7.78-7.78 2.81-2.81c.8-.78.8-2.07 0-2.86zM5.41 20L4 18.59l7.72-7.72 1.47 1.35L5.41 20z\"/>\n",
              "  </svg>\n",
              "      </button>\n",
              "      \n",
              "  <style>\n",
              "    .colab-df-container {\n",
              "      display:flex;\n",
              "      flex-wrap:wrap;\n",
              "      gap: 12px;\n",
              "    }\n",
              "\n",
              "    .colab-df-convert {\n",
              "      background-color: #E8F0FE;\n",
              "      border: none;\n",
              "      border-radius: 50%;\n",
              "      cursor: pointer;\n",
              "      display: none;\n",
              "      fill: #1967D2;\n",
              "      height: 32px;\n",
              "      padding: 0 0 0 0;\n",
              "      width: 32px;\n",
              "    }\n",
              "\n",
              "    .colab-df-convert:hover {\n",
              "      background-color: #E2EBFA;\n",
              "      box-shadow: 0px 1px 2px rgba(60, 64, 67, 0.3), 0px 1px 3px 1px rgba(60, 64, 67, 0.15);\n",
              "      fill: #174EA6;\n",
              "    }\n",
              "\n",
              "    [theme=dark] .colab-df-convert {\n",
              "      background-color: #3B4455;\n",
              "      fill: #D2E3FC;\n",
              "    }\n",
              "\n",
              "    [theme=dark] .colab-df-convert:hover {\n",
              "      background-color: #434B5C;\n",
              "      box-shadow: 0px 1px 3px 1px rgba(0, 0, 0, 0.15);\n",
              "      filter: drop-shadow(0px 1px 2px rgba(0, 0, 0, 0.3));\n",
              "      fill: #FFFFFF;\n",
              "    }\n",
              "  </style>\n",
              "\n",
              "      <script>\n",
              "        const buttonEl =\n",
              "          document.querySelector('#df-cf26b9e9-9703-43a6-aab6-83fc60577684 button.colab-df-convert');\n",
              "        buttonEl.style.display =\n",
              "          google.colab.kernel.accessAllowed ? 'block' : 'none';\n",
              "\n",
              "        async function convertToInteractive(key) {\n",
              "          const element = document.querySelector('#df-cf26b9e9-9703-43a6-aab6-83fc60577684');\n",
              "          const dataTable =\n",
              "            await google.colab.kernel.invokeFunction('convertToInteractive',\n",
              "                                                     [key], {});\n",
              "          if (!dataTable) return;\n",
              "\n",
              "          const docLinkHtml = 'Like what you see? Visit the ' +\n",
              "            '<a target=\"_blank\" href=https://colab.research.google.com/notebooks/data_table.ipynb>data table notebook</a>'\n",
              "            + ' to learn more about interactive tables.';\n",
              "          element.innerHTML = '';\n",
              "          dataTable['output_type'] = 'display_data';\n",
              "          await google.colab.output.renderOutput(dataTable, element);\n",
              "          const docLink = document.createElement('div');\n",
              "          docLink.innerHTML = docLinkHtml;\n",
              "          element.appendChild(docLink);\n",
              "        }\n",
              "      </script>\n",
              "    </div>\n",
              "  </div>\n",
              "  "
            ]
          },
          "metadata": {},
          "execution_count": 74
        }
      ]
    },
    {
      "cell_type": "markdown",
      "source": [
        "## Model training"
      ],
      "metadata": {
        "id": "OGlpeCfHAiKy"
      }
    },
    {
      "cell_type": "code",
      "source": [
        "from sklearn.model_selection import GridSearchCV\n",
        "\n",
        "# Define grid\n",
        "parameters = {'class_weight': [None, 'balanced'], 'solver':['newton-cg', 'lbfgs', 'liblinear', 'sag', 'saga']}\n",
        "\n",
        "model = linear_model.LogisticRegression(fit_intercept = True, max_iter = 1000)\n",
        "\n",
        "grid_search = GridSearchCV(model, parameters, cv = k, scoring = \"f1\")\n",
        "grid_search.fit(X_train_fe, y_train)"
      ],
      "metadata": {
        "colab": {
          "base_uri": "https://localhost:8080/"
        },
        "id": "PZ5ushEDAl0a",
        "outputId": "21ec7c3e-8330-41a5-8554-4513587cc20b"
      },
      "execution_count": 75,
      "outputs": [
        {
          "output_type": "execute_result",
          "data": {
            "text/plain": [
              "GridSearchCV(cv=5, estimator=LogisticRegression(max_iter=1000),\n",
              "             param_grid={'class_weight': [None, 'balanced'],\n",
              "                         'solver': ['newton-cg', 'lbfgs', 'liblinear', 'sag',\n",
              "                                    'saga']},\n",
              "             scoring='f1')"
            ]
          },
          "metadata": {},
          "execution_count": 75
        }
      ]
    },
    {
      "cell_type": "code",
      "source": [
        "pd.DataFrame((grid_search.cv_results_)).sort_values(\"rank_test_score\").head()"
      ],
      "metadata": {
        "colab": {
          "base_uri": "https://localhost:8080/",
          "height": 455
        },
        "id": "lxWf0GquAlw1",
        "outputId": "d05a1f17-b955-434a-b3f0-b27829d8c289"
      },
      "execution_count": 76,
      "outputs": [
        {
          "output_type": "execute_result",
          "data": {
            "text/plain": [
              "   mean_fit_time  std_fit_time  mean_score_time  std_score_time  \\\n",
              "7       0.011341      0.000409         0.004914        0.000324   \n",
              "5       0.045943      0.004648         0.004618        0.000288   \n",
              "6       0.033448      0.003209         0.005488        0.001765   \n",
              "8       0.026163      0.004999         0.003391        0.000155   \n",
              "9       0.044173      0.001219         0.003378        0.000202   \n",
              "\n",
              "  param_class_weight param_solver  \\\n",
              "7           balanced    liblinear   \n",
              "5           balanced    newton-cg   \n",
              "6           balanced        lbfgs   \n",
              "8           balanced          sag   \n",
              "9           balanced         saga   \n",
              "\n",
              "                                              params  split0_test_score  \\\n",
              "7  {'class_weight': 'balanced', 'solver': 'liblin...           0.646749   \n",
              "5  {'class_weight': 'balanced', 'solver': 'newton...           0.649123   \n",
              "6    {'class_weight': 'balanced', 'solver': 'lbfgs'}           0.649123   \n",
              "8      {'class_weight': 'balanced', 'solver': 'sag'}           0.649123   \n",
              "9     {'class_weight': 'balanced', 'solver': 'saga'}           0.649123   \n",
              "\n",
              "   split1_test_score  split2_test_score  split3_test_score  split4_test_score  \\\n",
              "7           0.663102           0.677656           0.696915           0.660714   \n",
              "5           0.661922           0.673993           0.696915           0.660714   \n",
              "6           0.661922           0.673993           0.696915           0.660714   \n",
              "8           0.661922           0.673993           0.696915           0.660714   \n",
              "9           0.661922           0.673993           0.696915           0.660714   \n",
              "\n",
              "   mean_test_score  std_test_score  rank_test_score  \n",
              "7         0.669027        0.017045                1  \n",
              "5         0.668533        0.016229                2  \n",
              "6         0.668533        0.016229                2  \n",
              "8         0.668533        0.016229                2  \n",
              "9         0.668533        0.016229                2  "
            ],
            "text/html": [
              "\n",
              "  <div id=\"df-bf818022-ef1f-4c1a-99e8-a5a8c0cf2f42\">\n",
              "    <div class=\"colab-df-container\">\n",
              "      <div>\n",
              "<style scoped>\n",
              "    .dataframe tbody tr th:only-of-type {\n",
              "        vertical-align: middle;\n",
              "    }\n",
              "\n",
              "    .dataframe tbody tr th {\n",
              "        vertical-align: top;\n",
              "    }\n",
              "\n",
              "    .dataframe thead th {\n",
              "        text-align: right;\n",
              "    }\n",
              "</style>\n",
              "<table border=\"1\" class=\"dataframe\">\n",
              "  <thead>\n",
              "    <tr style=\"text-align: right;\">\n",
              "      <th></th>\n",
              "      <th>mean_fit_time</th>\n",
              "      <th>std_fit_time</th>\n",
              "      <th>mean_score_time</th>\n",
              "      <th>std_score_time</th>\n",
              "      <th>param_class_weight</th>\n",
              "      <th>param_solver</th>\n",
              "      <th>params</th>\n",
              "      <th>split0_test_score</th>\n",
              "      <th>split1_test_score</th>\n",
              "      <th>split2_test_score</th>\n",
              "      <th>split3_test_score</th>\n",
              "      <th>split4_test_score</th>\n",
              "      <th>mean_test_score</th>\n",
              "      <th>std_test_score</th>\n",
              "      <th>rank_test_score</th>\n",
              "    </tr>\n",
              "  </thead>\n",
              "  <tbody>\n",
              "    <tr>\n",
              "      <th>7</th>\n",
              "      <td>0.011341</td>\n",
              "      <td>0.000409</td>\n",
              "      <td>0.004914</td>\n",
              "      <td>0.000324</td>\n",
              "      <td>balanced</td>\n",
              "      <td>liblinear</td>\n",
              "      <td>{'class_weight': 'balanced', 'solver': 'liblin...</td>\n",
              "      <td>0.646749</td>\n",
              "      <td>0.663102</td>\n",
              "      <td>0.677656</td>\n",
              "      <td>0.696915</td>\n",
              "      <td>0.660714</td>\n",
              "      <td>0.669027</td>\n",
              "      <td>0.017045</td>\n",
              "      <td>1</td>\n",
              "    </tr>\n",
              "    <tr>\n",
              "      <th>5</th>\n",
              "      <td>0.045943</td>\n",
              "      <td>0.004648</td>\n",
              "      <td>0.004618</td>\n",
              "      <td>0.000288</td>\n",
              "      <td>balanced</td>\n",
              "      <td>newton-cg</td>\n",
              "      <td>{'class_weight': 'balanced', 'solver': 'newton...</td>\n",
              "      <td>0.649123</td>\n",
              "      <td>0.661922</td>\n",
              "      <td>0.673993</td>\n",
              "      <td>0.696915</td>\n",
              "      <td>0.660714</td>\n",
              "      <td>0.668533</td>\n",
              "      <td>0.016229</td>\n",
              "      <td>2</td>\n",
              "    </tr>\n",
              "    <tr>\n",
              "      <th>6</th>\n",
              "      <td>0.033448</td>\n",
              "      <td>0.003209</td>\n",
              "      <td>0.005488</td>\n",
              "      <td>0.001765</td>\n",
              "      <td>balanced</td>\n",
              "      <td>lbfgs</td>\n",
              "      <td>{'class_weight': 'balanced', 'solver': 'lbfgs'}</td>\n",
              "      <td>0.649123</td>\n",
              "      <td>0.661922</td>\n",
              "      <td>0.673993</td>\n",
              "      <td>0.696915</td>\n",
              "      <td>0.660714</td>\n",
              "      <td>0.668533</td>\n",
              "      <td>0.016229</td>\n",
              "      <td>2</td>\n",
              "    </tr>\n",
              "    <tr>\n",
              "      <th>8</th>\n",
              "      <td>0.026163</td>\n",
              "      <td>0.004999</td>\n",
              "      <td>0.003391</td>\n",
              "      <td>0.000155</td>\n",
              "      <td>balanced</td>\n",
              "      <td>sag</td>\n",
              "      <td>{'class_weight': 'balanced', 'solver': 'sag'}</td>\n",
              "      <td>0.649123</td>\n",
              "      <td>0.661922</td>\n",
              "      <td>0.673993</td>\n",
              "      <td>0.696915</td>\n",
              "      <td>0.660714</td>\n",
              "      <td>0.668533</td>\n",
              "      <td>0.016229</td>\n",
              "      <td>2</td>\n",
              "    </tr>\n",
              "    <tr>\n",
              "      <th>9</th>\n",
              "      <td>0.044173</td>\n",
              "      <td>0.001219</td>\n",
              "      <td>0.003378</td>\n",
              "      <td>0.000202</td>\n",
              "      <td>balanced</td>\n",
              "      <td>saga</td>\n",
              "      <td>{'class_weight': 'balanced', 'solver': 'saga'}</td>\n",
              "      <td>0.649123</td>\n",
              "      <td>0.661922</td>\n",
              "      <td>0.673993</td>\n",
              "      <td>0.696915</td>\n",
              "      <td>0.660714</td>\n",
              "      <td>0.668533</td>\n",
              "      <td>0.016229</td>\n",
              "      <td>2</td>\n",
              "    </tr>\n",
              "  </tbody>\n",
              "</table>\n",
              "</div>\n",
              "      <button class=\"colab-df-convert\" onclick=\"convertToInteractive('df-bf818022-ef1f-4c1a-99e8-a5a8c0cf2f42')\"\n",
              "              title=\"Convert this dataframe to an interactive table.\"\n",
              "              style=\"display:none;\">\n",
              "        \n",
              "  <svg xmlns=\"http://www.w3.org/2000/svg\" height=\"24px\"viewBox=\"0 0 24 24\"\n",
              "       width=\"24px\">\n",
              "    <path d=\"M0 0h24v24H0V0z\" fill=\"none\"/>\n",
              "    <path d=\"M18.56 5.44l.94 2.06.94-2.06 2.06-.94-2.06-.94-.94-2.06-.94 2.06-2.06.94zm-11 1L8.5 8.5l.94-2.06 2.06-.94-2.06-.94L8.5 2.5l-.94 2.06-2.06.94zm10 10l.94 2.06.94-2.06 2.06-.94-2.06-.94-.94-2.06-.94 2.06-2.06.94z\"/><path d=\"M17.41 7.96l-1.37-1.37c-.4-.4-.92-.59-1.43-.59-.52 0-1.04.2-1.43.59L10.3 9.45l-7.72 7.72c-.78.78-.78 2.05 0 2.83L4 21.41c.39.39.9.59 1.41.59.51 0 1.02-.2 1.41-.59l7.78-7.78 2.81-2.81c.8-.78.8-2.07 0-2.86zM5.41 20L4 18.59l7.72-7.72 1.47 1.35L5.41 20z\"/>\n",
              "  </svg>\n",
              "      </button>\n",
              "      \n",
              "  <style>\n",
              "    .colab-df-container {\n",
              "      display:flex;\n",
              "      flex-wrap:wrap;\n",
              "      gap: 12px;\n",
              "    }\n",
              "\n",
              "    .colab-df-convert {\n",
              "      background-color: #E8F0FE;\n",
              "      border: none;\n",
              "      border-radius: 50%;\n",
              "      cursor: pointer;\n",
              "      display: none;\n",
              "      fill: #1967D2;\n",
              "      height: 32px;\n",
              "      padding: 0 0 0 0;\n",
              "      width: 32px;\n",
              "    }\n",
              "\n",
              "    .colab-df-convert:hover {\n",
              "      background-color: #E2EBFA;\n",
              "      box-shadow: 0px 1px 2px rgba(60, 64, 67, 0.3), 0px 1px 3px 1px rgba(60, 64, 67, 0.15);\n",
              "      fill: #174EA6;\n",
              "    }\n",
              "\n",
              "    [theme=dark] .colab-df-convert {\n",
              "      background-color: #3B4455;\n",
              "      fill: #D2E3FC;\n",
              "    }\n",
              "\n",
              "    [theme=dark] .colab-df-convert:hover {\n",
              "      background-color: #434B5C;\n",
              "      box-shadow: 0px 1px 3px 1px rgba(0, 0, 0, 0.15);\n",
              "      filter: drop-shadow(0px 1px 2px rgba(0, 0, 0, 0.3));\n",
              "      fill: #FFFFFF;\n",
              "    }\n",
              "  </style>\n",
              "\n",
              "      <script>\n",
              "        const buttonEl =\n",
              "          document.querySelector('#df-bf818022-ef1f-4c1a-99e8-a5a8c0cf2f42 button.colab-df-convert');\n",
              "        buttonEl.style.display =\n",
              "          google.colab.kernel.accessAllowed ? 'block' : 'none';\n",
              "\n",
              "        async function convertToInteractive(key) {\n",
              "          const element = document.querySelector('#df-bf818022-ef1f-4c1a-99e8-a5a8c0cf2f42');\n",
              "          const dataTable =\n",
              "            await google.colab.kernel.invokeFunction('convertToInteractive',\n",
              "                                                     [key], {});\n",
              "          if (!dataTable) return;\n",
              "\n",
              "          const docLinkHtml = 'Like what you see? Visit the ' +\n",
              "            '<a target=\"_blank\" href=https://colab.research.google.com/notebooks/data_table.ipynb>data table notebook</a>'\n",
              "            + ' to learn more about interactive tables.';\n",
              "          element.innerHTML = '';\n",
              "          dataTable['output_type'] = 'display_data';\n",
              "          await google.colab.output.renderOutput(dataTable, element);\n",
              "          const docLink = document.createElement('div');\n",
              "          docLink.innerHTML = docLinkHtml;\n",
              "          element.appendChild(docLink);\n",
              "        }\n",
              "      </script>\n",
              "    </div>\n",
              "  </div>\n",
              "  "
            ]
          },
          "metadata": {},
          "execution_count": 76
        }
      ]
    },
    {
      "cell_type": "markdown",
      "source": [
        "Train on all training data"
      ],
      "metadata": {
        "id": "roBqqMdpBd86"
      }
    },
    {
      "cell_type": "code",
      "source": [
        "best_model = grid_search.best_estimator_\n",
        "\n",
        "# Train model on full training set\n",
        "best_model.fit(X_train_fe, y_train)"
      ],
      "metadata": {
        "colab": {
          "base_uri": "https://localhost:8080/"
        },
        "id": "cJ81-AY-AlqX",
        "outputId": "37be4269-900f-41a5-9767-2474edbb4d9a"
      },
      "execution_count": 77,
      "outputs": [
        {
          "output_type": "execute_result",
          "data": {
            "text/plain": [
              "LogisticRegression(class_weight='balanced', max_iter=1000, solver='liblinear')"
            ]
          },
          "metadata": {},
          "execution_count": 77
        }
      ]
    },
    {
      "cell_type": "markdown",
      "source": [
        "Plot feature importance"
      ],
      "metadata": {
        "id": "K48VYQZUBkdf"
      }
    },
    {
      "cell_type": "code",
      "source": [
        "# Feature Importance\n",
        "feature_importance_df = pd.DataFrame({\"Feature\": list(X_train_fe.columns), \"Coefficient\": best_model.coef_[0]})\n",
        "feature_importance_df.sort_values(\"Coefficient\").plot.bar(x = \"Feature\", y=\"Coefficient\")"
      ],
      "metadata": {
        "colab": {
          "base_uri": "https://localhost:8080/",
          "height": 456
        },
        "id": "HhB00s1tBAYZ",
        "outputId": "d65b2e01-dcd3-4d35-c17d-c317a36e14a1"
      },
      "execution_count": 78,
      "outputs": [
        {
          "output_type": "execute_result",
          "data": {
            "text/plain": [
              "<matplotlib.axes._subplots.AxesSubplot at 0x7f30501f5b10>"
            ]
          },
          "metadata": {},
          "execution_count": 78
        },
        {
          "output_type": "display_data",
          "data": {
            "text/plain": [
              "<Figure size 432x288 with 1 Axes>"
            ],
            "image/png": "[encoded data removed]"
          },
          "metadata": {
            "needs_background": "light"
          }
        }
      ]
    },
    {
      "cell_type": "code",
      "source": [
        "from sklearn.metrics import confusion_matrix, ConfusionMatrixDisplay\n",
        "y_pred = best_model.predict(X_train_fe)\n",
        "\n",
        "cm = confusion_matrix(y_train, y_pred, labels = best_model.classes_)\n",
        "plt = ConfusionMatrixDisplay(confusion_matrix=cm, display_labels=best_model .classes_)\n",
        "plt.plot(cmap = \"Blues\");"
      ],
      "metadata": {
        "colab": {
          "base_uri": "https://localhost:8080/",
          "height": 279
        },
        "id": "FjUPksGAjw4v",
        "outputId": "676ed249-8a06-4e0a-cd35-9ccb0718f371"
      },
      "execution_count": 79,
      "outputs": [
        {
          "output_type": "display_data",
          "data": {
            "text/plain": [
              "<Figure size 432x288 with 2 Axes>"
            ],
            "image/png": "[encoded data removed]"
          },
          "metadata": {
            "needs_background": "light"
          }
        }
      ]
    },
    {
      "cell_type": "markdown",
      "source": [
        "## Model evaluation"
      ],
      "metadata": {
        "id": "pnM5xKCgJLVN"
      }
    },
    {
      "cell_type": "markdown",
      "source": [
        "Inference pipeline"
      ],
      "metadata": {
        "id": "eX4u7yp1EROc"
      }
    },
    {
      "cell_type": "code",
      "source": [
        "# Numeric features\n",
        "X_test[['tenure_power', 'TotalCharges_power']] = power_transform(X_test[['tenure', 'TotalCharges']], method='box-cox')\n",
        "\n",
        "for column in ['tenure_power', 'TotalCharges_power', 'MonthlyCharges']:\n",
        "  max = X_train[column].max() # keep stats from training\n",
        "  min = X_train[column].min() # keep stats from training\n",
        "  new_col = str(column + \"_scaled\")\n",
        "  X_test[new_col] = X_test[column].apply(lambda x: ab_scaler(x =x, a=-1, b=1, max_x = max, min_x = min))\n",
        "  \n",
        "numeric_features_test = X_test.filter(regex='_scaled', axis=1).reset_index(drop = True)\n",
        "  \n",
        "# Categorical features\n",
        "for column in binary_cols:\n",
        "  new_col = str(column + \"_be\")\n",
        "  X_test[new_col] = encoder.fit_transform(X_test[column])\n",
        "  \n",
        "binary_features_test = X_test.filter(regex='_be', axis=1).reset_index(drop = True)\n",
        "\n",
        "onehot_encoder = OneHotEncoder(sparse=False, categories = categories) # same categories as in training\n",
        "multiclass_features_test = onehot_encoder.fit_transform(X_test[multiclass_cols])\n",
        "multiclass_features_test = pd.DataFrame(multiclass_features_test, columns=onehot_encoder.get_feature_names_out())\n",
        "X_test_fe = pd.concat([numeric_features_test, binary_features_test, multiclass_features_test], axis = 1)\n",
        "X_test_fe = X_test_fe.loc[:,selector.support_]\n"
      ],
      "metadata": {
        "id": "J-C2rAwLCbZG"
      },
      "execution_count": 80,
      "outputs": []
    },
    {
      "cell_type": "markdown",
      "source": [
        "### Evaluation"
      ],
      "metadata": {
        "id": "BIaPiE2FIy7I"
      }
    },
    {
      "cell_type": "code",
      "source": [
        "# Calculate F1-Score for test set\n",
        "y_pred = best_model.predict(X_test_fe)\n",
        "f1_score(y_test, y_pred)"
      ],
      "metadata": {
        "colab": {
          "base_uri": "https://localhost:8080/"
        },
        "id": "NvyzEKqrHew5",
        "outputId": "26c8ad40-b8bf-4c9c-d990-8cc502a09581"
      },
      "execution_count": 81,
      "outputs": [
        {
          "output_type": "execute_result",
          "data": {
            "text/plain": [
              "0.6704545454545455"
            ]
          },
          "metadata": {},
          "execution_count": 81
        }
      ]
    }
  ]
}